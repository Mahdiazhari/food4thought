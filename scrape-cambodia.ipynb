{
 "cells": [
  {
   "cell_type": "code",
   "execution_count": 2,
   "metadata": {},
   "outputs": [],
   "source": [
    "import pandas as pd\n",
    "from  util.cambodia.cambodiarecipe import CambodiaRecipe"
   ]
  },
  {
   "cell_type": "code",
   "execution_count": 3,
   "metadata": {},
   "outputs": [],
   "source": [
    "attrs = {\n",
    "        'name':         'name',\n",
    "        'ingredients':  'recipeIngredient',\n",
    "        'total_time':   'totalTime',\n",
    "        'instructions': 'recipeInstructions',\n",
    "        'servings':     'recipeYield',\n",
    "        'category':     'recipeCategory',\n",
    "        'prep_time':    'prepTime',\n",
    "        'cook_time':    'cookTime',\n",
    "}\n",
    "available_json = {'xpath' : \"normalize-space(//script[@type='application/ld+json'][contains(text(), 'recipeIngredient')])\"}\n",
    "#seeds = ['https://mykoreankitchen.com/recipes/#recipes+p:100']\n",
    "seeds = ['https://www.cambodiarecipe.com/cuisine/cambodian/?sort=date']\n",
    "listing={'items': '//h3[@class=\"rcps-item-title\"]//a/@href', 'next': { 'next_page_str': '', 'type': 'url'}}"
   ]
  },
  {
   "cell_type": "code",
   "execution_count": null,
   "metadata": {},
   "outputs": [],
   "source": [
    "custom_header_template = { #setup custom header because this website requires certain headers\n",
    "        'referer': 'https://www.cambodiarecipe.com/cuisine/cambodian/?sort=date',\n",
    "        'Accept-Language': '*',\n",
    "        'Accept-Encoding': '*', \n",
    "        'sec-ch-ua': '\" Not A;Brand\";v=\"99\", \"Chromium\";v=\"100\", \"Google Chrome\";v=\"100\"',\n",
    "        'sec-fetch-site' : 'same-origin',\n",
    "        #'cookie': '_ga=GA1.2.1978438003.1649681893; cb-enabled=enabled; _gid=GA1.2.1870821735.1650271735; ao-fpgad=%7B%22fpcRequired%22%3Afalse%2C%22checkTS%22%3A1650271735392%2C%22domain%22%3A%22lauralaurentiu.ro%22%7D; __gads=ID=3dd1ab9c6ddf9fc9-2289c17b2ed20094:T=1649681893:RT=1650271783:S=ALNI_MbZpRpmkjwza5LhQQ1HkGR0H4wMjQ',\n",
    "        'user-agent': ''}"
   ]
  },
  {
   "cell_type": "code",
   "execution_count": 4,
   "metadata": {},
   "outputs": [
    {
     "ename": "NameError",
     "evalue": "name 'custom_header_template' is not defined",
     "output_type": "error",
     "traceback": [
      "\u001b[0;31m---------------------------------------------------------------------------\u001b[0m",
      "\u001b[0;31mNameError\u001b[0m                                 Traceback (most recent call last)",
      "\u001b[1;32m/Users/mahdiazhari/world-bank/scrape-cambodia.ipynb Cell 4'\u001b[0m in \u001b[0;36m<cell line: 1>\u001b[0;34m()\u001b[0m\n\u001b[0;32m----> <a href='vscode-notebook-cell:/Users/mahdiazhari/world-bank/scrape-cambodia.ipynb#ch0000003?line=0'>1</a>\u001b[0m cambodia_spider \u001b[39m=\u001b[39m CambodiaRecipe(\u001b[39m'\u001b[39m\u001b[39mhttps://mykoreankitchen.com\u001b[39m\u001b[39m'\u001b[39m, seeds, listing,attrs, available_json\u001b[39m=\u001b[39mavailable_json, header\u001b[39m=\u001b[39mcustom_header_template)\n",
      "\u001b[0;31mNameError\u001b[0m: name 'custom_header_template' is not defined"
     ]
    }
   ],
   "source": [
    "cambodia_spider = CambodiaRecipe('https://www.cambodiarecipe.com', seeds, listing,attrs, available_json=available_json, header=custom_header_template)"
   ]
  },
  {
   "cell_type": "code",
   "execution_count": null,
   "metadata": {},
   "outputs": [],
   "source": []
  }
 ],
 "metadata": {
  "interpreter": {
   "hash": "7f97af7b90ec3405e1f66aa9bfad4ba40234615df6d29df3ef268808d6a9feec"
  },
  "kernelspec": {
   "display_name": "Python 3.9.1 ('wb-scraping': venv)",
   "language": "python",
   "name": "python3"
  },
  "language_info": {
   "codemirror_mode": {
    "name": "ipython",
    "version": 3
   },
   "file_extension": ".py",
   "mimetype": "text/x-python",
   "name": "python",
   "nbconvert_exporter": "python",
   "pygments_lexer": "ipython3",
   "version": "3.9.1"
  },
  "orig_nbformat": 4
 },
 "nbformat": 4,
 "nbformat_minor": 2
}
