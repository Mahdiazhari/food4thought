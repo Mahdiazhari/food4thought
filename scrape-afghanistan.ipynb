{
 "cells": [
  {
   "cell_type": "code",
   "execution_count": 6,
   "metadata": {},
   "outputs": [],
   "source": [
    "from util.spider import Spider\n",
    "import pandas as pd"
   ]
  },
  {
   "cell_type": "code",
   "execution_count": 7,
   "metadata": {},
   "outputs": [],
   "source": [
    "attrs = {\n",
    "        'name':         'normalize-space(//h2[@itemprop=\"name\"])',\n",
    "        'ingredients':  '//li[@class=\"ingredient\"]//text()',\n",
    "        'total_time':   '//li[@class=\"ready-in\"]/span[@class=\"value\"]//text()',\n",
    "        'instructions': '//p[@class=\"instructions\"]//text()',\n",
    "        'servings':     '//li[@class=\"servings\"]/span[@class=\"value\"]//text() | //li[@class=\"yield\"]/span[@class=\"value\"]//text() ',\n",
    "        'category':     '',\n",
    "        'prep_time':    '//li[@class=\"prep-time\"]/span[@class=\"value\"]//text()',\n",
    "        'cook_time':    '//li[@class=\"cook-time\"]/span[@class=\"value\"]//text()',\n",
    "}\n",
    "\n",
    "listing={'items': '//div[@class=\"recipe-info\"]/h2/a/@href', 'next': { 'next_page_str': 'page/{}/', 'type': 'url'}}\n",
    "seeds = {'http://www.afghankitchenrecipes.com/recent-recipes/'}\n",
    "available_json= {}"
   ]
  },
  {
   "cell_type": "code",
   "execution_count": 8,
   "metadata": {},
   "outputs": [],
   "source": [
    "#setup variables\n",
    "\n",
    "custom_header = { #setup custom header because romania requires certain headers\n",
    "        'referer': 'http://www.afghankitchenrecipes.com/recipe/norinj-palau-rice-with-orange/',\n",
    "        'Accept-Language': '*',\n",
    "        'Accept-Encoding': '*',\n",
    "        'Accept': '*',\n",
    "        'user-agent':''}\n",
    "afghan_spider = Spider('http://www.afghankitchenrecipes.com', seeds= seeds, listing =listing,attrs= attrs, header=custom_header, available_json=available_json)\n",
    "\n"
   ]
  },
  {
   "cell_type": "code",
   "execution_count": 9,
   "metadata": {},
   "outputs": [
    {
     "data": {
      "text/plain": [
       "{'name': 'Norinj Palau (Rice with orange)',\n",
       " 'total_time': '2:10 h',\n",
       " 'ingredients': ['450 g long grain white rice, preferably basmati',\n",
       "  '75 ml vegetable oil',\n",
       "  '2 medium onions, chopped',\n",
       "  '1 medium chicken or 700–900 g lamb on the bone cut in pieces',\n",
       "  '570 ml water, plus 110 ml water',\n",
       "  'peel of 1 large orange',\n",
       "  '50 g sugar',\n",
       "  '50 g blanched and flaked almonds',\n",
       "  '50 g blanched and flaked pistachios',\n",
       "  '½ tsp saffron or egg yellow food colour  (optional)',\n",
       "  '25 ml rosewater (optional)',\n",
       "  '1 tsp ground green or white cardamom seeds  (optional)',\n",
       "  'salt and pepper'],\n",
       " 'instructions': ['Measure out the rice and rinse several times until the water remains clear.',\n",
       "  'Add fresh water and leave the rice to soak for at least half an hour.',\n",
       "  'Heat the oil and add the chopped onions.',\n",
       "  'Stir and fry them over a medium to high heat until golden brown and soft. ',\n",
       "  'Add the meat and fry until brown, turning frequently. ',\n",
       "  'Add 570 ml of water, salt and pepper and cook gently until the meat is tender.',\n",
       "  'While the meat is cooking, wash and cut up the zest of a large orange into matchstick-sized pieces, removing as much pith as possible. ',\n",
       "  'To remove any bitter taste, put the orange strips into a strainer and dip first in boiling water and then in cold.',\n",
       "  'Repeat this several times. Set aside.',\n",
       "  'Make a syrup by bringing to the boil 110 ml of water and the 50 g of sugar. Add the orange peel, the flaked almonds and pistachios to the boiling syrup.',\n",
       "  'Boil for about 5 minutes, skimming off the thick froth when necessary. Strain and set aside the peel and nuts.',\n",
       "  'Add the saffron and rosewater to the syrup and boil again gently for another 3 minutes.',\n",
       "  'To cook the rice, strain the chicken stock (setting the meat to one side), and add the syrup.',\n",
       "  'Make the syrup and stock up to 570 ml by adding extra water if necessary.',\n",
       "  'The oil will be on the surface of the stock and this should also be included in the cooking of the rice. ',\n",
       "  'Bring the liquid to the boil in a large casserole. Drain the rice and then add it to the boiling liquid.',\n",
       "  'Add salt, the nuts and the peel, reserving about a third for garnishing.',\n",
       "  'Bring back to the boil, then cover with a tightly fitting lid, turn down the heat to medium and boil for about 10 minutes until the rice is tender and all the liquid is absorbed.',\n",
       "  'Add the meat, the remaining peel and nuts on top of the rice and cover with a tightly fitting lid. Put into a preheated oven – 150°C (300°F, mark 2) – for 20–30 minutes. Or cook over a very low heat for the same length of time.',\n",
       "  'When serving, place the meat in the centre of a large dish, mound the rice over the top and then garnish with the reserved orange peel and nuts.'],\n",
       " 'servings': '4',\n",
       " 'category': '',\n",
       " 'prep_time': '10m',\n",
       " 'cook_time': '2:0 h'}"
      ]
     },
     "execution_count": 9,
     "metadata": {},
     "output_type": "execute_result"
    }
   ],
   "source": [
    "afghan_spider.scrape_one_item('http://www.afghankitchenrecipes.com/recipe/norinj-palau-rice-with-orange/') #try out scraping one item"
   ]
  },
  {
   "cell_type": "code",
   "execution_count": 10,
   "metadata": {},
   "outputs": [
    {
     "data": {
      "text/plain": [
       "{'name': 'Nan-E-Parata (Sweet fried bread)',\n",
       " 'total_time': '40m',\n",
       " 'ingredients': ['560 g plain white flour, sifted ',\n",
       "  '1½ tsp salt ',\n",
       "  '1 packet fast-acting yeast',\n",
       "  '275 ml lukewarm water',\n",
       "  '12 tbs oil, plus more for deep-frying ',\n",
       "  '50 g icing sugar'],\n",
       " 'instructions': ['Sift the flour with the salt and mix in the yeast. ',\n",
       "  'Add the water a little at a time and mix to form a firm dough. ',\n",
       "  'Knead the dough until it is smooth and elastic, shape it into a ball and leave it, covered, in a bowl for about half an hour.',\n",
       "  'Divide the dough into 4 balls, and again divide each of these into 4, making 16 altogether.',\n",
       "  'On a lightly floured board roll each ball in turn into a disk no thicker than 1.5 mm. Then, using a pastry brush, brush 1 tablespoon of oil over 3 disks and stack them on top of each other topping with a fourth. ',\n",
       "  'Press down lightly with a rolling pin. ',\n",
       "  'Each stack should not be more than 5 mm thick. ',\n",
       "  'Repeat, making 4 breads in all.',\n",
       "  'Heat enough vegetable oil in a large frying-pan and deep-fry the breads over a medium to high heat, one at a time, until light brown. ',\n",
       "  'They should not be too crisp. ',\n",
       "  'Remove and drain. ',\n",
       "  'Sift the icing sugar over the hot breads, on both sides.'],\n",
       " 'servings': '4',\n",
       " 'category': '',\n",
       " 'prep_time': '30m',\n",
       " 'cook_time': '10m'}"
      ]
     },
     "execution_count": 10,
     "metadata": {},
     "output_type": "execute_result"
    }
   ],
   "source": [
    "afghan_spider.scrape_one_item('http://www.afghankitchenrecipes.com/recipe/nan-e-parata-sweet-fried-bread/') #try out scraping one item"
   ]
  },
  {
   "cell_type": "code",
   "execution_count": null,
   "metadata": {},
   "outputs": [],
   "source": [
    "result_list = afghan_spider.start_scrape()"
   ]
  },
  {
   "cell_type": "code",
   "execution_count": null,
   "metadata": {},
   "outputs": [],
   "source": []
  },
  {
   "cell_type": "code",
   "execution_count": null,
   "metadata": {},
   "outputs": [],
   "source": []
  }
 ],
 "metadata": {
  "interpreter": {
   "hash": "7f97af7b90ec3405e1f66aa9bfad4ba40234615df6d29df3ef268808d6a9feec"
  },
  "kernelspec": {
   "display_name": "Python 3.9.1 ('wb-scraping': venv)",
   "language": "python",
   "name": "python3"
  },
  "language_info": {
   "codemirror_mode": {
    "name": "ipython",
    "version": 3
   },
   "file_extension": ".py",
   "mimetype": "text/x-python",
   "name": "python",
   "nbconvert_exporter": "python",
   "pygments_lexer": "ipython3",
   "version": "3.9.1"
  },
  "orig_nbformat": 4
 },
 "nbformat": 4,
 "nbformat_minor": 2
}
