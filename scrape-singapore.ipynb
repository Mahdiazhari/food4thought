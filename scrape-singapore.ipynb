{
 "cells": [
  {
   "cell_type": "code",
   "execution_count": 1,
   "metadata": {},
   "outputs": [],
   "source": [
    "from util.spider import Spider\n",
    "import pandas as pd"
   ]
  },
  {
   "cell_type": "code",
   "execution_count": 3,
   "metadata": {},
   "outputs": [],
   "source": [
    "attrs = {\n",
    "        'name':         'normalize-space(//title)',\n",
    "        'ingredients':  '//div[contains(@class,\"ch-st-ingredients\")]/ul/li/p//text()',\n",
    "        'total_time':   '',\n",
    "        'instructions': '//div[contains(@class,\"ch-st-methods\")]/ol/li//text()',\n",
    "        'servings':     'normalize-space(//li[@class=\"serve\"]/span)',\n",
    "        'category':     '',\n",
    "        'prep_time':    'normalize-space(//li[@class=\"prev\"]/span//text()[1])',\n",
    "        'cook_time':    'normalize-space(//li[@class=\"prev\"]/span//text()[2])',\n",
    "}\n",
    "available_json = {}\n",
    "seeds = ['http://mysingaporefood.com/recipes']\n",
    "listing={'items': '//div[@class=\"brands-listing\"]/ul//li/div/a/@href', 'next': { 'next_page_str': '/page/{}', 'type': 'url'}}\n"
   ]
  },
  {
   "cell_type": "code",
   "execution_count": 4,
   "metadata": {},
   "outputs": [],
   "source": [
    "my_sg_food = Spider('http://mysingaporefood.com', seeds, listing,attrs, available_json=available_json,)"
   ]
  },
  {
   "cell_type": "code",
   "execution_count": 5,
   "metadata": {},
   "outputs": [
    {
     "data": {
      "text/plain": [
       "{'name': \"Mama's Ayam Buah Keluak - My Singapore Food\",\n",
       " 'total_time': '',\n",
       " 'ingredients': ['50 pcs buah keluak seeds',\n",
       "  '2kg chicken thigh, with bone in',\n",
       "  '50g fresh leng kuas',\n",
       "  '4 stalks lemongrass',\n",
       "  '250g candlenuts',\n",
       "  '250g shallots peeled',\n",
       "  '60g ginger, peeled',\n",
       "  '80g garlic, peeled',\n",
       "  '2 pkts assam (tamarind paste)',\n",
       "  'Half a lemon',\n",
       "  '2 tsp brown sugar',\n",
       "  '4 cups chicken stock',\n",
       "  '3 tbs salt'],\n",
       " 'instructions': ['Scrub the seeds in water.',\n",
       "  'Change the water and soak.',\n",
       "  'For best results, repeat over 3 days.',\n",
       "  'Crack open the buah keluak shells at the top. Set the shells aside for use later.',\n",
       "  'Scrape the meat out of the buah keluak.',\n",
       "  'Marinate the buah keluak meat with juice of half a lemon and brown sugar for a few minutes.',\n",
       "  'Pound the buah keluak meat in pestle & mortar till it becomes a smooth paste.',\n",
       "  'Stuff the paste back into the buah keluak shells.',\n",
       "  'Blend ginger, shallots and garlic separately.',\n",
       "  'Remove the skin from the leng kuas and cut into smaller pieces, then blend.',\n",
       "  'Remove the tough outer layers from the lemon grass, leaving only the tender middle and cut to about one-inch in length, then blend.',\n",
       "  'Soak the candlenuts in water for about 10 minutes. Discard water and blend the candlenuts to a paste.',\n",
       "  'Heat oil in wok.',\n",
       "  'Add the garlic, followed by ginger. Saute till fragrant.',\n",
       "  'Add in the leng kuas and lemongrass, and continue frying.',\n",
       "  'Add in the shallots till fragrant, then add the candlenut paste.',\n",
       "  'Saute for a few more minutes and add the chicken pieces, making sure the chicken is coated well with the rempah.',\n",
       "  'Add half of the juice of assam to the chicken, followed by the buah keluak.',\n",
       "  'Pour in the other half of the juice of assam and simmer.',\n",
       "  'Serve with steamed rice.'],\n",
       " 'servings': 'Serves 8-10',\n",
       " 'category': '',\n",
       " 'prep_time': 'Prep : 1-2 hours',\n",
       " 'cook_time': 'Cook : 20 mins'}"
      ]
     },
     "execution_count": 5,
     "metadata": {},
     "output_type": "execute_result"
    }
   ],
   "source": [
    "my_sg_food.scrape_one_item('http://mysingaporefood.com/recipe/mamas-ayam-buah-keluak/')"
   ]
  },
  {
   "cell_type": "code",
   "execution_count": null,
   "metadata": {},
   "outputs": [],
   "source": [
    "result_list = my_sg_food.start_scrape()"
   ]
  }
 ],
 "metadata": {
  "interpreter": {
   "hash": "7f97af7b90ec3405e1f66aa9bfad4ba40234615df6d29df3ef268808d6a9feec"
  },
  "kernelspec": {
   "display_name": "Python 3.9.1 ('wb-scraping': venv)",
   "language": "python",
   "name": "python3"
  },
  "language_info": {
   "codemirror_mode": {
    "name": "ipython",
    "version": 3
   },
   "file_extension": ".py",
   "mimetype": "text/x-python",
   "name": "python",
   "nbconvert_exporter": "python",
   "pygments_lexer": "ipython3",
   "version": "3.9.1"
  },
  "orig_nbformat": 4
 },
 "nbformat": 4,
 "nbformat_minor": 2
}
