{
 "cells": [
  {
   "cell_type": "code",
   "execution_count": 27,
   "metadata": {},
   "outputs": [],
   "source": [
    "import pandas as pd\n",
    "from util.spider import Spider\n",
    "import requests\n",
    "from selenium import webdriver\n",
    "from selenium.webdriver.common.keys import Keys"
   ]
  },
  {
   "cell_type": "code",
   "execution_count": 28,
   "metadata": {},
   "outputs": [],
   "source": [
    "custom_header_template = { #setup custom header because cookpad website requires certain headers\n",
    "        'referer': 'https://cookpad.com/us/search/cameroon?event=search.typed_query',\n",
    "        'origin': 'https://cookpad.com',\n",
    "        'Accept-Language': 'en-US,en;q=0.9',\n",
    "        'Accept-Encoding': 'gzip, deflate, br', \n",
    "        #'sec-ch-ua': '\" Not A;Brand\";v=\"99\", \"Chromium\";v=\"100\", \"Google Chrome\";v=\"100\"',\n",
    "        #'sec-fetch-site' : 'same-origin',\n",
    "        #use cookies from a login session\n",
    "       'cookie' : USE_LOCAL_COOKIE,\n",
    "        'user-agent': ''}"
   ]
  },
  {
   "cell_type": "code",
   "execution_count": 29,
   "metadata": {},
   "outputs": [],
   "source": [
    "attrs = {\n",
    "        'name':         'normalize-space(//h1[@itemprop=\"name\"]//text())',\n",
    "        'ingredients':  '//div[@itemprop=\"ingredients\"]//text()',\n",
    "        'total_time':   'normalize-space(//span[@class=\"px-rg\"]/span[@class=\"mise-icon-text\"]//text())',\n",
    "        'instructions': '//div[@itemprop=\"recipeInstructions\"]//text()',\n",
    "        'servings':     'normalize-space(//meta[@itemprop=\"recipeYield\"]/@content)',\n",
    "        'category':     '',\n",
    "        'prep_time':    '',\n",
    "        'cook_time':    '',\n",
    "}\n",
    "available_json = {}\n",
    "#seeds = ['https://mykoreankitchen.com/recipes/#recipes+p:100']\n",
    "seeds = ['https://cookpad.com/us/search/cameroon?event=search.typed_query']\n",
    "listing={'items': '//a[@class=\"block-link__main\"]/@href', 'next': { 'next_page_str': '&page={}', 'type': 'url'}}"
   ]
  },
  {
   "cell_type": "code",
   "execution_count": 24,
   "metadata": {},
   "outputs": [],
   "source": [
    "custom_header_template2 = { #setup custom header because this website requires certain headers\n",
    "        'referer': 'https://cookpad.com/us/search/cameroon?event=search.typed_query',\n",
    "        'origin': 'https://cookpad.com',\n",
    "        'Accept-Language': 'en-US,en;q=0.9',\n",
    "        'Accept-Encoding': 'gzip, deflate, br', \n",
    "        #'sec-ch-ua': '\" Not A;Brand\";v=\"99\", \"Chromium\";v=\"100\", \"Google Chrome\";v=\"100\"',\n",
    "        #'sec-fetch-site' : 'same-origin',\n",
    "        'cookie': 'cpb=00n2toar063f244f8c702e26b0ebf7ae4c7258aa34e3c4fc5v; bid=00n2toar063f244f8c702e26b0ebf7ae4c7258aa34e3c4fc5v; v=345-1445247-8210694; FVD=%7Bts+%272022-04-21+20%3A25%3A35%27%7D; f_unique_id=2cad4a71-1593-4856-a4f4-bf2bcd6f7434; user_type=0; has_kitchen=0; trial_type=0; _flux_dataharbor=1; LVD=1650540336; _ga=GA1.2.1917300079.1650540337; adblock-installed=false; cto_bundle=Coap719lOXBOWjUxYmolMkZvYyUyQjZOVlQxV1pWaUdrcGxycjhwaUlCVTNrbGlSY0xTUXNTeSUyQnhmRWowM05oUngwOXpsSncxZE9vZjJEUGEySHAlMkZSTiUyQmVRakRCNlNzQWhoY3NyRU1OUHN6THFwbHh1Mk9RRCUyRkNENkx3UUhkcm9Fc1lhc21IR08yJTJGSHBzbVI5ZEx0QXlqam5VZE1LZ3YzQlJTU3R4UHU0TVA0ZjFwZ0NCZWtRMiUyQlBvTGhFWXNyc1cyaVFqV1g2; ab_session=0.0049135829680873044; _pxvid=d40de027-c165-11ec-8c76-526372715656; keyword_history_ar=%5B%22%D8%A7%D9%84%D8%A8%D8%AD%D8%B1%D9%8A%D9%86%22%5D; __gads=ID=d8aaa1d14d1d5dc8-22bcf0df7bcd0027:T=1650540337:RT=1650540449:S=ALNI_MZcqIj6ZcEz-6Ovu2Qnekdp1FimQQ; seen_bookmark_reminder=true; keyword_history_en=%5B%22cameroon%22%5D; pxcts=4bd47991-d44e-11ec-a7dc-797448495758; _global_web_session=0Ni%2BP0DOdceqhYNWJInbzb1hM7mpIlCcxsmmDzQ9ewWRCyTeFu3DROXDN7QNvteCuULEphutTI3EtYDxVbRCRwu9As4hosyZxOTOkXlPLkOwia0MB32zVSmV1hYDnKnk43moJ6HgtvzKlG%2FbDsdNmF3gLHj019crzHoP5n%2B4d0IYsxpJ%2BZ9Ib6j4PhAHMNQeZDuUOYWCikNXY5zRDuqH9pLsZuuC6jpR6WQGHh0tvGo8RcTuzBf8xzb%2BuVFFTU5EPgqoAcOrBtMZCAHlZJyCKGhD3BVzkNE30qj7ofAkdpegSvTtPQJ7ldy2jrIJfsj2wcKUJl%2BVTSYL4o%2FRv0Pu--Vk2SjB7%2Bt98TxU1k--l4MJ7CZxFOsHb7owVx5ZmQ%3D%3D; _pxhd=ZZ15p9ZMyBiPM3596SLq0LHYQuP1ZCQuvOgrVYzlyhJyOPzrKvINpSyyhwputcEuhrhIMkCZUTCSVjUWzRFKvg==:COC2BaSKatwTe69yP2/ktUVKs1fTdli0WaFH9MZo09LSnRXKTk3Y885DaRiO6Ne14uGkaPso9dWYPki6q1EldEAP29x0HJRN73BlCmn-Eks=',\n",
    "        }"
   ]
  },
  {
   "cell_type": "code",
   "execution_count": null,
   "metadata": {},
   "outputs": [],
   "source": [
    "url = \"https://cookpad.com/us/login\"\n",
    "driver = webdriver.Chrome()\n",
    "driver.get(url)\n",
    "u = driver.find_element_by_name('userName')\n",
    "u.send_keys('xxxxxxxxx')\n",
    "p = driver.find_element_by_name('password')\n",
    "p.send_keys('yyyyyyyyy')\n",
    "p.send_keys(Keys.RETURN)"
   ]
  },
  {
   "cell_type": "code",
   "execution_count": 26,
   "metadata": {},
   "outputs": [
    {
     "name": "stdout",
     "output_type": "stream",
     "text": [
      "403\n"
     ]
    }
   ],
   "source": [
    "login_url = 'https://cookpad.com/us/login'\n",
    "data = {'identity_authentication_identity':'mahdi.austian@gmail.com', 'password': 'Barceloneta251'}\n",
    "session = requests.Session()\n",
    "r = session.post(login_url, headers=custom_header_template2, data=data)\n",
    "print(r.status_code)  "
   ]
  },
  {
   "cell_type": "code",
   "execution_count": 30,
   "metadata": {},
   "outputs": [],
   "source": [
    "cookpad_spider = Spider('https://cookpad.com', seeds, listing,attrs, available_json=available_json, header=custom_header_template)"
   ]
  },
  {
   "cell_type": "code",
   "execution_count": 31,
   "metadata": {},
   "outputs": [
    {
     "data": {
      "text/plain": [
       "{'name': 'Gangaria(crispy fried fish)',\n",
       " 'total_time': '',\n",
       " 'ingredients': ['\\n        ',\n",
       "  '1/2 cup',\n",
       "  ' Flour -\\n        \\n      ',\n",
       "  '\\n        ',\n",
       "  '1/2 cup',\n",
       "  ' Corn flour -\\n        \\n      ',\n",
       "  '\\n        ',\n",
       "  ' Fish of your choice\\n        \\n      ',\n",
       "  '\\n        ',\n",
       "  ' Salt\\n        \\n      ',\n",
       "  '\\n        ',\n",
       "  ' Cameroon pepper\\n        \\n      ',\n",
       "  '\\n        ',\n",
       "  ' Dry pepper\\n        \\n      ',\n",
       "  '\\n        ',\n",
       "  ' Oil for deep frying pans\\n        \\n      '],\n",
       " 'instructions': ['\\n        ',\n",
       "  'You need 3 bowls\\n',\n",
       "  '1. Flour\\n',\n",
       "  '2. Cornflour\\n',\n",
       "  '3 egg\\n',\n",
       "  'In your cornflour and flour add in salt, pepper and Cameroon pepper\\n',\n",
       "  'You can add Maggi and other spices if you wish.....',\n",
       "  '\\n        \\n      ',\n",
       "  '\\n        ',\n",
       "  'Ensure you have washed and drain the water out of your fish\\n',\n",
       "  'You can marinate or skip the process\\n',\n",
       "  \"I didn't marinate my fish\",\n",
       "  '\\n        \\n      ',\n",
       "  '\\n        ',\n",
       "  'Dip the fish in all- purpose flour, remove the excess, then place it in the egg, remove the excess then place it into the cornflour',\n",
       "  '\\n        \\n      ',\n",
       "  '\\n        ',\n",
       "  'Fry on a medium heat',\n",
       "  '\\n        \\n      '],\n",
       " 'servings': '3 servings',\n",
       " 'category': '',\n",
       " 'prep_time': '',\n",
       " 'cook_time': ''}"
      ]
     },
     "execution_count": 31,
     "metadata": {},
     "output_type": "execute_result"
    }
   ],
   "source": [
    "cookpad_spider.scrape_one_item('https://cookpad.com/us/recipes/14883073-gangariacrispy-fried-fish')"
   ]
  },
  {
   "cell_type": "code",
   "execution_count": 32,
   "metadata": {},
   "outputs": [
    {
     "name": "stdout",
     "output_type": "stream",
     "text": [
      "spider is scraping page: 1\n",
      "spider is scraping page: 2\n",
      "spider is scraping page: 3\n",
      "spider is scraping page: 4\n",
      "spider is scraping page: 5\n",
      "spider is scraping page: 6\n",
      "spider is scraping page: 7\n",
      "spider is scraping page: 8\n"
     ]
    }
   ],
   "source": [
    "result_list = cookpad_spider.start_scrape(max_pages=8, multithread=False)"
   ]
  },
  {
   "cell_type": "code",
   "execution_count": 33,
   "metadata": {},
   "outputs": [],
   "source": [
    "df = pd.DataFrame(result_list)"
   ]
  },
  {
   "cell_type": "code",
   "execution_count": 34,
   "metadata": {},
   "outputs": [
    {
     "data": {
      "text/html": [
       "<div>\n",
       "<style scoped>\n",
       "    .dataframe tbody tr th:only-of-type {\n",
       "        vertical-align: middle;\n",
       "    }\n",
       "\n",
       "    .dataframe tbody tr th {\n",
       "        vertical-align: top;\n",
       "    }\n",
       "\n",
       "    .dataframe thead th {\n",
       "        text-align: right;\n",
       "    }\n",
       "</style>\n",
       "<table border=\"1\" class=\"dataframe\">\n",
       "  <thead>\n",
       "    <tr style=\"text-align: right;\">\n",
       "      <th></th>\n",
       "      <th>name</th>\n",
       "      <th>total_time</th>\n",
       "      <th>ingredients</th>\n",
       "      <th>instructions</th>\n",
       "      <th>servings</th>\n",
       "      <th>category</th>\n",
       "      <th>prep_time</th>\n",
       "      <th>cook_time</th>\n",
       "    </tr>\n",
       "  </thead>\n",
       "  <tbody>\n",
       "    <tr>\n",
       "      <th>0</th>\n",
       "      <td>Cameroon Ndole</td>\n",
       "      <td>1hr:15mns</td>\n",
       "      <td>[\\n        , 3 cups,  washed bitter or non bit...</td>\n",
       "      <td>[\\n        , Soak the peanuts in water for abo...</td>\n",
       "      <td></td>\n",
       "      <td></td>\n",
       "      <td></td>\n",
       "      <td></td>\n",
       "    </tr>\n",
       "    <tr>\n",
       "      <th>1</th>\n",
       "      <td>Cameroon: suja</td>\n",
       "      <td></td>\n",
       "      <td>[\\n        , 500 g,  thin cut steak\\n        \\...</td>\n",
       "      <td>[\\n        , Mix all the dry ingredients toget...</td>\n",
       "      <td></td>\n",
       "      <td></td>\n",
       "      <td></td>\n",
       "      <td></td>\n",
       "    </tr>\n",
       "    <tr>\n",
       "      <th>2</th>\n",
       "      <td>Afang Soup</td>\n",
       "      <td>1hr 20 mins</td>\n",
       "      <td>[\\n        , 1 kg,  beef\\n        \\n      , \\n...</td>\n",
       "      <td>[\\n        , Wash and boil your beef, soft cow...</td>\n",
       "      <td>10 servings</td>\n",
       "      <td></td>\n",
       "      <td></td>\n",
       "      <td></td>\n",
       "    </tr>\n",
       "    <tr>\n",
       "      <th>3</th>\n",
       "      <td>White soup special</td>\n",
       "      <td>1 hour</td>\n",
       "      <td>[\\n        ,  Cow Kanda (with goat meat kanda)...</td>\n",
       "      <td>[\\n        , Cut, peel and boil the yam🍠 and w...</td>\n",
       "      <td>5 people</td>\n",
       "      <td></td>\n",
       "      <td></td>\n",
       "      <td></td>\n",
       "    </tr>\n",
       "    <tr>\n",
       "      <th>4</th>\n",
       "      <td>Best okra soup</td>\n",
       "      <td></td>\n",
       "      <td>[\\n        , 2,  Onion\\n        \\n      , \\n  ...</td>\n",
       "      <td>[\\n        , Blend half onion, crayfish, 2 yel...</td>\n",
       "      <td>5 or 6 servings</td>\n",
       "      <td></td>\n",
       "      <td></td>\n",
       "      <td></td>\n",
       "    </tr>\n",
       "    <tr>\n",
       "      <th>...</th>\n",
       "      <td>...</td>\n",
       "      <td>...</td>\n",
       "      <td>...</td>\n",
       "      <td>...</td>\n",
       "      <td>...</td>\n",
       "      <td>...</td>\n",
       "      <td>...</td>\n",
       "      <td>...</td>\n",
       "    </tr>\n",
       "    <tr>\n",
       "      <th>142</th>\n",
       "      <td>Dodo and eggs</td>\n",
       "      <td></td>\n",
       "      <td>[\\n        , 2,  big plantains\\n        \\n    ...</td>\n",
       "      <td>[\\n        , Slice and salt plantains.. Head s...</td>\n",
       "      <td></td>\n",
       "      <td></td>\n",
       "      <td></td>\n",
       "      <td></td>\n",
       "    </tr>\n",
       "    <tr>\n",
       "      <th>143</th>\n",
       "      <td>Palm oil rice with mackerel</td>\n",
       "      <td></td>\n",
       "      <td>[\\n        , 1 cup,  rice\\n        \\n      , \\...</td>\n",
       "      <td>[\\n        , Clean and was fish in hot water, ...</td>\n",
       "      <td></td>\n",
       "      <td></td>\n",
       "      <td></td>\n",
       "      <td></td>\n",
       "    </tr>\n",
       "    <tr>\n",
       "      <th>144</th>\n",
       "      <td>Puff puff (Cameroon 🇨🇲)</td>\n",
       "      <td>40 minutes</td>\n",
       "      <td>[\\n        , 375 g,  flour\\n        \\n      , ...</td>\n",
       "      <td>[\\n        , Mix yeast together with warm wate...</td>\n",
       "      <td>2 people</td>\n",
       "      <td></td>\n",
       "      <td></td>\n",
       "      <td></td>\n",
       "    </tr>\n",
       "    <tr>\n",
       "      <th>145</th>\n",
       "      <td>Cameroon Water fufu and Eru</td>\n",
       "      <td>55minutes</td>\n",
       "      <td>[\\n        ,  Water fufu\\n        \\n      , \\n...</td>\n",
       "      <td>[\\n        , Wash the vegetables separately an...</td>\n",
       "      <td></td>\n",
       "      <td></td>\n",
       "      <td></td>\n",
       "      <td></td>\n",
       "    </tr>\n",
       "    <tr>\n",
       "      <th>146</th>\n",
       "      <td>Gizz dodo in Veggie sauce served with peppers ...</td>\n",
       "      <td></td>\n",
       "      <td>[\\n        , 1 cup,  rice\\n        \\n      , \\...</td>\n",
       "      <td>[\\n        , Wash and season gizzard with salt...</td>\n",
       "      <td></td>\n",
       "      <td></td>\n",
       "      <td></td>\n",
       "      <td></td>\n",
       "    </tr>\n",
       "  </tbody>\n",
       "</table>\n",
       "<p>147 rows × 8 columns</p>\n",
       "</div>"
      ],
      "text/plain": [
       "                                                  name   total_time  \\\n",
       "0                                       Cameroon Ndole    1hr:15mns   \n",
       "1                                       Cameroon: suja                \n",
       "2                                           Afang Soup  1hr 20 mins   \n",
       "3                                   White soup special       1 hour   \n",
       "4                                       Best okra soup                \n",
       "..                                                 ...          ...   \n",
       "142                                      Dodo and eggs                \n",
       "143                        Palm oil rice with mackerel                \n",
       "144                            Puff puff (Cameroon 🇨🇲)   40 minutes   \n",
       "145                        Cameroon Water fufu and Eru    55minutes   \n",
       "146  Gizz dodo in Veggie sauce served with peppers ...                \n",
       "\n",
       "                                           ingredients  \\\n",
       "0    [\\n        , 3 cups,  washed bitter or non bit...   \n",
       "1    [\\n        , 500 g,  thin cut steak\\n        \\...   \n",
       "2    [\\n        , 1 kg,  beef\\n        \\n      , \\n...   \n",
       "3    [\\n        ,  Cow Kanda (with goat meat kanda)...   \n",
       "4    [\\n        , 2,  Onion\\n        \\n      , \\n  ...   \n",
       "..                                                 ...   \n",
       "142  [\\n        , 2,  big plantains\\n        \\n    ...   \n",
       "143  [\\n        , 1 cup,  rice\\n        \\n      , \\...   \n",
       "144  [\\n        , 375 g,  flour\\n        \\n      , ...   \n",
       "145  [\\n        ,  Water fufu\\n        \\n      , \\n...   \n",
       "146  [\\n        , 1 cup,  rice\\n        \\n      , \\...   \n",
       "\n",
       "                                          instructions         servings  \\\n",
       "0    [\\n        , Soak the peanuts in water for abo...                    \n",
       "1    [\\n        , Mix all the dry ingredients toget...                    \n",
       "2    [\\n        , Wash and boil your beef, soft cow...      10 servings   \n",
       "3    [\\n        , Cut, peel and boil the yam🍠 and w...         5 people   \n",
       "4    [\\n        , Blend half onion, crayfish, 2 yel...  5 or 6 servings   \n",
       "..                                                 ...              ...   \n",
       "142  [\\n        , Slice and salt plantains.. Head s...                    \n",
       "143  [\\n        , Clean and was fish in hot water, ...                    \n",
       "144  [\\n        , Mix yeast together with warm wate...         2 people   \n",
       "145  [\\n        , Wash the vegetables separately an...                    \n",
       "146  [\\n        , Wash and season gizzard with salt...                    \n",
       "\n",
       "    category prep_time cook_time  \n",
       "0                                 \n",
       "1                                 \n",
       "2                                 \n",
       "3                                 \n",
       "4                                 \n",
       "..       ...       ...       ...  \n",
       "142                               \n",
       "143                               \n",
       "144                               \n",
       "145                               \n",
       "146                               \n",
       "\n",
       "[147 rows x 8 columns]"
      ]
     },
     "execution_count": 34,
     "metadata": {},
     "output_type": "execute_result"
    }
   ],
   "source": [
    "df"
   ]
  },
  {
   "cell_type": "code",
   "execution_count": 35,
   "metadata": {},
   "outputs": [],
   "source": [
    "df.to_csv('data/cameroon/cameroon.csv')"
   ]
  },
  {
   "cell_type": "code",
   "execution_count": null,
   "metadata": {},
   "outputs": [],
   "source": [
    "\n"
   ]
  }
 ],
 "metadata": {
  "interpreter": {
   "hash": "7f97af7b90ec3405e1f66aa9bfad4ba40234615df6d29df3ef268808d6a9feec"
  },
  "kernelspec": {
   "display_name": "Python 3.9.1 ('wb-scraping': venv)",
   "language": "python",
   "name": "python3"
  },
  "language_info": {
   "codemirror_mode": {
    "name": "ipython",
    "version": 3
   },
   "file_extension": ".py",
   "mimetype": "text/x-python",
   "name": "python",
   "nbconvert_exporter": "python",
   "pygments_lexer": "ipython3",
   "version": "3.9.1"
  },
  "orig_nbformat": 4
 },
 "nbformat": 4,
 "nbformat_minor": 2
}
