{
 "cells": [
  {
   "cell_type": "code",
   "execution_count": 1,
   "metadata": {},
   "outputs": [],
   "source": [
    "import pandas as pd\n",
    "\n",
    "from  util.spider import Spider"
   ]
  },
  {
   "cell_type": "code",
   "execution_count": 2,
   "metadata": {},
   "outputs": [],
   "source": [
    "attrs = {\n",
    "        'name':         'normalize-space(//h1[@class=\"entry-title\"]//text())',\n",
    "       'ingredients': '//div[@class=\"sestavine-wraper\"]//text()',\n",
    "        'total_time':   '',\n",
    "        'instructions': ['//div[@class=\"postopek-wraper\"]//text()', '//div[@itemprop=\"recipeInstructions\"]//text()', '//span[@itemprop=\"recipeInstructions\"]//text()'],\n",
    "        'servings':     '//div[@class=\"col-md-4\"][3]//span//text()[1]',\n",
    "        'category':     '',\n",
    "        'prep_time':    '//div[@class=\"col-md-4\"][1]//span//text()[1]',\n",
    "        'cook_time':    '//div[@class=\"col-md-4\"][2]//span//text()[1]',\n",
    "}\n",
    "available_json={}\n",
    "listing={'items': '//h3[@class=\"entry-title\"]//a/@href', 'next': { 'next_page_str': 'page/{}/', 'type': 'url'}}\n",
    "seeds = ['https://www.aninakuhinja.si/kategorija_receptov/slovenski-tradicionalni-recepti/']\n"
   ]
  },
  {
   "cell_type": "code",
   "execution_count": 3,
   "metadata": {},
   "outputs": [],
   "source": [
    "custom_header = { #setup custom header for russian script\n",
    "        'referer': 'https://www.google.com/',\n",
    "        'Accept-Language': '*',\n",
    "        'Accept-Encoding': '*',\n",
    "        'Accept': '*',\n",
    "        'user-agent':''}"
   ]
  },
  {
   "cell_type": "code",
   "execution_count": null,
   "metadata": {},
   "outputs": [],
   "source": [
    "slovenia_spider= Spider('https://www.aninakuhinja.si', seeds= seeds, listing =listing,attrs= attrs, available_json=available_json,header=custom_header)"
   ]
  }
 ],
 "metadata": {
  "interpreter": {
   "hash": "7f97af7b90ec3405e1f66aa9bfad4ba40234615df6d29df3ef268808d6a9feec"
  },
  "kernelspec": {
   "display_name": "Python 3.9.1 ('wb-scraping': venv)",
   "language": "python",
   "name": "python3"
  },
  "language_info": {
   "codemirror_mode": {
    "name": "ipython",
    "version": 3
   },
   "file_extension": ".py",
   "mimetype": "text/x-python",
   "name": "python",
   "nbconvert_exporter": "python",
   "pygments_lexer": "ipython3",
   "version": "3.9.1"
  },
  "orig_nbformat": 4
 },
 "nbformat": 4,
 "nbformat_minor": 2
}
