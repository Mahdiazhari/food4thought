{
 "cells": [
  {
   "cell_type": "code",
   "execution_count": 1,
   "metadata": {},
   "outputs": [],
   "source": [
    "import pandas as pd\n",
    "\n",
    "from  util.spider import Spider"
   ]
  },
  {
   "cell_type": "code",
   "execution_count": 2,
   "metadata": {},
   "outputs": [],
   "source": [
    "attrs = {\n",
    "        'name'       :  'name',\n",
    "        'ingredients':  'recipeIngredient',\n",
    "        'total_time':   'totalTime',\n",
    "        'instructions': 'recipeInstructions',\n",
    "        'servings':     'recipeYield',\n",
    "        'category':     'recipeCategory',\n",
    "        'prep_time':    'prepTime',\n",
    "        'cook_time':    'cookTime',\n",
    "}\n",
    "attrs_xpath = {\n",
    "        'name': 'normalize-space(//meta[@property=\"og:title\"]/@content)',\n",
    "        'ingredients': '//ul[@class=\"ingredients-list\"]//text()',\n",
    "        'total_time': '',\n",
    "        'instructions': '//ul[@class=\"directions-list\"]//text()',\n",
    "        'cook_time': \"normalize-space(//div[span[@class='detail-item-label'] ='Cooking time']/p//text())\",\n",
    "        'servings': \"normalize-space(//div[span[@class='detail-item-label'] ='Servings']/p//text())\",\n",
    "        'prep_time': \"normalize-space(//div[span[@class='detail-item-label'] ='Prep time']/p//text())\",\n",
    "        'category':'',\n",
    "}\n",
    "listing={'items': '//div[@class=\"post-thumb\"]//a/@href', 'next': { 'next_page_str': 'page/{}/', 'type': 'url'}}\n",
    "seeds = ['https://www.zimbokitchen.com/category/meats/', 'https://www.zimbokitchen.com/category/vegetables/', 'https://www.zimbokitchen.com/category/snacks/', \n",
    "'https://www.zimbokitchen.com/category/starches/', 'https://www.zimbokitchen.com/category/soaps/traditional/', 'https://www.zimbokitchen.com/category/baking/' ]\n",
    "#available_json = {'xpath' : \"normalize-space(//script[@type='application/ld+json'][contains(text(), 'recipeIngredient')])\"}"
   ]
  },
  {
   "cell_type": "code",
   "execution_count": 3,
   "metadata": {},
   "outputs": [],
   "source": [
    "zimbokitchen_spider =  Spider('https://www.zimbokitchen.com', seeds=seeds,listing=listing,attrs=attrs_xpath,available_json={})"
   ]
  },
  {
   "cell_type": "code",
   "execution_count": 4,
   "metadata": {},
   "outputs": [
    {
     "data": {
      "text/plain": [
       "{'name': 'Baked BBQ Sauce Chicken Thighs - ZimboKitchen',\n",
       " 'total_time': '',\n",
       " 'ingredients': ['2 kg chicken thighs',\n",
       "  '1 3/4 tsp salt',\n",
       "  '1 tsp onion powder flakes',\n",
       "  '1/2 tsp dried thyme',\n",
       "  '1 1/2 tsp paprika',\n",
       "  '60 ml Mr Sauce BBQ sauce',\n",
       "  '3 tbsp oil'],\n",
       " 'instructions': ['Get your ingredients together. Combine the oil, salt, paprika, thyme, and onion powder flakes in a bowl. Mix until just combined.',\n",
       "  'Put the chicken thighs in a marinating container. Pour the marinating mixture onto the chicken, and massage it evenly onto each piece. Close the container, and refrigerate for a minimum of 1 hr, up to 24hrs. ',\n",
       "  'After marinating time, preheat the oven to 180 degrees Celsius on bake. Place chicken on oven tray and bake for 40 minutes.',\n",
       "  'Remove chicken from oven, and brush half the BBQ sauce on one side of the chicken, and return to oven for 5 minutes.',\n",
       "  'After 5 minutes, remove the chicken from the oven, flip it over, and brush the other side with the remaining BBQ sauce. Return it to the oven for another 5 minutes, and the chicken is done! Enjoy!'],\n",
       " 'servings': '7 – 8 servings',\n",
       " 'category': '',\n",
       " 'prep_time': '60 min',\n",
       " 'cook_time': '40 – 45 min'}"
      ]
     },
     "execution_count": 4,
     "metadata": {},
     "output_type": "execute_result"
    }
   ],
   "source": [
    "zimbokitchen_spider.scrape_one_item('https://www.zimbokitchen.com/baked-bbq-sauce-chicken-thighs/')"
   ]
  },
  {
   "cell_type": "code",
   "execution_count": 5,
   "metadata": {},
   "outputs": [
    {
     "ename": "NameError",
     "evalue": "name 'uzbek_spider' is not defined",
     "output_type": "error",
     "traceback": [
      "\u001b[0;31m---------------------------------------------------------------------------\u001b[0m",
      "\u001b[0;31mNameError\u001b[0m                                 Traceback (most recent call last)",
      "\u001b[1;32m/Users/mahdiazhari/world-bank/scrape-zimbabwe.ipynb Cell 5'\u001b[0m in \u001b[0;36m<cell line: 1>\u001b[0;34m()\u001b[0m\n\u001b[0;32m----> <a href='vscode-notebook-cell:/Users/mahdiazhari/world-bank/scrape-zimbabwe.ipynb#ch0000004?line=0'>1</a>\u001b[0m result_list \u001b[39m=\u001b[39m uzbek_spider\u001b[39m.\u001b[39mstart_scrape()\n",
      "\u001b[0;31mNameError\u001b[0m: name 'uzbek_spider' is not defined"
     ]
    }
   ],
   "source": [
    "result_list = zimbokitchen_spider.start_scrape()"
   ]
  },
  {
   "cell_type": "code",
   "execution_count": null,
   "metadata": {},
   "outputs": [],
   "source": []
  }
 ],
 "metadata": {
  "interpreter": {
   "hash": "7f97af7b90ec3405e1f66aa9bfad4ba40234615df6d29df3ef268808d6a9feec"
  },
  "kernelspec": {
   "display_name": "Python 3.9.1 ('wb-scraping': venv)",
   "language": "python",
   "name": "python3"
  },
  "language_info": {
   "codemirror_mode": {
    "name": "ipython",
    "version": 3
   },
   "file_extension": ".py",
   "mimetype": "text/x-python",
   "name": "python",
   "nbconvert_exporter": "python",
   "pygments_lexer": "ipython3",
   "version": "3.9.1"
  },
  "orig_nbformat": 4
 },
 "nbformat": 4,
 "nbformat_minor": 2
}
