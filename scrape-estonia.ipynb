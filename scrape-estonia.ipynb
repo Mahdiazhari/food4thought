{
 "cells": [
  {
   "cell_type": "code",
   "execution_count": 1,
   "metadata": {},
   "outputs": [],
   "source": [
    "import pandas as pd\n",
    "\n",
    "from  util.spider import Spider"
   ]
  },
  {
   "cell_type": "code",
   "execution_count": 6,
   "metadata": {},
   "outputs": [],
   "source": [
    "attrs = {\n",
    "        'name':         'normalize-space(//h1[@itemprop=\"name\"]//text())',\n",
    "       'ingredients': '//li[@itemprop=\"recipeIngredient\"]//text()',\n",
    "        'total_time':   'normalize-space(//meta[@itemprop=\"totalTime\"]/@content)',\n",
    "        'instructions': ['//div[@itemprop=\"recipeInstructions\"]//text()', '//span[@itemprop=\"recipeInstructions\"]//text()'],\n",
    "        'servings':     'normalize-space(//em[@itemprop=\"recipeYield\"]//text())',\n",
    "        'category':     'normalize-space(//meta[@itemprop=\"recipeCategory\"]/@content)',\n",
    "        'prep_time':    'normalize-space(//meta[@itemprop=\"prepTime\"]/@content)',\n",
    "        'cook_time':    'normalize-space(//meta[@itemprop=\"cookTime\"]/@content)',\n",
    "}\n",
    "available_json={}\n",
    "\n",
    "listing={'items': '//div[@class=\"recipe\"]//a/@href', 'next': { 'next_page_str': '', 'type': 'url'}}\n",
    "seeds = ['https://povar.ru/list/estonskaya/']\n"
   ]
  },
  {
   "cell_type": "code",
   "execution_count": 7,
   "metadata": {},
   "outputs": [],
   "source": [
    "custom_header = { #setup custom header for russian script\n",
    "        'referer': 'https://www.google.com/',\n",
    "        'Accept-Language': '*',\n",
    "        'Accept-Encoding': '*',\n",
    "        'Accept': '*',\n",
    "        'user-agent':''}"
   ]
  },
  {
   "cell_type": "code",
   "execution_count": 8,
   "metadata": {},
   "outputs": [],
   "source": [
    "povar_spider= Spider('https://povar.ru/', seeds= seeds, listing =listing,attrs= attrs, available_json=available_json,header=custom_header)"
   ]
  },
  {
   "cell_type": "code",
   "execution_count": 9,
   "metadata": {},
   "outputs": [
    {
     "data": {
      "text/plain": [
       "{'name': 'Каша брюквенная',\n",
       " 'total_time': 'PT40M',\n",
       " 'ingredients': ['Брюква                                \\xa0—\\xa02\\xa0Штуки',\n",
       "  'Лук репчатый                                \\xa0—\\xa01-2\\xa0Штук',\n",
       "  'Молоко                                \\xa0—\\xa01,5\\xa0Стакана',\n",
       "  'Мука                                \\xa0—\\xa01,5\\xa0Ст. ложки',\n",
       "  'Растительное масло                                \\xa0—\\xa01\\xa0Ст. ложка',\n",
       "  'Соль                                \\xa0—\\xa0-\\xa0По вкусу'],\n",
       " 'instructions': ['Если Вы соблюдаете пост или следите за своей фигурой, то простой рецепт брюквенной каши Вам придётся по душе.\\r',\n",
       "  '\\r',\n",
       "  'Итак, классический рецепт каши брюквенной:\\r',\n",
       "  '1. 2 средние брюквы, моем, режем и отвариваем до готовности.\\r',\n",
       "  '2. Пока готовится брюква, берём лук, чистим, мелко режем и пассеруем на растительном масле.\\r',\n",
       "  '3. Из готовой брюквы делаем пюре. В него добавляем молоко, смешанное с мукой, пассерованный лук. Всё солим.\\r',\n",
       "  '4. Наша каша практически готова! Осталось поставить её на тёплую плиту и так нагревать помешивая примерно 5 минут.\\r',\n",
       "  '\\r',\n",
       "  'Готово!\\r',\n",
       "  'Приятного аппетита!'],\n",
       " 'servings': 'Количество порций: 2-3',\n",
       " 'category': 'Овощи / Брюква',\n",
       " 'prep_time': 'PT0M',\n",
       " 'cook_time': 'PT40M'}"
      ]
     },
     "execution_count": 9,
     "metadata": {},
     "output_type": "execute_result"
    }
   ],
   "source": [
    "povar_spider.scrape_one_item('https://povar.ru/recipes/kasha_briukvennaya-10344.html')"
   ]
  },
  {
   "cell_type": "code",
   "execution_count": 10,
   "metadata": {},
   "outputs": [
    {
     "name": "stdout",
     "output_type": "stream",
     "text": [
      "spider is scraping page: 1\n",
      "scraping - multithreaded, n items:  10\n"
     ]
    }
   ],
   "source": [
    "result_list = povar_spider.start_scrape(max_pages=1)"
   ]
  },
  {
   "cell_type": "code",
   "execution_count": 11,
   "metadata": {},
   "outputs": [],
   "source": [
    "df = pd.DataFrame(result_list)"
   ]
  },
  {
   "cell_type": "code",
   "execution_count": 12,
   "metadata": {},
   "outputs": [
    {
     "data": {
      "text/html": [
       "<div>\n",
       "<style scoped>\n",
       "    .dataframe tbody tr th:only-of-type {\n",
       "        vertical-align: middle;\n",
       "    }\n",
       "\n",
       "    .dataframe tbody tr th {\n",
       "        vertical-align: top;\n",
       "    }\n",
       "\n",
       "    .dataframe thead th {\n",
       "        text-align: right;\n",
       "    }\n",
       "</style>\n",
       "<table border=\"1\" class=\"dataframe\">\n",
       "  <thead>\n",
       "    <tr style=\"text-align: right;\">\n",
       "      <th></th>\n",
       "      <th>name</th>\n",
       "      <th>total_time</th>\n",
       "      <th>ingredients</th>\n",
       "      <th>instructions</th>\n",
       "      <th>servings</th>\n",
       "      <th>category</th>\n",
       "      <th>prep_time</th>\n",
       "      <th>cook_time</th>\n",
       "    </tr>\n",
       "  </thead>\n",
       "  <tbody>\n",
       "    <tr>\n",
       "      <th>0</th>\n",
       "      <td>Мульгипудер</td>\n",
       "      <td>PT105M</td>\n",
       "      <td>[Картофель                                 — 5...</td>\n",
       "      <td>[\\n                                           ...</td>\n",
       "      <td>Количество порций: 4</td>\n",
       "      <td>Овощи / Картофель / Крупы / Перловая крупа</td>\n",
       "      <td>PT0M</td>\n",
       "      <td>PT105M</td>\n",
       "    </tr>\n",
       "    <tr>\n",
       "      <th>1</th>\n",
       "      <td>Мульгикапсад</td>\n",
       "      <td>PT250M</td>\n",
       "      <td>[Свинина                                 — 300...</td>\n",
       "      <td>[\\n                                           ...</td>\n",
       "      <td>Количество порций: 3-4</td>\n",
       "      <td>Мясо / Овощи / Капуста</td>\n",
       "      <td>PT0M</td>\n",
       "      <td>PT250M</td>\n",
       "    </tr>\n",
       "    <tr>\n",
       "      <th>2</th>\n",
       "      <td>Салат \"Росолье\"</td>\n",
       "      <td>PT40M</td>\n",
       "      <td>[Свекла                                 — 400 ...</td>\n",
       "      <td>[\\n                                           ...</td>\n",
       "      <td>Количество порций: 2</td>\n",
       "      <td>Рыба и морепродукты / Сельдь</td>\n",
       "      <td>PT0M</td>\n",
       "      <td>PT40M</td>\n",
       "    </tr>\n",
       "    <tr>\n",
       "      <th>3</th>\n",
       "      <td>Курица по-эстонски</td>\n",
       "      <td>PT0M</td>\n",
       "      <td>[Курица                                  — 1 Ш...</td>\n",
       "      <td>[Можно сказать, что этот простой рецепт курицы...</td>\n",
       "      <td>Количество порций: 6-8</td>\n",
       "      <td>Птица / Курица</td>\n",
       "      <td>PT0M</td>\n",
       "      <td>PT0M</td>\n",
       "    </tr>\n",
       "    <tr>\n",
       "      <th>4</th>\n",
       "      <td>Мульгикапсас</td>\n",
       "      <td>PT180M</td>\n",
       "      <td>[Квашенная капуста                            ...</td>\n",
       "      <td>[\\n                                           ...</td>\n",
       "      <td>Количество порций: 4-6</td>\n",
       "      <td>Овощи / Капуста</td>\n",
       "      <td>PT0M</td>\n",
       "      <td>PT180M</td>\n",
       "    </tr>\n",
       "    <tr>\n",
       "      <th>5</th>\n",
       "      <td>Творожный \"торфяной\" пирог</td>\n",
       "      <td>PT70M</td>\n",
       "      <td>[Сливочное масло                              ...</td>\n",
       "      <td>[\\n                                           ...</td>\n",
       "      <td>Количество порций: 6-8</td>\n",
       "      <td>Молочные продукты / Творог / Тесто</td>\n",
       "      <td>PT0M</td>\n",
       "      <td>PT70M</td>\n",
       "    </tr>\n",
       "    <tr>\n",
       "      <th>6</th>\n",
       "      <td>Капуста \"Мульги\"</td>\n",
       "      <td>PT120M</td>\n",
       "      <td>[Капуста квашеная                             ...</td>\n",
       "      <td>[\\n                                           ...</td>\n",
       "      <td>Количество порций: 6-8</td>\n",
       "      <td>Овощи / Капуста / Квашеная капуста</td>\n",
       "      <td>PT0M</td>\n",
       "      <td>PT120M</td>\n",
       "    </tr>\n",
       "    <tr>\n",
       "      <th>7</th>\n",
       "      <td>Эстонский хлеб</td>\n",
       "      <td>PT180M</td>\n",
       "      <td>[Вода теплая                                 —...</td>\n",
       "      <td>[\\n                                           ...</td>\n",
       "      <td>Количество порций: 12</td>\n",
       "      <td>Овощи / Картофель / Мука</td>\n",
       "      <td>PT0M</td>\n",
       "      <td>PT180M</td>\n",
       "    </tr>\n",
       "    <tr>\n",
       "      <th>8</th>\n",
       "      <td>Каша брюквенная</td>\n",
       "      <td>PT40M</td>\n",
       "      <td>[Брюква                                 — 2 Шт...</td>\n",
       "      <td>[Если Вы соблюдаете пост или следите за своей ...</td>\n",
       "      <td>Количество порций: 2-3</td>\n",
       "      <td>Овощи / Брюква</td>\n",
       "      <td>PT0M</td>\n",
       "      <td>PT40M</td>\n",
       "    </tr>\n",
       "    <tr>\n",
       "      <th>9</th>\n",
       "      <td>Валгаская булка</td>\n",
       "      <td>PT730M</td>\n",
       "      <td>[Дрожжи                                 — 1,5 ...</td>\n",
       "      <td>[\\n                                           ...</td>\n",
       "      <td>Количество порций: 1</td>\n",
       "      <td>Молочные продукты / Творог / Мука</td>\n",
       "      <td>PT0M</td>\n",
       "      <td>PT730M</td>\n",
       "    </tr>\n",
       "  </tbody>\n",
       "</table>\n",
       "</div>"
      ],
      "text/plain": [
       "                         name total_time  \\\n",
       "0                 Мульгипудер     PT105M   \n",
       "1                Мульгикапсад     PT250M   \n",
       "2             Салат \"Росолье\"      PT40M   \n",
       "3          Курица по-эстонски       PT0M   \n",
       "4                Мульгикапсас     PT180M   \n",
       "5  Творожный \"торфяной\" пирог      PT70M   \n",
       "6            Капуста \"Мульги\"     PT120M   \n",
       "7              Эстонский хлеб     PT180M   \n",
       "8             Каша брюквенная      PT40M   \n",
       "9             Валгаская булка     PT730M   \n",
       "\n",
       "                                         ingredients  \\\n",
       "0  [Картофель                                 — 5...   \n",
       "1  [Свинина                                 — 300...   \n",
       "2  [Свекла                                 — 400 ...   \n",
       "3  [Курица                                  — 1 Ш...   \n",
       "4  [Квашенная капуста                            ...   \n",
       "5  [Сливочное масло                              ...   \n",
       "6  [Капуста квашеная                             ...   \n",
       "7  [Вода теплая                                 —...   \n",
       "8  [Брюква                                 — 2 Шт...   \n",
       "9  [Дрожжи                                 — 1,5 ...   \n",
       "\n",
       "                                        instructions                servings  \\\n",
       "0  [\\n                                           ...    Количество порций: 4   \n",
       "1  [\\n                                           ...  Количество порций: 3-4   \n",
       "2  [\\n                                           ...    Количество порций: 2   \n",
       "3  [Можно сказать, что этот простой рецепт курицы...  Количество порций: 6-8   \n",
       "4  [\\n                                           ...  Количество порций: 4-6   \n",
       "5  [\\n                                           ...  Количество порций: 6-8   \n",
       "6  [\\n                                           ...  Количество порций: 6-8   \n",
       "7  [\\n                                           ...   Количество порций: 12   \n",
       "8  [Если Вы соблюдаете пост или следите за своей ...  Количество порций: 2-3   \n",
       "9  [\\n                                           ...    Количество порций: 1   \n",
       "\n",
       "                                     category prep_time cook_time  \n",
       "0  Овощи / Картофель / Крупы / Перловая крупа      PT0M    PT105M  \n",
       "1                      Мясо / Овощи / Капуста      PT0M    PT250M  \n",
       "2                Рыба и морепродукты / Сельдь      PT0M     PT40M  \n",
       "3                              Птица / Курица      PT0M      PT0M  \n",
       "4                             Овощи / Капуста      PT0M    PT180M  \n",
       "5          Молочные продукты / Творог / Тесто      PT0M     PT70M  \n",
       "6          Овощи / Капуста / Квашеная капуста      PT0M    PT120M  \n",
       "7                    Овощи / Картофель / Мука      PT0M    PT180M  \n",
       "8                              Овощи / Брюква      PT0M     PT40M  \n",
       "9           Молочные продукты / Творог / Мука      PT0M    PT730M  "
      ]
     },
     "execution_count": 12,
     "metadata": {},
     "output_type": "execute_result"
    }
   ],
   "source": [
    "df"
   ]
  },
  {
   "cell_type": "code",
   "execution_count": 1,
   "metadata": {},
   "outputs": [],
   "source": [
    "attrs2 = {\n",
    "        'name':         'normalize-space(//h1[@itemprop=\"name\"]//text())',\n",
    "       'ingredients': '//div[@class=\"ingredients\"]//p[@itemprop=\"recipeIngredient\"]//text()',\n",
    "        'total_time':   'normalize-space(//meta[@itemprop=\"totalTime\"]/@content)',\n",
    "        'instructions': ['//div[@class=\"instructions\"]//div//p//text()' , '//div[@itemprop=\"recipeInstructions\"]//text()', '//span[@itemprop=\"recipeInstructions\"]//text()', ],\n",
    "        'servings':     '',\n",
    "        'category':     \"normalize-space(//a[contains(@href,'showsubsection') and @class='pathlink']//text())\",\n",
    "        'prep_time':    'normalize-space(//meta[@itemprop=\"prepTime\"]/@content)',\n",
    "        'cook_time':    'normalize-space(//meta[@itemprop=\"cookTime\"]/@content)',\n",
    "}\n",
    "available_json2={}\n",
    "\n",
    "listing2={'items': '//div[@class=\"recfield\"]//div[@class=\"header\"]/a/@href', 'next': { 'next_page_str': '', 'type': 'url'}}\n",
    "seeds2 = ['https://www.iamcook.ru/country/estonia']"
   ]
  },
  {
   "cell_type": "code",
   "execution_count": null,
   "metadata": {},
   "outputs": [],
   "source": [
    "iamcook_spider= Spider('https://www.iamcook.ru', seeds= seeds, listing =listing,attrs= attrs, available_json=available_json,header=custom_header)"
   ]
  }
 ],
 "metadata": {
  "interpreter": {
   "hash": "7f97af7b90ec3405e1f66aa9bfad4ba40234615df6d29df3ef268808d6a9feec"
  },
  "kernelspec": {
   "display_name": "Python 3.9.1 ('wb-scraping': venv)",
   "language": "python",
   "name": "python3"
  },
  "language_info": {
   "codemirror_mode": {
    "name": "ipython",
    "version": 3
   },
   "file_extension": ".py",
   "mimetype": "text/x-python",
   "name": "python",
   "nbconvert_exporter": "python",
   "pygments_lexer": "ipython3",
   "version": "3.9.1"
  },
  "orig_nbformat": 4
 },
 "nbformat": 4,
 "nbformat_minor": 2
}
