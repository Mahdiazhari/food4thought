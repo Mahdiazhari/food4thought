{
 "cells": [
  {
   "cell_type": "code",
   "execution_count": 1,
   "metadata": {},
   "outputs": [],
   "source": [
    "import pandas as pd\n",
    "import json\n",
    "import requests\n",
    "import random\n",
    "from lxml import html\n",
    "import re\n",
    "\n",
    "from  util.spider import Spider\n",
    "# from util.http_utility import get_http_headers\n",
    "# from util.user_agent import get_random_ua"
   ]
  },
  {
   "cell_type": "code",
   "execution_count": null,
   "metadata": {},
   "outputs": [],
   "source": [
    "attrs = {\n",
    "        'name'       :  'normalize-space(//div[@itemprop=\"name\"])',\n",
    "        'ingredients':  '//li[@itemprop=\"ingredients\"]//text()',\n",
    "        'total_time':   'normalize-space(//time[@itemprop=\"totalTime\"]/@datetime)',\n",
    "        'instructions': 'recipeInstructions',\n",
    "        'servings':     'recipeYield',\n",
    "        'category':     'recipeCategory',\n",
    "        'prep_time':    'prepTime',\n",
    "        'cook_time':    'cookTime',\n",
    "}\n",
    "listing={'items': '//ul[@class=\"columns with-max-three\"]//div[contains(@class,\"delish-renewal-recipe-item-card\")]//a/@href', 'next': { 'next_page_str': '&page={}', 'type': 'url'}}\n",
    "seeds = ['https://delishkitchen.tv/categories/19878?annotation_kind_ids=432', 'https://delishkitchen.tv/categories/655?annotation_kind_ids=432', 'https://delishkitchen.tv/categories/17359', 'https://delishkitchen.tv/categories/753?annotation_kind_ids=432', 'https://delishkitchen.tv/categories/17304?annotation_kind_ids=432', 'https://delishkitchen.tv/categories/14500?annotation_kind_ids=432',  ]\n",
    "available_json = {'xpath' : \"normalize-space(//script[@type='application/ld+json'][contains(text(), 'recipeIngredient')])\"}"
   ]
  }
 ],
 "metadata": {
  "interpreter": {
   "hash": "7f97af7b90ec3405e1f66aa9bfad4ba40234615df6d29df3ef268808d6a9feec"
  },
  "kernelspec": {
   "display_name": "Python 3.9.1 ('wb-scraping': venv)",
   "language": "python",
   "name": "python3"
  },
  "language_info": {
   "codemirror_mode": {
    "name": "ipython",
    "version": 3
   },
   "file_extension": ".py",
   "mimetype": "text/x-python",
   "name": "python",
   "nbconvert_exporter": "python",
   "pygments_lexer": "ipython3",
   "version": "3.9.1"
  },
  "orig_nbformat": 4
 },
 "nbformat": 4,
 "nbformat_minor": 2
}
