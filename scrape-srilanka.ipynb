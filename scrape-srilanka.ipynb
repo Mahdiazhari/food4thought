{
 "cells": [
  {
   "cell_type": "code",
   "execution_count": 1,
   "metadata": {},
   "outputs": [],
   "source": [
    "import pandas as pd\n",
    "from util.spider import Spider"
   ]
  },
  {
   "cell_type": "code",
   "execution_count": 5,
   "metadata": {},
   "outputs": [],
   "source": [
    "attrs = {\n",
    "        'name':         'normalize-space(//div[@class=\"ERSName\"]//text())',\n",
    "        'ingredients':  ['//li[@itemprop=\"ingredients\"]//text()', '//h5[contains(text(), \"Ingredients\")]/following-sibling::ul//li//text()','//div[@class=\"entry-content\"]//span//text()'],\n",
    "        'total_time':   \"//time[@itemprop='totalTime']/@datetime\",\n",
    "        'instructions': ['//li[@itemprop=\"recipeInstructions\"]//text()','//h5[contains(text(), \"Instructions\")]/following-sibling::p//text()', '//span[contains(text(), \"Direction\")]//following-sibling::span//text()',],\n",
    "        'servings':     ['normalize-space(//span[@itemprop=\"recipeYield\"]//text())', '//u[contains(text(), \"Ingredients\")]/preceding-sibling::text()', 'normalize-space(//span[contains(text(), \"Serves\")]//text())'],\n",
    "        'category':     'normalize-space(//span[@itemprop=\"recipeCategory\"]//text())',\n",
    "        'prep_time':    '//time[@itemprop=\"prepTime\"]/@datetime',\n",
    "        'cook_time':    '//time[@itemprop=\"cookTime\"]/@datetime',\n",
    "}\n",
    "\n",
    "available_json={}\n",
    "seeds=['https://www.topsrilankanrecipe.com/category/vegetarian/',\n",
    "        'https://www.topsrilankanrecipe.com/category/non-vegetarian/',\n",
    "        'https://www.topsrilankanrecipe.com/category/snacks/',\n",
    "        'https://www.topsrilankanrecipe.com/category/keto/',\n",
    "        'https://www.topsrilankanrecipe.com/category/vegan/',\n",
    "\n",
    "        'https://www.topsrilankanrecipe.com/category/healthy/',\n",
    "        'https://www.topsrilankanrecipe.com/category/starch/',\n",
    "]\n",
    "listing={'items': '//h2[@class=\"entry-title\"]/a/@href', 'next': { 'next_page_str': '/page/{}', 'type': 'url'}}"
   ]
  },
  {
   "cell_type": "code",
   "execution_count": 6,
   "metadata": {},
   "outputs": [],
   "source": [
    "custom_header_template = { #setup custom header because this website requires certain headers\n",
    "        'referer': 'https://www.topsrilankanrecipe.com/category/vegetarian/',\n",
    "        'Accept-Language': '*',\n",
    "        'Accept-Encoding': '*', \n",
    "        'sec-ch-ua': '\" Not A;Brand\";v=\"99\", \"Chromium\";v=\"100\", \"Google Chrome\";v=\"100\"',\n",
    "        'sec-fetch-site' : 'same-origin',\n",
    "        #'cookie': '_ga=GA1.2.1978438003.1649681893; cb-enabled=enabled; _gid=GA1.2.1870821735.1650271735; ao-fpgad=%7B%22fpcRequired%22%3Afalse%2C%22checkTS%22%3A1650271735392%2C%22domain%22%3A%22lauralaurentiu.ro%22%7D; __gads=ID=3dd1ab9c6ddf9fc9-2289c17b2ed20094:T=1649681893:RT=1650271783:S=ALNI_MbZpRpmkjwza5LhQQ1HkGR0H4wMjQ',\n",
    "        'user-agent': ''}\n",
    "\n",
    "    "
   ]
  },
  {
   "cell_type": "code",
   "execution_count": 7,
   "metadata": {},
   "outputs": [],
   "source": [
    "srilanka_spider = Spider('https://www.topsrilankanrecipe.com', seeds, listing,attrs, available_json=available_json, header=custom_header_template)"
   ]
  },
  {
   "cell_type": "code",
   "execution_count": 8,
   "metadata": {},
   "outputs": [
    {
     "data": {
      "text/plain": [
       "{'name': 'Simple Agathi Keerai Sodhi Recipe (Healthy | KETO)',\n",
       " 'total_time': 'PT30M',\n",
       " 'ingredients': ['Agathi keerai - 75g',\n",
       "  'Onion - 75g',\n",
       "  'Green chili - 3 or 4',\n",
       "  'Turmeric powder - ½ teaspoon',\n",
       "  'Semi thick coconut milk - 500ml',\n",
       "  'Thick tamarind juice - 50ml',\n",
       "  'Water - 300ml',\n",
       "  'Salt - As you want (KETO people use the Himalayan Pink Salt)'],\n",
       " 'instructions': ['Take the Agathi keerai and wash them thoroughly. Also, prepare coconut milk, tamarind juice, and take some water. Additionally, get ready with chopped onions, sliced green chilies, turmeric powder, and salt.',\n",
       "  'Take a skillet and place the Agathi keerai in it. On top of that, add onions, green chilies, turmeric powder, salt, tamarind juice, and water.',\n",
       "  'Cook covered under high flame for five minutes.',\n",
       "  'Take off the lid, give a good mix, and again cook covered under high flame for about three minutes.',\n",
       "  'Now add the coconut milk and cook uncovered under high flame for one or two minutes. Stir occasionally to avoid foaming the milk.',\n",
       "  'Taste the Sodhi and adjust salt if needed.',\n",
       "  'This is how to make a simple Agathi keerai Sodhi recipe at home. Serve and enjoy this Sri Lankan style traditional Agathi keerai Sodhi.'],\n",
       " 'servings': '4 People',\n",
       " 'category': 'Vegetarian/Vegan',\n",
       " 'prep_time': 'PT15M',\n",
       " 'cook_time': 'PT15M'}"
      ]
     },
     "execution_count": 8,
     "metadata": {},
     "output_type": "execute_result"
    }
   ],
   "source": [
    "srilanka_spider.scrape_one_item('https://www.topsrilankanrecipe.com/simple-agathi-keerai-sodhi-recipe-healthy-keto/')"
   ]
  },
  {
   "cell_type": "code",
   "execution_count": null,
   "metadata": {},
   "outputs": [],
   "source": []
  }
 ],
 "metadata": {
  "interpreter": {
   "hash": "7f97af7b90ec3405e1f66aa9bfad4ba40234615df6d29df3ef268808d6a9feec"
  },
  "kernelspec": {
   "display_name": "Python 3.9.1 ('wb-scraping': venv)",
   "language": "python",
   "name": "python3"
  },
  "language_info": {
   "codemirror_mode": {
    "name": "ipython",
    "version": 3
   },
   "file_extension": ".py",
   "mimetype": "text/x-python",
   "name": "python",
   "nbconvert_exporter": "python",
   "pygments_lexer": "ipython3",
   "version": "3.9.1"
  },
  "orig_nbformat": 4
 },
 "nbformat": 4,
 "nbformat_minor": 2
}
