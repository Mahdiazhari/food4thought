{
 "cells": [
  {
   "cell_type": "code",
   "execution_count": 1,
   "metadata": {},
   "outputs": [],
   "source": [
    "\n",
    "import pandas as pd\n",
    "from util.sa.food24 import Food24\n"
   ]
  },
  {
   "cell_type": "code",
   "execution_count": 2,
   "metadata": {},
   "outputs": [],
   "source": [
    "custom_header_template = { #setup custom header because romania requires certain headers\n",
    "        'referer': 'https://www.food24.com/south-african-recipes/',\n",
    "        'origin' : 'https://www.food24.com',\n",
    "        'Accept-Language': '*',\n",
    "        'content-type': 'application/x-www-form-urlencoded; charset=UTF-8',\n",
    "        'Accept-Encoding': 'gzip, deflate, br',\n",
    "        'Accept': 'text/html, */*; q=0.01',\n",
    "        'cookie' : '_gcl_au=1.1.519455341.1651563777; __gads=ID=eea640c935217c77:T=1651563776:S=ALNI_MazaVw9bt6NWHNPWlIXjrEkuMG9eg; _ga=GA1.2.1039298870.1651563777; _fbp=fb.1.1651563777236.1062725071; _em_vt=dc9870a6-f72f-411b-b424-c3d29eb09e75-18018e50ebd-44b0731e; _em_gc=FR; _em_mb=0; _em_dmp=1651563777822; _gid=GA1.2.589680618.1651863025; _gat_UA-159263468-1=1; _em_c3=1; _em_vi=43e8b9e8-99b6-4a2e-9b43-7899de2fa3c3-1809af5bc62-e531403a; _em_ft=1651867237473; _em_scf=[]; _em_lt=1651867241082; _em_pc=2; OptanonConsent=isIABGlobal=false&datestamp=Fri+May+06+2022+22%3A00%3A41+GMT%2B0200+(Central+European+Summer+Time)&version=6.17.0&hosts=&consentId=2cc9db51-613e-4a71-9fdf-756d3c077281&interactionCount=1&landingPath=NotLandingPage&groups=C0001%3A1%2CC0002%3A1%2CC0003%3A1%2CC0004%3A1%2CC0005%3A1&geolocation=CH%3BZH&AwaitingReconsent=false; OptanonAlertBoxClosed=2022-05-06T20:00:41.441Z; PHPSESSID=k84iaqtb5tvtdi9hot9g90mv1c',\n",
    "        'user-agent': ''}"
   ]
  },
  {
   "cell_type": "code",
   "execution_count": 3,
   "metadata": {},
   "outputs": [],
   "source": [
    "attrs = {\n",
    "        'name'       :  'name',\n",
    "        'ingredients':  'recipeIngredient',\n",
    "        'total_time':   'totalTime',\n",
    "        'instructions': 'recipeInstructions',\n",
    "        'servings':     'recipeYield',\n",
    "        'category':     'recipeCategory',\n",
    "        'prep_time':    'prepTime',\n",
    "        'cook_time':    'cookTime',\n",
    "}\n",
    "available_json = {'xpath' : \"normalize-space(//script[@type='application/ld+json'][contains(text(), 'recipeIngredient')])\"}\n",
    "seeds= [\n",
    "\n",
    "        \"\"\"lang=en_US&action=jnews_module_ajax_jnews_block_3&module=true&data%5Bfilter%5D=0&data%5Bfilter_type%5D=all&data%5Bcurrent_page%5D={current_page}&data%5Battribute%5D%5Bheader_icon%5D=&data%5Battribute%5D%5Bfirst_title%5D=&data%5Battribute%5D%5Bsecond_title%5D=&data%5Battribute%5D%5Burl%5D=&data%5Battribute%5D%5Bheader_type%5D=heading_6&data%5Battribute%5D%5Bheader_background%5D=&data%5Battribute%5D%5Bheader_secondary_background%5D=&data%5Battribute%5D%5Bheader_text_color%5D=&data%5Battribute%5D%5Bheader_line_color%5D=&data%5Battribute%5D%5Bheader_accent_color%5D=&data%5Battribute%5D%5Bheader_filter_category%5D=&data%5Battribute%5D%5Bheader_filter_author%5D=&data%5Battribute%5D%5Bheader_filter_tag%5D=&data%5Battribute%5D%5Bheader_filter_text%5D=All&data%5Battribute%5D%5Bpost_type%5D=recipe&data%5Battribute%5D%5Bcontent_type%5D=all&data%5Battribute%5D%5Bnumber_post%5D=6&data%5Battribute%5D%5Bpost_offset%5D=10&data%5Battribute%5D%5Bunique_content%5D=disable&data%5Battribute%5D%5Binclude_post%5D=&data%5Battribute%5D%5Bexclude_post%5D=&data%5Battribute%5D%5Binclude_category%5D=&data%5Battribute%5D%5Bexclude_category%5D=&data%5Battribute%5D%5Binclude_author%5D=&data%5Battribute%5D%5Binclude_tag%5D=&data%5Battribute%5D%5Bexclude_tag%5D=&data%5Battribute%5D%5Bcategories%5D=549&data%5Battribute%5D%5Baccreditation%5D=&data%5Battribute%5D%5Bingredients%5D=&data%5Battribute%5D%5Btags%5D=&data%5Battribute%5D%5Bsort_by%5D=latest&data%5Battribute%5D%5Bdate_format%5D=default&data%5Battribute%5D%5Bdate_format_custom%5D=Y%2Fm%2Fd&data%5Battribute%5D%5Bexcerpt_length%5D=20&data%5Battribute%5D%5Bexcerpt_ellipsis%5D=...&data%5Battribute%5D%5Bpagination_mode%5D=loadmore&data%5Battribute%5D%5Bpagination_nextprev_showtext%5D=&data%5Battribute%5D%5Bpagination_number_post%5D=5&data%5Battribute%5D%5Bpagination_scroll_limit%5D=0&data%5Battribute%5D%5Bads_type%5D=code&data%5Battribute%5D%5Bads_position%5D=5&data%5Battribute%5D%5Bads_random%5D=&data%5Battribute%5D%5Bads_image%5D=&data%5Battribute%5D%5Bads_image_tablet%5D=&data%5Battribute%5D%5Bads_image_phone%5D=&data%5Battribute%5D%5Bads_image_link%5D=&data%5Battribute%5D%5Bads_image_alt%5D=&data%5Battribute%5D%5Bads_image_new_tab%5D=&data%5Battribute%5D%5Bgoogle_publisher_id%5D=&data%5Battribute%5D%5Bgoogle_slot_id%5D=&data%5Battribute%5D%5Bgoogle_desktop%5D=auto&data%5Battribute%5D%5Bgoogle_tab%5D=auto&data%5Battribute%5D%5Bgoogle_phone%5D=auto&data%5Battribute%5D%5Bcontent%5D=&data%5Battribute%5D%5Bads_bottom_text%5D=&data%5Battribute%5D%5Bboxed%5D=&data%5Battribute%5D%5Bboxed_shadow%5D=&data%5Battribute%5D%5Bel_id%5D=&data%5Battribute%5D%5Bel_class%5D=&data%5Battribute%5D%5Bscheme%5D=&data%5Battribute%5D%5Bcolumn_width%5D=auto&data%5Battribute%5D%5Btitle_color%5D=&data%5Battribute%5D%5Baccent_color%5D=&data%5Battribute%5D%5Balt_color%5D=&data%5Battribute%5D%5Bexcerpt_color%5D=&data%5Battribute%5D%5Bcss%5D=&data%5Battribute%5D%5Bcompatible_column_notice%5D=&data%5Battribute%5D%5Bpaged%5D=1&data%5Battribute%5D%5Bcolumn_class%5D=jeg_col_2o3&data%5Battribute%5D%5Bclass%5D=jnews_block_3\n",
    "        \"\"\",\n",
    "\n",
    "       ]\n",
    "listing = {}\n"
   ]
  },
  {
   "cell_type": "code",
   "execution_count": 4,
   "metadata": {},
   "outputs": [],
   "source": [
    "sa_spider = Food24('https://www.food24.com', seeds= seeds, listing =listing,attrs= attrs, available_json=available_json,header = custom_header_template)"
   ]
  },
  {
   "cell_type": "code",
   "execution_count": 5,
   "metadata": {},
   "outputs": [
    {
     "data": {
      "text/plain": [
       "{'name': 'Sticky chicken wings and chips',\n",
       " 'total_time': 'PT60M',\n",
       " 'ingredients': ['16 chicken wings cut into drummets and winglets',\n",
       "  '1 tsp Knorrox All-In-1 spice mix ',\n",
       "  '1 cup sweet chilli sauce ',\n",
       "  '1 tsp paprika ',\n",
       "  ' salt and black pepper to taste'],\n",
       " 'instructions': ['Season the wings with Knorrox spice mixIn a bowl make the marinade by combining sweet chilli sauce, paprika, salt and pepper. Mix well. Pour the marinade over stir the chicken wings, ensure they are coated well (you can marinade for 7-8 hours or overnight).Bake for 45 to 50 minutes or until the wings are cooked through.Serve with chips and enjoy!Reprinted with permission from Zanele Mvelase from Zee The Cook, follow along on Instagram for more.'],\n",
       " 'servings': '4 servings',\n",
       " 'category': 'Bake',\n",
       " 'prep_time': 'PT10M',\n",
       " 'cook_time': 'PT50M'}"
      ]
     },
     "execution_count": 5,
     "metadata": {},
     "output_type": "execute_result"
    }
   ],
   "source": [
    "sa_spider.scrape_one_item('https://www.food24.com/recipe/sticky-chicken-wings-and-chips/')"
   ]
  },
  {
   "cell_type": "code",
   "execution_count": 6,
   "metadata": {},
   "outputs": [
    {
     "name": "stdout",
     "output_type": "stream",
     "text": [
      "max page:  166\n",
      "spider is scraping page: 1\n",
      "lang%3Den_US%26action%3Djnews_module_ajax_jnews_block_3%26module%3Dtrue%26data%255Bfilter%255D%3D0%26data%255Bfilter_type%255D%3Dall%26data%255Bcurrent_page%255D%3D1%26data%255Battribute%255D%255Bheader_icon%255D%3D%26data%255Battribute%255D%255Bfirst_title%255D%3D%26data%255Battribute%255D%255Bsecond_title%255D%3D%26data%255Battribute%255D%255Burl%255D%3D%26data%255Battribute%255D%255Bheader_type%255D%3Dheading_6%26data%255Battribute%255D%255Bheader_background%255D%3D%26data%255Battribute%255D%255Bheader_secondary_background%255D%3D%26data%255Battribute%255D%255Bheader_text_color%255D%3D%26data%255Battribute%255D%255Bheader_line_color%255D%3D%26data%255Battribute%255D%255Bheader_accent_color%255D%3D%26data%255Battribute%255D%255Bheader_filter_category%255D%3D%26data%255Battribute%255D%255Bheader_filter_author%255D%3D%26data%255Battribute%255D%255Bheader_filter_tag%255D%3D%26data%255Battribute%255D%255Bheader_filter_text%255D%3DAll%26data%255Battribute%255D%255Bpost_type%255D%3Drecipe%26data%255Battribute%255D%255Bcontent_type%255D%3Dall%26data%255Battribute%255D%255Bnumber_post%255D%3D6%26data%255Battribute%255D%255Bpost_offset%255D%3D10%26data%255Battribute%255D%255Bunique_content%255D%3Ddisable%26data%255Battribute%255D%255Binclude_post%255D%3D%26data%255Battribute%255D%255Bexclude_post%255D%3D%26data%255Battribute%255D%255Binclude_category%255D%3D%26data%255Battribute%255D%255Bexclude_category%255D%3D%26data%255Battribute%255D%255Binclude_author%255D%3D%26data%255Battribute%255D%255Binclude_tag%255D%3D%26data%255Battribute%255D%255Bexclude_tag%255D%3D%26data%255Battribute%255D%255Bcategories%255D%3D549%26data%255Battribute%255D%255Baccreditation%255D%3D%26data%255Battribute%255D%255Bingredients%255D%3D%26data%255Battribute%255D%255Btags%255D%3D%26data%255Battribute%255D%255Bsort_by%255D%3Dlatest%26data%255Battribute%255D%255Bdate_format%255D%3Ddefault%26data%255Battribute%255D%255Bdate_format_custom%255D%3DY%252Fm%252Fd%26data%255Battribute%255D%255Bexcerpt_length%255D%3D20%26data%255Battribute%255D%255Bexcerpt_ellipsis%255D%3D...%26data%255Battribute%255D%255Bpagination_mode%255D%3Dloadmore%26data%255Battribute%255D%255Bpagination_nextprev_showtext%255D%3D%26data%255Battribute%255D%255Bpagination_number_post%255D%3D5%26data%255Battribute%255D%255Bpagination_scroll_limit%255D%3D0%26data%255Battribute%255D%255Bads_type%255D%3Dcode%26data%255Battribute%255D%255Bads_position%255D%3D5%26data%255Battribute%255D%255Bads_random%255D%3D%26data%255Battribute%255D%255Bads_image%255D%3D%26data%255Battribute%255D%255Bads_image_tablet%255D%3D%26data%255Battribute%255D%255Bads_image_phone%255D%3D%26data%255Battribute%255D%255Bads_image_link%255D%3D%26data%255Battribute%255D%255Bads_image_alt%255D%3D%26data%255Battribute%255D%255Bads_image_new_tab%255D%3D%26data%255Battribute%255D%255Bgoogle_publisher_id%255D%3D%26data%255Battribute%255D%255Bgoogle_slot_id%255D%3D%26data%255Battribute%255D%255Bgoogle_desktop%255D%3Dauto%26data%255Battribute%255D%255Bgoogle_tab%255D%3Dauto%26data%255Battribute%255D%255Bgoogle_phone%255D%3Dauto%26data%255Battribute%255D%255Bcontent%255D%3D%26data%255Battribute%255D%255Bads_bottom_text%255D%3D%26data%255Battribute%255D%255Bboxed%255D%3D%26data%255Battribute%255D%255Bboxed_shadow%255D%3D%26data%255Battribute%255D%255Bel_id%255D%3D%26data%255Battribute%255D%255Bel_class%255D%3D%26data%255Battribute%255D%255Bscheme%255D%3D%26data%255Battribute%255D%255Bcolumn_width%255D%3Dauto%26data%255Battribute%255D%255Btitle_color%255D%3D%26data%255Battribute%255D%255Baccent_color%255D%3D%26data%255Battribute%255D%255Balt_color%255D%3D%26data%255Battribute%255D%255Bexcerpt_color%255D%3D%26data%255Battribute%255D%255Bcss%255D%3D%26data%255Battribute%255D%255Bcompatible_column_notice%255D%3D%26data%255Battribute%255D%255Bpaged%255D%3D1%26data%255Battribute%255D%255Bcolumn_class%255D%3Djeg_col_2o3%26data%255Battribute%255D%255Bclass%255D%3Djnews_block_3%0A%20%20%20%20%20%20%20%20\n",
      "\n",
      "doc is probably empty\n"
     ]
    }
   ],
   "source": [
    "results_list = sa_spider.start_scrape()"
   ]
  },
  {
   "cell_type": "code",
   "execution_count": null,
   "metadata": {},
   "outputs": [],
   "source": []
  }
 ],
 "metadata": {
  "interpreter": {
   "hash": "7f97af7b90ec3405e1f66aa9bfad4ba40234615df6d29df3ef268808d6a9feec"
  },
  "kernelspec": {
   "display_name": "Python 3.9.1 ('wb-scraping': venv)",
   "language": "python",
   "name": "python3"
  },
  "language_info": {
   "codemirror_mode": {
    "name": "ipython",
    "version": 3
   },
   "file_extension": ".py",
   "mimetype": "text/x-python",
   "name": "python",
   "nbconvert_exporter": "python",
   "pygments_lexer": "ipython3",
   "version": "3.9.1"
  },
  "orig_nbformat": 4
 },
 "nbformat": 4,
 "nbformat_minor": 2
}
