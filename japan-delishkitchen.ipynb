{
 "cells": [
  {
   "cell_type": "code",
   "execution_count": 1,
   "metadata": {},
   "outputs": [],
   "source": [
    "import pandas as pd\n",
    "import json\n",
    "import requests\n",
    "import random\n",
    "from lxml import html\n",
    "import re\n",
    "import time\n",
    "import multiprocessing as mp \n",
    "\n",
    "from  util.spider import Spider\n",
    "from util.http_utility import get_http_headers\n",
    "from util.user_agent import get_random_ua"
   ]
  },
  {
   "cell_type": "markdown",
   "metadata": {},
   "source": [
    "# Scrape Japan - Delishkitchen\n",
    "\n",
    "\n"
   ]
  },
  {
   "cell_type": "markdown",
   "metadata": {},
   "source": [
    "https://delishkitchen.tv/"
   ]
  },
  {
   "cell_type": "code",
   "execution_count": 2,
   "metadata": {},
   "outputs": [],
   "source": [
    "attrs = {\n",
    "        'name'       :         'name',\n",
    "        'ingredients':  'recipeIngredient',\n",
    "        'total_time':   'totalTime',\n",
    "        'instructions': 'recipeInstructions',\n",
    "        'servings':     'recipeYield',\n",
    "        'category':     'recipeCategory',\n",
    "        'prep_time':    'prepTime',\n",
    "        'cook_time':    'cookTime',\n",
    "}\n",
    "listing={'items': '//ul[@class=\"columns with-max-three\"]//div[contains(@class,\"delish-renewal-recipe-item-card\")]//a/@href', 'next': { 'next_page_str': '&page={}', 'type': 'url'}}\n",
    "seeds = ['https://delishkitchen.tv/categories/19878?annotation_kind_ids=432', 'https://delishkitchen.tv/categories/655?annotation_kind_ids=432', 'https://delishkitchen.tv/categories/17359', 'https://delishkitchen.tv/categories/753?annotation_kind_ids=432', 'https://delishkitchen.tv/categories/17304?annotation_kind_ids=432', 'https://delishkitchen.tv/categories/14500?annotation_kind_ids=432',  ]\n",
    "available_json = {'xpath' : \"normalize-space(//script[@type='application/ld+json'][contains(text(), 'recipeIngredient')])\"}"
   ]
  },
  {
   "cell_type": "code",
   "execution_count": 3,
   "metadata": {},
   "outputs": [],
   "source": [
    "delishtv_spider= Spider('https://delishkitchen.tv', seeds= seeds, listing =listing,attrs= attrs, available_json=available_json)"
   ]
  },
  {
   "cell_type": "markdown",
   "metadata": {},
   "source": [
    "check case when there's no cooking time:"
   ]
  },
  {
   "cell_type": "code",
   "execution_count": 4,
   "metadata": {},
   "outputs": [
    {
     "data": {
      "text/plain": [
       "{'name': '朝のラクラク時短術！ 鮭の磯辺焼き弁当',\n",
       " 'total_time': None,\n",
       " 'ingredients': ['生鮭[切り身] 2切れ',\n",
       "  'のり(2cm幅の帯状に切ったもの) 6枚',\n",
       "  'しょうゆ 大さじ1',\n",
       "  '酒 大さじ1',\n",
       "  'みりん 大さじ1',\n",
       "  'アスパラ(斜め切り) 2本分',\n",
       "  'ベーコン(短冊切り) 1枚分',\n",
       "  'しょうゆ 小さじ1/4',\n",
       "  'マヨネーズ 小さじ1/4',\n",
       "  '削り節 ふたつまみ'],\n",
       " 'instructions': ['鮭は3等分ずつに切る。ボウルに【A】を入れて混ぜ合わせ、鮭を加えて10分ほど漬ける。汁けをふいてのりを巻く。',\n",
       "  'ボウルに【B】を入れて混ぜ合わせる。',\n",
       "  'フライパンに、「クックパ—®フライパン用ホイル」の真ん中を2cm高さの山折りにして敷き、片側にアスパラ、ベーコンを入れる。もう片側に(1)を並べる。',\n",
       "  'ふたをして中火で2分ほど焼き、鮭を裏返し、アスパラベーコンには水小さじ1（分量外）をふる。ふたをしてさらに約1分焼く。',\n",
       "  'アスパラベーコンに(2)を加え、よくからめて取り出す。鮭は火が通るまで焼き、（1）の漬け汁少々を加えて焼きからめる。',\n",
       "  '（5）が冷めたら、弁当箱に詰める。'],\n",
       " 'servings': '2人分',\n",
       " 'category': None,\n",
       " 'prep_time': None,\n",
       " 'cook_time': None}"
      ]
     },
     "execution_count": 4,
     "metadata": {},
     "output_type": "execute_result"
    }
   ],
   "source": [
    "delishtv_spider.scrape_one_item('https://delishkitchen.tv/recipes/243458362560217385')"
   ]
  },
  {
   "cell_type": "code",
   "execution_count": 5,
   "metadata": {},
   "outputs": [
    {
     "data": {
      "text/plain": [
       "{'name': '冷凍餃子を使ってお手軽に♪ ニラもやしの餃子鍋',\n",
       " 'total_time': 'PT1200S',\n",
       " 'ingredients': ['冷凍餃子 12個',\n",
       "  '豆もやし 1袋',\n",
       "  'ニラ 1/2束',\n",
       "  'しめじ 1パック',\n",
       "  '酒 大さじ1',\n",
       "  '塩 小さじ1/3',\n",
       "  '鶏ガラスープの素 小さじ1/2',\n",
       "  'おろしにんにく 小さじ1',\n",
       "  'おろししょうが 小さじ1',\n",
       "  '水 300cc',\n",
       "  '唐辛子(輪切り) 少々',\n",
       "  'ポン酢しょうゆ 大さじ2',\n",
       "  'ラー油 適量'],\n",
       " 'instructions': ['ニラは3cm幅に切る。しめじは根元を切り落とし、小房に分ける。',\n",
       "  'ボウルに豆もやし、ニラ、しめじを入れて混ぜる。',\n",
       "  '別のボウルに☆を入れて混ぜる(鍋スープ)。',\n",
       "  '鍋に半量の2を敷き詰め、餃子は鍋に沿うように並べ入れて、中央に残りの2をのせる。鍋スープをまわしかけ、中火に熱し、煮立ったらふたをして5分程煮る。',\n",
       "  '4にポン酢しょうゆ、ラー油を添える。'],\n",
       " 'servings': '2人分',\n",
       " 'category': None,\n",
       " 'prep_time': 'PT0M',\n",
       " 'cook_time': 'PT1200S'}"
      ]
     },
     "execution_count": 5,
     "metadata": {},
     "output_type": "execute_result"
    }
   ],
   "source": [
    "delishtv_spider.scrape_one_item('https://delishkitchen.tv/recipes/216142397518644383')"
   ]
  },
  {
   "cell_type": "code",
   "execution_count": null,
   "metadata": {},
   "outputs": [],
   "source": [
    "result_list = delishtv_spider.start_scrape(max_pages=500) #max page is 500"
   ]
  },
  {
   "cell_type": "code",
   "execution_count": null,
   "metadata": {},
   "outputs": [],
   "source": [
    "result_df = pd.DataFrame(result_list)"
   ]
  },
  {
   "cell_type": "code",
   "execution_count": null,
   "metadata": {},
   "outputs": [],
   "source": [
    "result_df.head()"
   ]
  },
  {
   "cell_type": "code",
   "execution_count": null,
   "metadata": {},
   "outputs": [],
   "source": [
    "result_df.to_csv('japan_delishkitchen.csv')"
   ]
  },
  {
   "cell_type": "code",
   "execution_count": null,
   "metadata": {},
   "outputs": [],
   "source": []
  }
 ],
 "metadata": {
  "interpreter": {
   "hash": "7f97af7b90ec3405e1f66aa9bfad4ba40234615df6d29df3ef268808d6a9feec"
  },
  "kernelspec": {
   "display_name": "Python 3.9.1 ('wb-scraping': venv)",
   "language": "python",
   "name": "python3"
  },
  "language_info": {
   "codemirror_mode": {
    "name": "ipython",
    "version": 3
   },
   "file_extension": ".py",
   "mimetype": "text/x-python",
   "name": "python",
   "nbconvert_exporter": "python",
   "pygments_lexer": "ipython3",
   "version": "3.9.1"
  },
  "orig_nbformat": 4
 },
 "nbformat": 4,
 "nbformat_minor": 2
}
