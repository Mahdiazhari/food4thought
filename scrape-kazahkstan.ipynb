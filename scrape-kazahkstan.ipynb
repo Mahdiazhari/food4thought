{
 "cells": [
  {
   "cell_type": "code",
   "execution_count": 1,
   "metadata": {},
   "outputs": [],
   "source": [
    "#packages\n",
    "import pandas as pd\n",
    "from  util.russianfood import RussianSpider"
   ]
  },
  {
   "cell_type": "code",
   "execution_count": 2,
   "metadata": {},
   "outputs": [],
   "source": [
    "attrs = {\n",
    "        'name':         'normalize-space(//title)',\n",
    "        'ingredients':  '//tr[contains(@class,\"ingr_tr_\")]//text()',\n",
    "        'total_time':   'normalize-space(//div[@class=\"sub_info\"]/div[@class=\"el\"][2])',\n",
    "        'instructions': '//div[@class=\"step_n\"]//p//text()',\n",
    "        'servings':     'normalize-space(//div[@class=\"sub_info\"]/div[@class=\"el\"][1])',\n",
    "        'category':     '',\n",
    "        'prep_time':    '',\n",
    "        'cook_time':    '',\n",
    "}\n",
    "#listing={'items': '//div[@class=\"rprev\"]/div/a[2]/@href', 'next': { 'next_page_str': '?pn={}', 'type': 'random_pages' , 'max_items': 10000, 'items_per_page': 24, 'max_pages': 2120,}}\n",
    "listing={'items': '//div[contains(@class,\"recipe_list_new\")]//div[contains(@class,\"title\")]/a/@href', 'next': { 'next_page_str': '&page={}', 'type':'url',}}\n",
    "seeds = ['https://www.russianfood.com/recipes/bytype/?fid=130'] #104 is for ukraine\n",
    "available_json={}"
   ]
  },
  {
   "cell_type": "code",
   "execution_count": 3,
   "metadata": {},
   "outputs": [
    {
     "data": {
      "text/plain": [
       "{'name': 'Рецепт: Бешбармак на RussianFood.com',\n",
       " 'total_time': '\\xa03 часа',\n",
       " 'ingredients': ['Мясо (баранина, говядина, конина) - 1 кг',\n",
       "  'Масло сливочное - 150 г',\n",
       "  'Лук - 2 головки',\n",
       "  'Чеснок - 2 зубчика',\n",
       "  'Соль',\n",
       "  'Перец',\n",
       "  'Для теста:',\n",
       "  'Яйцо - 1 шт.',\n",
       "  'Мука - 1 кг',\n",
       "  'Соль'],\n",
       " 'instructions': ['Соус из лука с маслом для бешбармака.'],\n",
       " 'servings': '\\xa06 порций',\n",
       " 'category': '',\n",
       " 'prep_time': '',\n",
       " 'cook_time': ''}"
      ]
     },
     "execution_count": 3,
     "metadata": {},
     "output_type": "execute_result"
    }
   ],
   "source": [
    "#setup variables\n",
    "custom_header_template = { #setup custom header because romania requires certain headers\n",
    "        'referer': 'https://www.google.com/',\n",
    "        'Accept-Language': '*',\n",
    "        'Accept-Encoding': '*',\n",
    "        'Accept': '*',\n",
    "        'user-agent': ''}\n",
    "ru_spider= RussianSpider('https://www.russianfood.com/', seeds= seeds, listing =listing,attrs= attrs, available_json=available_json, header=custom_header_template,)\n",
    "#print(romania_spider.attrs)\n",
    "ru_spider.scrape_one_item('https://www.russianfood.com/recipes/recipe.php?rid=121759') #try out scraping one item"
   ]
  },
  {
   "cell_type": "code",
   "execution_count": 5,
   "metadata": {},
   "outputs": [
    {
     "name": "stdout",
     "output_type": "stream",
     "text": [
      "spider is scraping page: 1\n",
      "spider is scraping page: 2\n",
      "spider is scraping page: 3\n",
      "spider is scraping page: 4\n"
     ]
    }
   ],
   "source": [
    "result_list = ru_spider.start_scrape(max_pages=4, multithread=False) #max page is only 65, have to disable multithreading because of  blocking"
   ]
  },
  {
   "cell_type": "code",
   "execution_count": 6,
   "metadata": {},
   "outputs": [],
   "source": [
    "result_df = pd.DataFrame(result_list)"
   ]
  },
  {
   "cell_type": "code",
   "execution_count": 8,
   "metadata": {},
   "outputs": [],
   "source": [
    "#result_df.to_csv('data/kazakhstan/kazakhstan_rsfoodcom.csv')"
   ]
  },
  {
   "cell_type": "code",
   "execution_count": null,
   "metadata": {},
   "outputs": [],
   "source": [
    "attrs = {\n",
    "        'name':         'normalize-space(//h1[@itemprop=\"name\"]//text())',\n",
    "       'ingredients': '//li[@itemprop=\"recipeIngredient\"]//text()',\n",
    "        'total_time':   'normalize-space(//meta[@itemprop=\"totalTime\"]/@content)',\n",
    "        'instructions': '//div[@itemprop=\"recipeInstructions\"]//text()',\n",
    "        'servings':     'normalize-space(//em[@itemprop=\"recipeYield\"]//text())',\n",
    "        'category':     'normalize-space(//meta[@itemprop=\"recipeCategory\"]/@content)',\n",
    "        'prep_time':    'normalize-space(//meta[@itemprop=\"prepTime\"]/@content)',\n",
    "        'cook_time':    'normalize-space(//meta[@itemprop=\"cookTime\"]/@content)',\n",
    "}\n",
    "available_json={}\n",
    "\n",
    "listing={'items': '//div[@class=\"recipe\"]//a/@href', 'next': { 'next_page_str': '', 'type': 'url'}}\n",
    "seeds = ['https://povar.ru/list/kazahskaya/']\n"
   ]
  }
 ],
 "metadata": {
  "interpreter": {
   "hash": "7f97af7b90ec3405e1f66aa9bfad4ba40234615df6d29df3ef268808d6a9feec"
  },
  "kernelspec": {
   "display_name": "Python 3.9.1 ('wb-scraping': venv)",
   "language": "python",
   "name": "python3"
  },
  "language_info": {
   "codemirror_mode": {
    "name": "ipython",
    "version": 3
   },
   "file_extension": ".py",
   "mimetype": "text/x-python",
   "name": "python",
   "nbconvert_exporter": "python",
   "pygments_lexer": "ipython3",
   "version": "3.9.1"
  },
  "orig_nbformat": 4
 },
 "nbformat": 4,
 "nbformat_minor": 2
}
