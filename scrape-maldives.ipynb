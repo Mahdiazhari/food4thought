{
 "cells": [
  {
   "cell_type": "code",
   "execution_count": 1,
   "metadata": {},
   "outputs": [],
   "source": [
    "import pandas as pd\n",
    "\n",
    "from  util.maldives.maldivescook import MaldivesCook"
   ]
  },
  {
   "cell_type": "code",
   "execution_count": 2,
   "metadata": {},
   "outputs": [],
   "source": [
    "attrs = {\n",
    "        'name'       :   'name',\n",
    "        'ingredients':  'recipeIngredient',\n",
    "        'total_time':   'totalTime',\n",
    "        'instructions': 'recipeInstructions',\n",
    "        'servings':     'recipeYield',\n",
    "        'category':     'recipeCategory',\n",
    "        'prep_time':    'prepTime',\n",
    "        'cook_time':    'cookTime',\n",
    "}\n",
    "available_json = {'xpath' : \"normalize-space(//script[@type='application/ld+json'][contains(text(), 'recipeIngredient')])\"}\n",
    "listing={'items': '//div[@class=\"cooked-recipe-wrap\"]/a/@href', 'next': { 'next_page_str': '', 'type': 'url'}}\n",
    "seeds1 = [    \n",
    "\"\"\"\n",
    "action=cooked_loadmore&atts%5Bcategory%5D=false&atts%5Border%5D=false&atts%5Borderby%5D=false&atts%5Bshow%5D=false&atts%5Bsearch%5D=true&atts%5Bpagination%5D=true&atts%5Bcolumns%5D=4&atts%5Blayout%5D=modern&atts%5Bauthor%5D=&atts%5Bcompact%5D=false&atts%5Bhide_browse%5D=false&atts%5Bhide_sorting%5D=false&atts%5Bexclude%5D=false&atts%5Binline_browse%5D=false&atts%5Bcuisine%5D=false&atts%5Bcooking-method%5D=false&atts%5Btag%5D=false&recipe_args=a%3A6%3A%7Bs%3A5%3A%22paged%22%3Bi%3A1%3Bs%3A9%3A%22post_type%22%3Bs%3A9%3A%22cp_recipe%22%3Bs%3A14%3A%22posts_per_page%22%3Bs%3A2%3A%2212%22%3Bs%3A11%3A%22post_status%22%3Bs%3A7%3A%22publish%22%3Bs%3A7%3A%22orderby%22%3Ba%3A1%3A%7Bs%3A6%3A%22rating%22%3Bs%3A4%3A%22desc%22%3B%7Ds%3A10%3A%22meta_query%22%3Ba%3A5%3A%7Bs%3A8%3A%22relation%22%3Bs%3A3%3A%22AND%22%3Bs%3A6%3A%22rating%22%3Ba%3A3%3A%7Bs%3A3%3A%22key%22%3Bs%3A14%3A%22_recipe_rating%22%3Bs%3A5%3A%22value%22%3Bs%3A1%3A%221%22%3Bs%3A7%3A%22compare%22%3Bs%3A2%3A%22%3E%3D%22%3B%7Ds%3A13%3A%22rating_exists%22%3Ba%3A2%3A%7Bs%3A3%3A%22key%22%3Bs%3A14%3A%22_recipe_rating%22%3Bs%3A7%3A%22compare%22%3Bs%3A6%3A%22EXISTS%22%3B%7Di%3A0%3Ba%3A3%3A%7Bs%3A8%3A%22relation%22%3Bs%3A2%3A%22OR%22%3Bs%3A10%3A%22draft_null%22%3Ba%3A2%3A%7Bs%3A3%3A%22key%22%3Bs%3A13%3A%22_recipe_draft%22%3Bs%3A7%3A%22compare%22%3Bs%3A10%3A%22NOT+EXISTS%22%3B%7Ds%3A10%3A%22draft_zero%22%3Ba%3A3%3A%7Bs%3A3%3A%22key%22%3Bs%3A13%3A%22_recipe_draft%22%3Bs%3A7%3A%22compare%22%3Bs%3A2%3A%22!%3D%22%3Bs%3A5%3A%22value%22%3Bi%3A1%3B%7D%7Di%3A1%3Ba%3A3%3A%7Bs%3A8%3A%22relation%22%3Bs%3A2%3A%22OR%22%3Bs%3A12%3A%22pending_null%22%3Ba%3A2%3A%7Bs%3A3%3A%22key%22%3Bs%3A15%3A%22_recipe_pending%22%3Bs%3A7%3A%22compare%22%3Bs%3A10%3A%22NOT+EXISTS%22%3B%7Ds%3A12%3A%22pending_zero%22%3Ba%3A3%3A%7Bs%3A3%3A%22key%22%3Bs%3A15%3A%22_recipe_pending%22%3Bs%3A7%3A%22compare%22%3Bs%3A2%3A%22!%3D%22%3Bs%3A5%3A%22value%22%3Bi%3A1%3B%7D%7D%7D%7D&page={current_page}\n",
    "\"\"\",\n",
    "    \n",
    "     ]\n",
    "seeds = ['https://maldivescook.com/', ]"
   ]
  },
  {
   "cell_type": "code",
   "execution_count": 3,
   "metadata": {},
   "outputs": [],
   "source": [
    "custom_header_template1 = { #setup custom header because romania requires certain headers\n",
    "        'referer': 'https://maldivescook.com',\n",
    "        'origin' : 'https://maldivescook.com',\n",
    "        'Accept-Language': 'en-US,en;q=0.9',\n",
    "        'content-type': 'application/x-www-form-urlencoded; charset=UTF-8',\n",
    "        'Accept-Encoding': 'gzip, deflate, br',\n",
    "        'Accept': '*/*',\n",
    "        'content-length' : '1925',\n",
    "        'x-requested-with' : 'XMLHttpRequest',\n",
    "        'cookie' : '_ga=GA1.2.2037868087.1652273508; _gid=GA1.2.1773020320.1652273508; _gat=1',\n",
    "        'user-agent': 'Mozilla/5.0 (Macintosh; Intel Mac OS X 10_15_7) AppleWebKit/537.36 (KHTML, like Gecko) Chrome/101.0.4951.41 Safari/537.36',\n",
    "        'sec-ch-ua': 'Not A;Brand\";v=\"99\", \"Chromium\";v=\"101\", \"Google Chrome\";v=\"101\"',\n",
    "        'sec-ch-ua-mobile': '?0',\n",
    "\n",
    "        'sec-ch-ua-platform': \"macOS\",\n",
    "        'sec-fetch-dest': 'empty',\n",
    "        'sec-fetch-mode': 'cors',\n",
    "        'sec-fetch-site': 'same-origin',\n",
    "\n",
    "        }"
   ]
  },
  {
   "cell_type": "code",
   "execution_count": 4,
   "metadata": {},
   "outputs": [],
   "source": [
    "custom_header_template = { #setup custom header because this website requires certain headers\n",
    "        'referer': 'https://maldivescook.com',\n",
    "        'Accept-Language': '*',\n",
    "        'Accept-Encoding': '*', \n",
    "        'sec-ch-ua': '\" Not A;Brand\";v=\"99\", \"Chromium\";v=\"100\", \"Google Chrome\";v=\"100\"',\n",
    "        'sec-fetch-site' : 'same-origin',\n",
    "        #'cookie': '_ga=GA1.2.1978438003.1649681893; cb-enabled=enabled; _gid=GA1.2.1870821735.1650271735; ao-fpgad=%7B%22fpcRequired%22%3Afalse%2C%22checkTS%22%3A1650271735392%2C%22domain%22%3A%22lauralaurentiu.ro%22%7D; __gads=ID=3dd1ab9c6ddf9fc9-2289c17b2ed20094:T=1649681893:RT=1650271783:S=ALNI_MbZpRpmkjwza5LhQQ1HkGR0H4wMjQ',\n",
    "        'user-agent': ''}"
   ]
  },
  {
   "cell_type": "code",
   "execution_count": 5,
   "metadata": {},
   "outputs": [],
   "source": [
    "maldives_spider = MaldivesCook('https://maldivescook.com', seeds= seeds, listing =listing,attrs= attrs, available_json=available_json,header = custom_header_template)"
   ]
  },
  {
   "cell_type": "code",
   "execution_count": 6,
   "metadata": {},
   "outputs": [
    {
     "data": {
      "text/plain": [
       "{'name': 'Tuna Petties',\n",
       " 'total_time': 'PT1H0M',\n",
       " 'ingredients': ['1½ cans tuna – drained',\n",
       "  '½ Scotch Bonnet (githeyo mirus) – finely chopped',\n",
       "  '¼ cup curry leaves – finely chopped',\n",
       "  '1½ cups potatoes – boiled and mashed',\n",
       "  '½ tsp pepper powder',\n",
       "  '½ tbsp ginger – grated',\n",
       "  '1 onion – finely chopped',\n",
       "  '½ cup lemon juice',\n",
       "  'Salt to taste',\n",
       "  '1½ cups flour – sifted',\n",
       "  '1 egg',\n",
       "  '½ tsp salt',\n",
       "  'Warm water',\n",
       "  'Vegetable oil'],\n",
       " 'instructions': ['Filling',\n",
       "  'Mix onion, chili, ginger, lemon juice, pepper and salt. Squeeze the mixture well to make sure the tastes of the different ingredients blend together. \\n',\n",
       "  'Add the tuna and mix, squeezing gently, before adding the potatoes. The mixture should now be a thick paste-like mixture. \\n',\n",
       "  'Dough',\n",
       "  'Add the egg and salt into the flour. Then add warm water and knead until you have dry, smooth dough. Add the water gradually to make sure the dough does not turn out too sticky. \\n',\n",
       "  'Spread the dough using a rolling pin and cut out circles using a glass of about 3 inch in diameter. \\n',\n",
       "  'Into each circle put a piece of the filling and close to form a semicircle. Using a fork, press on the round edge of the semicircle (or use a ‘patties mould’). \\n',\n",
       "  'Frying',\n",
       "  'Deep fry in vegetable oil and drain.\\n'],\n",
       " 'servings': '',\n",
       " 'category': 'Snacks',\n",
       " 'prep_time': 'PT0H45M',\n",
       " 'cook_time': 'PT0H15M'}"
      ]
     },
     "execution_count": 6,
     "metadata": {},
     "output_type": "execute_result"
    }
   ],
   "source": [
    "maldives_spider.scrape_one_item('https://maldivescook.com/recipe/tuna-petties/')"
   ]
  },
  {
   "cell_type": "code",
   "execution_count": 7,
   "metadata": {},
   "outputs": [
    {
     "ename": "KeyError",
     "evalue": "'next'",
     "output_type": "error",
     "traceback": [
      "\u001b[0;31m---------------------------------------------------------------------------\u001b[0m",
      "\u001b[0;31mKeyError\u001b[0m                                  Traceback (most recent call last)",
      "\u001b[1;32m/Users/mahdiazhari/world-bank/scrape-maldives.ipynb Cell 7'\u001b[0m in \u001b[0;36m<cell line: 1>\u001b[0;34m()\u001b[0m\n\u001b[0;32m----> <a href='vscode-notebook-cell:/Users/mahdiazhari/world-bank/scrape-maldives.ipynb#ch0000005?line=0'>1</a>\u001b[0m result_list \u001b[39m=\u001b[39m maldives_spider\u001b[39m.\u001b[39;49mstart_scrape(max_pages\u001b[39m=\u001b[39;49m\u001b[39m1\u001b[39;49m)\n",
      "File \u001b[0;32m~/world-bank/util/spider.py:305\u001b[0m, in \u001b[0;36mSpider.start_scrape\u001b[0;34m(self, max_pages, multithread)\u001b[0m\n\u001b[1;32m    <a href='file:///Users/mahdiazhari/world-bank/util/spider.py?line=302'>303</a>\u001b[0m \u001b[39m#try:\u001b[39;00m\n\u001b[1;32m    <a href='file:///Users/mahdiazhari/world-bank/util/spider.py?line=303'>304</a>\u001b[0m \u001b[39mfor\u001b[39;00m seed_url \u001b[39min\u001b[39;00m \u001b[39mself\u001b[39m\u001b[39m.\u001b[39mseeds:\n\u001b[0;32m--> <a href='file:///Users/mahdiazhari/world-bank/util/spider.py?line=304'>305</a>\u001b[0m     \u001b[39mif\u001b[39;00m \u001b[39mself\u001b[39;49m\u001b[39m.\u001b[39;49mlisting[\u001b[39m'\u001b[39;49m\u001b[39mnext\u001b[39;49m\u001b[39m'\u001b[39;49m][\u001b[39m'\u001b[39m\u001b[39mtype\u001b[39m\u001b[39m'\u001b[39m] \u001b[39m==\u001b[39m \u001b[39m'\u001b[39m\u001b[39mrandom_pages\u001b[39m\u001b[39m'\u001b[39m:\n\u001b[1;32m    <a href='file:///Users/mahdiazhari/world-bank/util/spider.py?line=305'>306</a>\u001b[0m         max_items  \u001b[39m=\u001b[39m \u001b[39mself\u001b[39m\u001b[39m.\u001b[39mlisting[\u001b[39m'\u001b[39m\u001b[39mnext\u001b[39m\u001b[39m'\u001b[39m][\u001b[39m'\u001b[39m\u001b[39mmax_items\u001b[39m\u001b[39m'\u001b[39m] \n\u001b[1;32m    <a href='file:///Users/mahdiazhari/world-bank/util/spider.py?line=306'>307</a>\u001b[0m         item_per_page \u001b[39m=\u001b[39m \u001b[39mself\u001b[39m\u001b[39m.\u001b[39mlisting[\u001b[39m'\u001b[39m\u001b[39mnext\u001b[39m\u001b[39m'\u001b[39m][\u001b[39m'\u001b[39m\u001b[39mitems_per_page\u001b[39m\u001b[39m'\u001b[39m]\n",
      "\u001b[0;31mKeyError\u001b[0m: 'next'"
     ]
    }
   ],
   "source": [
    "result_list = maldives_spider.start_scrape(max_pages=1)"
   ]
  },
  {
   "cell_type": "code",
   "execution_count": null,
   "metadata": {},
   "outputs": [],
   "source": []
  }
 ],
 "metadata": {
  "interpreter": {
   "hash": "7f97af7b90ec3405e1f66aa9bfad4ba40234615df6d29df3ef268808d6a9feec"
  },
  "kernelspec": {
   "display_name": "Python 3.9.1 ('wb-scraping': venv)",
   "language": "python",
   "name": "python3"
  },
  "language_info": {
   "codemirror_mode": {
    "name": "ipython",
    "version": 3
   },
   "file_extension": ".py",
   "mimetype": "text/x-python",
   "name": "python",
   "nbconvert_exporter": "python",
   "pygments_lexer": "ipython3",
   "version": "3.9.1"
  },
  "orig_nbformat": 4
 },
 "nbformat": 4,
 "nbformat_minor": 2
}
