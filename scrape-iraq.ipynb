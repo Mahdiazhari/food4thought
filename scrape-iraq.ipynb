{
 "cells": [
  {
   "cell_type": "code",
   "execution_count": 9,
   "metadata": {},
   "outputs": [],
   "source": [
    "import pandas as pd\n",
    "\n",
    "from  util.iraq.atyabtabkha import Atyabtabkha"
   ]
  },
  {
   "cell_type": "code",
   "execution_count": 10,
   "metadata": {},
   "outputs": [],
   "source": [
    "custom_header_template = { #setup custom header because romania requires certain headers\n",
    "        'referer': 'https://www.google.com/',\n",
    "        'Accept-Language': '*',\n",
    "        'Accept-Encoding': 'gzip, deflate, br',\n",
    "        'Accept': 'text/html, */*; q=0.01',\n",
    "        'user-agent': ''}"
   ]
  },
  {
   "cell_type": "code",
   "execution_count": 11,
   "metadata": {},
   "outputs": [],
   "source": [
    "attrs = {\n",
    "        'name'       :  'name',\n",
    "        'ingredients':  'recipeIngredient',\n",
    "        'total_time':   'totalTime',\n",
    "        'instructions': 'recipeInstructions',\n",
    "        'servings':     'recipeYield',\n",
    "        'category':     'recipeCategory',\n",
    "        'prep_time':    'prepTime',\n",
    "        'cook_time':    'cookTime',\n",
    "}\n",
    "available_json = {'xpath' : \"normalize-space(//script[@type='application/ld+json'][contains(text(), 'recipeIngredient')])\"}\n",
    "seeds= [\n",
    "        #soup\n",
    "        '&post_type=recipe&post_per_page=24&taxonomy=post_tag&tag_name=%d8%ad%d8%b3%d8%a7%d8%a1&term_slug=%d8%ad%d8%b3%d8%a7%d8%a1&ingredient_id=0&featured_id2=0&featured_id=182902&pageNumber={}&maxPages=37&action=more_post_ajax',\n",
    "        \n",
    "        #authority? - salad\n",
    "        '&post_type=recipe&post_per_page=24&taxonomy=post_tag&tag_name=%d8%b3%d9%84%d8%b7%d8%a9&term_slug=%d8%b3%d9%84%d8%b7%d8%a9&ingredient_id=0&featured_id2=0&featured_id=181819&pageNumber={}&maxPages=43&action=more_post_ajax',\n",
    "\n",
    "        #appetizers\n",
    "        '&post_type=recipe&post_per_page=24&taxonomy=post_tag&tag_name=%d9%85%d9%82%d8%a8%d9%84%d8%a7%d8%aa&term_slug=%d9%85%d9%82%d8%a8%d9%84%d8%a7%d8%aa&ingredient_id=0&featured_id2=0&featured_id=183239&pageNumber=2&maxPages=139&action=more_post_ajax',\n",
    "        \n",
    "\n",
    "        #sandwiches\n",
    "        '&post_type=recipe&post_per_page=24&taxonomy=post_tag&tag_name=%d8%b3%d9%86%d8%af%d9%88%d9%8a%d8%b4%d8%a7%d8%aa&term_slug=%d8%b3%d9%86%d8%af%d9%88%d9%8a%d8%b4%d8%a7%d8%aa&ingredient_id=0&featured_id2=0&featured_id=183228&pageNumber=2&maxPages=13&action=more_post_ajax',\n",
    "        \n",
    "        #breakfast\n",
    "        '&post_type=recipe&post_per_page=24&taxonomy=post_tag&tag_name=%d9%81%d8%b7%d9%88%d8%b1&term_slug=%d9%81%d8%b7%d9%88%d8%b1&ingredient_id=0&featured_id2=0&featured_id=183161&pageNumber=2&maxPages=81&action=more_post_ajax'\n",
    "\n",
    "]\n",
    "listing = {}"
   ]
  },
  {
   "cell_type": "code",
   "execution_count": null,
   "metadata": {},
   "outputs": [],
   "source": []
  },
  {
   "cell_type": "markdown",
   "metadata": {},
   "source": [
    "# Testing Requests POST with custom payload"
   ]
  },
  {
   "cell_type": "code",
   "execution_count": null,
   "metadata": {},
   "outputs": [],
   "source": [
    "# payload = \"\"\"&post_type=recipe&post_per_page=24&taxonomy=post_tag&tag_name=%d8%ad%d8%b3%d8%a7%d8%a1&term_slug=%d8%ad%d8%b3%d8%a7%d8%a1&ingredient_id=0&featured_id2=0&featured_id=182902&pageNumber={}&maxPages=37&action=more_post_ajax\"\"\"\n",
    "# max_page = int(re.findall('(?<=&maxPages=)(.*)(?=&)', payload)[0])\n",
    "# print('max page: ', max_page)\n",
    "# POST_URL = 'https://www.atyabtabkha.com/wp-admin/admin-ajax.php'\n",
    "# session = requests.Session() \n",
    "# #randomize user-agent in every request\n",
    "# random_ua =  get_random_ua()\n",
    "# header_template = post_request_header_template\n",
    "# header_template['user-agent'] = random_ua\n",
    "# session.headers.update(header_template)\n",
    "# res = session.post(POST_URL, data=payload, headers=header_template)\n",
    "# if res.status_code == 200:\n",
    "#     try:\n",
    "#         doc = html.document_fromstring(res.text)\n",
    "#         items_xpath = '//div[contains(@class,\"article--alt\")]/a/@href'\n",
    "#         urls = doc.xpath(items_xpath)\n",
    "#         #print(urls)\n",
    "#         print('amount of urls we got: ', len(urls))\n",
    "#     except:\n",
    "#         print('doc is probably empty')\n",
    "# else:\n",
    "#     print('failed')\n",
    "#     print(res.status_code)"
   ]
  },
  {
   "cell_type": "code",
   "execution_count": 12,
   "metadata": {},
   "outputs": [],
   "source": [
    "iraq_spider = Atyabtabkha('https://www.atyabtabkha.com', seeds= seeds, listing =listing,attrs= attrs, available_json=available_json,header = custom_header_template)"
   ]
  },
  {
   "cell_type": "code",
   "execution_count": 6,
   "metadata": {},
   "outputs": [],
   "source": [
    "one_url = 'https://www.atyabtabkha.com/recipe/%d8%b7%d8%b1%d9%8a%d9%82%d8%a9-%d8%b9%d9%85%d9%84-%d8%b4%d9%88%d8%b1%d8%a8%d8%a9-%d9%84%d8%b3%d8%a7%d9%86-%d8%a7%d9%84%d8%b9%d8%b5%d9%81%d9%88%d8%b1-%d9%85%d8%ab%d9%84-%d8%a7%d9%84%d9%85%d8%b7%d8%a7%d8%b9%d9%85-2327219'"
   ]
  },
  {
   "cell_type": "code",
   "execution_count": 7,
   "metadata": {},
   "outputs": [
    {
     "data": {
      "text/plain": [
       "{'name': 'طريقة عمل شوربة لسان العصفور مثل المطاعم',\n",
       " 'total_time': 'PT80M',\n",
       " 'ingredients': ['لسان العصفور نصف كوب مكرونة',\n",
       "  ' نصف ملعقة صغيرة زيت زيتون',\n",
       "  'حجم متوسط، مقطّع إلى حلقات 2\\u200f جزر',\n",
       "  'حجم صغير، مفروم فرماً خشناً 2\\u200f بصل',\n",
       "  '، مفروم فصّ ثوم',\n",
       "  'مجفف ربع ملعقة صغيرة زعتر',\n",
       "  ' ربع ملعقة صغيرة اوريغانو',\n",
       "  '، مفروم فرماً خشناً 1\\u200f كرفس',\n",
       "  ' 1\\u200f ورق غار',\n",
       "  'مسلوق، مقطّع إلى شرائح 500 غرام صدر دجاج',\n",
       "  ' 6 أكواب مرق دجاج',\n",
       "  ' ربع كوب عصير ليمون حامض',\n",
       "  '، مبشور ملعقة صغيرة قشر ليمون حامض',\n",
       "  'بيبي نصف كوب سبانخ',\n",
       "  ' نصف ملعقة صغيرة ملح',\n",
       "  ' ملعقة صغيرة فلفل أسود',\n",
       "  '، مقطّع إلى شرائح بحسب الرغبة ليمون حامض'],\n",
       " 'instructions': [' \\u200f1-\\u200f في قدر على حرارة متوسطة، إغلي كمية وافرة من الماء. أضيفي مكرونة لسان العصفور واسلقيها لـ5 دقائق.\\u200f \\u200f2-\\u200f صفّي مكرونة لسان العصفور من الماء ومرّري المصفاة تحت الماء البارد حتى تتوقف عملية السلق.\\u200f \\u200f3-\\u200f سخّني زيت الزيتون في قدر على حرارة متوسطة. أضيفي الكرفس، الجزر والبصل. قلّبي المزيج لـ7 دقائق حتى يذبل.\\u200f \\u200f4-\\u200f أضيفي الثوم وورقة الغار وقلّبي المزيج لدقيقة. نكّهي بالزعتر، الأوريغانو، الملح والفلفل الأسود. قلّبي المكونات حتى \\u200fتتداخل.\\u200f \\u200f5-\\u200f أضيفي مرق الدجاج وضعي الغطاء دون تغطية القدر بالكامل. عندما يغلي المزيج، خففي النار واغلي المكونات على \\u200fحرارة هادئة لـ10 دقائق.\\u200f \\u200f6-\\u200f أضيفي مكرونة لسان العصفور، عصير الليمون الحامض وقشر الليمون الحامض المبشور. زيدي الدجاج المطبوخ.\\u200f \\u200f7-\\u200f حرّكي المزيج حتى تتداخل المكونات. اضيفي السبانخ واطهي الشوربة لـ3-4 دقائق حتى تنضج المكرونة ويذبل \\u200fالسبانخ.\\u200f \\u200f8-\\u200f قدّمي الشوربة ساخنة على سفرتك. ألف صحة!\\u200f'],\n",
       " 'servings': '6',\n",
       " 'category': 'حساء',\n",
       " 'prep_time': 'PT20M',\n",
       " 'cook_time': 'PT60M'}"
      ]
     },
     "execution_count": 7,
     "metadata": {},
     "output_type": "execute_result"
    }
   ],
   "source": [
    "iraq_spider.scrape_one_item(one_url)"
   ]
  },
  {
   "cell_type": "code",
   "execution_count": 13,
   "metadata": {},
   "outputs": [
    {
     "name": "stdout",
     "output_type": "stream",
     "text": [
      "max page:  37\n",
      "spider is scraping page: 1\n",
      "amount of urls we got:  24\n",
      "scraping - multithreaded, n items:  24\n",
      "spider is scraping page: 2\n",
      "amount of urls we got:  24\n"
     ]
    },
    {
     "ename": "KeyboardInterrupt",
     "evalue": "",
     "output_type": "error",
     "traceback": [
      "\u001b[0;31m---------------------------------------------------------------------------\u001b[0m",
      "\u001b[0;31mKeyboardInterrupt\u001b[0m                         Traceback (most recent call last)",
      "\u001b[1;32m/Users/mahdiazhari/world-bank/scrape-iraq.ipynb Cell 10'\u001b[0m in \u001b[0;36m<cell line: 1>\u001b[0;34m()\u001b[0m\n\u001b[0;32m----> <a href='vscode-notebook-cell:/Users/mahdiazhari/world-bank/scrape-iraq.ipynb#ch0000008?line=0'>1</a>\u001b[0m results_list \u001b[39m=\u001b[39m iraq_spider\u001b[39m.\u001b[39;49mstart_scrape()\n",
      "File \u001b[0;32m~/world-bank/util/iraq/atyabtabkha.py:228\u001b[0m, in \u001b[0;36mAtyabtabkha.start_scrape\u001b[0;34m(self, max_pages, multithread)\u001b[0m\n\u001b[1;32m    <a href='file:///Users/mahdiazhari/world-bank/util/iraq/atyabtabkha.py?line=224'>225</a>\u001b[0m \u001b[39mif\u001b[39;00m multithread: \n\u001b[1;32m    <a href='file:///Users/mahdiazhari/world-bank/util/iraq/atyabtabkha.py?line=225'>226</a>\u001b[0m     \u001b[39m#pool = Pool() #initialize Pathos multiprocessing pool\u001b[39;00m\n\u001b[1;32m    <a href='file:///Users/mahdiazhari/world-bank/util/iraq/atyabtabkha.py?line=226'>227</a>\u001b[0m     pool \u001b[39m=\u001b[39m mp\u001b[39m.\u001b[39mPool(mp\u001b[39m.\u001b[39mcpu_count()) \u001b[39m#initialize multiprocessing pool\u001b[39;00m\n\u001b[0;32m--> <a href='file:///Users/mahdiazhari/world-bank/util/iraq/atyabtabkha.py?line=227'>228</a>\u001b[0m     results  \u001b[39m=\u001b[39m pool\u001b[39m.\u001b[39;49mmap(\u001b[39mself\u001b[39;49m\u001b[39m.\u001b[39;49mscrape_one_item, [url \u001b[39mfor\u001b[39;49;00m url \u001b[39min\u001b[39;49;00m listing_items])\n\u001b[1;32m    <a href='file:///Users/mahdiazhari/world-bank/util/iraq/atyabtabkha.py?line=228'>229</a>\u001b[0m     \u001b[39mprint\u001b[39m(\u001b[39m'\u001b[39m\u001b[39mscraping - multithreaded, n items: \u001b[39m\u001b[39m'\u001b[39m, \u001b[39mlen\u001b[39m(listing_items))\n\u001b[1;32m    <a href='file:///Users/mahdiazhari/world-bank/util/iraq/atyabtabkha.py?line=229'>230</a>\u001b[0m     pool\u001b[39m.\u001b[39mclose() \u001b[39m#close the multiprocessing  pool\u001b[39;00m\n",
      "File \u001b[0;32m/usr/local/Cellar/python@3.9/3.9.1_1/Frameworks/Python.framework/Versions/3.9/lib/python3.9/multiprocessing/pool.py:364\u001b[0m, in \u001b[0;36mPool.map\u001b[0;34m(self, func, iterable, chunksize)\u001b[0m\n\u001b[1;32m    <a href='file:///usr/local/Cellar/python%403.9/3.9.1_1/Frameworks/Python.framework/Versions/3.9/lib/python3.9/multiprocessing/pool.py?line=358'>359</a>\u001b[0m \u001b[39mdef\u001b[39;00m \u001b[39mmap\u001b[39m(\u001b[39mself\u001b[39m, func, iterable, chunksize\u001b[39m=\u001b[39m\u001b[39mNone\u001b[39;00m):\n\u001b[1;32m    <a href='file:///usr/local/Cellar/python%403.9/3.9.1_1/Frameworks/Python.framework/Versions/3.9/lib/python3.9/multiprocessing/pool.py?line=359'>360</a>\u001b[0m     \u001b[39m'''\u001b[39;00m\n\u001b[1;32m    <a href='file:///usr/local/Cellar/python%403.9/3.9.1_1/Frameworks/Python.framework/Versions/3.9/lib/python3.9/multiprocessing/pool.py?line=360'>361</a>\u001b[0m \u001b[39m    Apply `func` to each element in `iterable`, collecting the results\u001b[39;00m\n\u001b[1;32m    <a href='file:///usr/local/Cellar/python%403.9/3.9.1_1/Frameworks/Python.framework/Versions/3.9/lib/python3.9/multiprocessing/pool.py?line=361'>362</a>\u001b[0m \u001b[39m    in a list that is returned.\u001b[39;00m\n\u001b[1;32m    <a href='file:///usr/local/Cellar/python%403.9/3.9.1_1/Frameworks/Python.framework/Versions/3.9/lib/python3.9/multiprocessing/pool.py?line=362'>363</a>\u001b[0m \u001b[39m    '''\u001b[39;00m\n\u001b[0;32m--> <a href='file:///usr/local/Cellar/python%403.9/3.9.1_1/Frameworks/Python.framework/Versions/3.9/lib/python3.9/multiprocessing/pool.py?line=363'>364</a>\u001b[0m     \u001b[39mreturn\u001b[39;00m \u001b[39mself\u001b[39;49m\u001b[39m.\u001b[39;49m_map_async(func, iterable, mapstar, chunksize)\u001b[39m.\u001b[39;49mget()\n",
      "File \u001b[0;32m/usr/local/Cellar/python@3.9/3.9.1_1/Frameworks/Python.framework/Versions/3.9/lib/python3.9/multiprocessing/pool.py:765\u001b[0m, in \u001b[0;36mApplyResult.get\u001b[0;34m(self, timeout)\u001b[0m\n\u001b[1;32m    <a href='file:///usr/local/Cellar/python%403.9/3.9.1_1/Frameworks/Python.framework/Versions/3.9/lib/python3.9/multiprocessing/pool.py?line=763'>764</a>\u001b[0m \u001b[39mdef\u001b[39;00m \u001b[39mget\u001b[39m(\u001b[39mself\u001b[39m, timeout\u001b[39m=\u001b[39m\u001b[39mNone\u001b[39;00m):\n\u001b[0;32m--> <a href='file:///usr/local/Cellar/python%403.9/3.9.1_1/Frameworks/Python.framework/Versions/3.9/lib/python3.9/multiprocessing/pool.py?line=764'>765</a>\u001b[0m     \u001b[39mself\u001b[39;49m\u001b[39m.\u001b[39;49mwait(timeout)\n\u001b[1;32m    <a href='file:///usr/local/Cellar/python%403.9/3.9.1_1/Frameworks/Python.framework/Versions/3.9/lib/python3.9/multiprocessing/pool.py?line=765'>766</a>\u001b[0m     \u001b[39mif\u001b[39;00m \u001b[39mnot\u001b[39;00m \u001b[39mself\u001b[39m\u001b[39m.\u001b[39mready():\n\u001b[1;32m    <a href='file:///usr/local/Cellar/python%403.9/3.9.1_1/Frameworks/Python.framework/Versions/3.9/lib/python3.9/multiprocessing/pool.py?line=766'>767</a>\u001b[0m         \u001b[39mraise\u001b[39;00m \u001b[39mTimeoutError\u001b[39;00m\n",
      "File \u001b[0;32m/usr/local/Cellar/python@3.9/3.9.1_1/Frameworks/Python.framework/Versions/3.9/lib/python3.9/multiprocessing/pool.py:762\u001b[0m, in \u001b[0;36mApplyResult.wait\u001b[0;34m(self, timeout)\u001b[0m\n\u001b[1;32m    <a href='file:///usr/local/Cellar/python%403.9/3.9.1_1/Frameworks/Python.framework/Versions/3.9/lib/python3.9/multiprocessing/pool.py?line=760'>761</a>\u001b[0m \u001b[39mdef\u001b[39;00m \u001b[39mwait\u001b[39m(\u001b[39mself\u001b[39m, timeout\u001b[39m=\u001b[39m\u001b[39mNone\u001b[39;00m):\n\u001b[0;32m--> <a href='file:///usr/local/Cellar/python%403.9/3.9.1_1/Frameworks/Python.framework/Versions/3.9/lib/python3.9/multiprocessing/pool.py?line=761'>762</a>\u001b[0m     \u001b[39mself\u001b[39;49m\u001b[39m.\u001b[39;49m_event\u001b[39m.\u001b[39;49mwait(timeout)\n",
      "File \u001b[0;32m/usr/local/Cellar/python@3.9/3.9.1_1/Frameworks/Python.framework/Versions/3.9/lib/python3.9/threading.py:574\u001b[0m, in \u001b[0;36mEvent.wait\u001b[0;34m(self, timeout)\u001b[0m\n\u001b[1;32m    <a href='file:///usr/local/Cellar/python%403.9/3.9.1_1/Frameworks/Python.framework/Versions/3.9/lib/python3.9/threading.py?line=571'>572</a>\u001b[0m signaled \u001b[39m=\u001b[39m \u001b[39mself\u001b[39m\u001b[39m.\u001b[39m_flag\n\u001b[1;32m    <a href='file:///usr/local/Cellar/python%403.9/3.9.1_1/Frameworks/Python.framework/Versions/3.9/lib/python3.9/threading.py?line=572'>573</a>\u001b[0m \u001b[39mif\u001b[39;00m \u001b[39mnot\u001b[39;00m signaled:\n\u001b[0;32m--> <a href='file:///usr/local/Cellar/python%403.9/3.9.1_1/Frameworks/Python.framework/Versions/3.9/lib/python3.9/threading.py?line=573'>574</a>\u001b[0m     signaled \u001b[39m=\u001b[39m \u001b[39mself\u001b[39;49m\u001b[39m.\u001b[39;49m_cond\u001b[39m.\u001b[39;49mwait(timeout)\n\u001b[1;32m    <a href='file:///usr/local/Cellar/python%403.9/3.9.1_1/Frameworks/Python.framework/Versions/3.9/lib/python3.9/threading.py?line=574'>575</a>\u001b[0m \u001b[39mreturn\u001b[39;00m signaled\n",
      "File \u001b[0;32m/usr/local/Cellar/python@3.9/3.9.1_1/Frameworks/Python.framework/Versions/3.9/lib/python3.9/threading.py:312\u001b[0m, in \u001b[0;36mCondition.wait\u001b[0;34m(self, timeout)\u001b[0m\n\u001b[1;32m    <a href='file:///usr/local/Cellar/python%403.9/3.9.1_1/Frameworks/Python.framework/Versions/3.9/lib/python3.9/threading.py?line=309'>310</a>\u001b[0m \u001b[39mtry\u001b[39;00m:    \u001b[39m# restore state no matter what (e.g., KeyboardInterrupt)\u001b[39;00m\n\u001b[1;32m    <a href='file:///usr/local/Cellar/python%403.9/3.9.1_1/Frameworks/Python.framework/Versions/3.9/lib/python3.9/threading.py?line=310'>311</a>\u001b[0m     \u001b[39mif\u001b[39;00m timeout \u001b[39mis\u001b[39;00m \u001b[39mNone\u001b[39;00m:\n\u001b[0;32m--> <a href='file:///usr/local/Cellar/python%403.9/3.9.1_1/Frameworks/Python.framework/Versions/3.9/lib/python3.9/threading.py?line=311'>312</a>\u001b[0m         waiter\u001b[39m.\u001b[39;49macquire()\n\u001b[1;32m    <a href='file:///usr/local/Cellar/python%403.9/3.9.1_1/Frameworks/Python.framework/Versions/3.9/lib/python3.9/threading.py?line=312'>313</a>\u001b[0m         gotit \u001b[39m=\u001b[39m \u001b[39mTrue\u001b[39;00m\n\u001b[1;32m    <a href='file:///usr/local/Cellar/python%403.9/3.9.1_1/Frameworks/Python.framework/Versions/3.9/lib/python3.9/threading.py?line=313'>314</a>\u001b[0m     \u001b[39melse\u001b[39;00m:\n",
      "\u001b[0;31mKeyboardInterrupt\u001b[0m: "
     ]
    }
   ],
   "source": [
    "results_list = iraq_spider.start_scrape()"
   ]
  },
  {
   "cell_type": "code",
   "execution_count": null,
   "metadata": {},
   "outputs": [],
   "source": []
  }
 ],
 "metadata": {
  "interpreter": {
   "hash": "7f97af7b90ec3405e1f66aa9bfad4ba40234615df6d29df3ef268808d6a9feec"
  },
  "kernelspec": {
   "display_name": "Python 3.9.1 ('wb-scraping': venv)",
   "language": "python",
   "name": "python3"
  },
  "language_info": {
   "codemirror_mode": {
    "name": "ipython",
    "version": 3
   },
   "file_extension": ".py",
   "mimetype": "text/x-python",
   "name": "python",
   "nbconvert_exporter": "python",
   "pygments_lexer": "ipython3",
   "version": "3.9.1"
  },
  "orig_nbformat": 4
 },
 "nbformat": 4,
 "nbformat_minor": 2
}
