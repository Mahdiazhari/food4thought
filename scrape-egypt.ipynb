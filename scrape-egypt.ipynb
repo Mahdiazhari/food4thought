{
 "cells": [
  {
   "cell_type": "code",
   "execution_count": 1,
   "metadata": {},
   "outputs": [],
   "source": [
    "import pandas as pd\n",
    "\n",
    "from  util.spider import Spider\n",
    "from util.user_agent import get_random_ua"
   ]
  },
  {
   "cell_type": "code",
   "execution_count": 2,
   "metadata": {},
   "outputs": [],
   "source": [
    "user_agent = get_random_ua()\n",
    "custom_header = { #setup custom header because egypt requires certain headers\n",
    "        'referer': 'https://www.google.com/',\n",
    "        'Accept-Language': '*',\n",
    "        'Accept-Encoding': '*',\n",
    "        'Accept': '*',\n",
    "        'user-agent': user_agent}"
   ]
  },
  {
   "cell_type": "code",
   "execution_count": 3,
   "metadata": {},
   "outputs": [],
   "source": [
    "attrs = {\n",
    "        'name'       :  '//h1[@itemprop=\"name\"]//text()',\n",
    "        'ingredients':  '//span[@itemprop=\"recipeIngredient\"]//text()',\n",
    "        'total_time':   '',\n",
    "        'instructions': '//ol[@itemprop=\"recipeInstructions\"]//text()',\n",
    "        'servings':     'normalize-space(//b[@itemprop=\"recipeYield\"]//text())',\n",
    "        'category':     '',\n",
    "        'prep_time':    'normalize-space(//meta[@itemprop=\"prepTime\"]/@content)',\n",
    "        'cook_time':    'normalize-space(//meta[@itemprop=\"cookTime\"]/@content)',\n",
    "}\n",
    "listing={'items': '//div[@class=\"lsttitle\"]//a/@href', 'next': { 'next_page_str': '', 'type': 'custom_modify_url'}}\n",
    "seeds = ['https://www.justfood.tv/%D9%88%D8%B5%D9%81%D8%A7%D8%AA/%D8%A7%D9%84%D8%A8%D9%84%D8%AF/%D8%A7%D9%83%D9%84%D8%A7%D8%AA-%D9%85%D8%B5%D8%B1%D9%8A%D8%A9/42/{}']\n",
    "available_json = {}"
   ]
  },
  {
   "cell_type": "code",
   "execution_count": 11,
   "metadata": {},
   "outputs": [],
   "source": [
    "justfood_spider= Spider('https://www.justfood.tv', seeds= seeds, listing =listing,attrs= attrs, available_json=available_json, header=custom_header)"
   ]
  },
  {
   "cell_type": "code",
   "execution_count": 9,
   "metadata": {},
   "outputs": [
    {
     "name": "stdout",
     "output_type": "stream",
     "text": [
      "https://www.justfood.tv/%D9%88%D8%B5%D9%81%D8%A7%D8%AA/4043/%D8%B7%D8%B1%D9%8A%D9%82%D8%A9-%D8%B9%D9%85%D9%84-%D8%A7%D9%84%D8%A8%D8%A7%D9%85%D9%8A%D8%A9\n"
     ]
    }
   ],
   "source": [
    "print('https://www.justfood.tv/%D9%88%D8%B5%D9%81%D8%A7%D8%AA/4043/%D8%B7%D8%B1%D9%8A%D9%82%D8%A9-%D8%B9%D9%85%D9%84-%D8%A7%D9%84%D8%A8%D8%A7%D9%85%D9%8A%D8%A9')"
   ]
  },
  {
   "cell_type": "code",
   "execution_count": 10,
   "metadata": {},
   "outputs": [
    {
     "name": "stdout",
     "output_type": "stream",
     "text": [
      "Cannot open one recipe url, status code = 403, url = https://www.justfood.tv/%D9%88%D8%B5%D9%81%D8%A7%D8%AA/4043/%D8%B7%D8%B1%D9%8A%D9%82%D8%A9-%D8%B9%D9%85%D9%84-%D8%A7%D9%84%D8%A8%D8%A7%D9%85%D9%8A%D8%A9\n"
     ]
    },
    {
     "data": {
      "text/plain": [
       "{'name': '',\n",
       " 'total_time': '',\n",
       " 'ingredients': '',\n",
       " 'instructions': '',\n",
       " 'servings': '',\n",
       " 'category': '',\n",
       " 'prep_time': '',\n",
       " 'cook_time': ''}"
      ]
     },
     "execution_count": 10,
     "metadata": {},
     "output_type": "execute_result"
    }
   ],
   "source": [
    "justfood_spider.scrape_one_item('https://www.justfood.tv/%D9%88%D8%B5%D9%81%D8%A7%D8%AA/4043/%D8%B7%D8%B1%D9%8A%D9%82%D8%A9-%D8%B9%D9%85%D9%84-%D8%A7%D9%84%D8%A8%D8%A7%D9%85%D9%8A%D8%A9')"
   ]
  },
  {
   "cell_type": "code",
   "execution_count": null,
   "metadata": {},
   "outputs": [],
   "source": []
  }
 ],
 "metadata": {
  "interpreter": {
   "hash": "7f97af7b90ec3405e1f66aa9bfad4ba40234615df6d29df3ef268808d6a9feec"
  },
  "kernelspec": {
   "display_name": "Python 3.9.1 ('wb-scraping': venv)",
   "language": "python",
   "name": "python3"
  },
  "language_info": {
   "codemirror_mode": {
    "name": "ipython",
    "version": 3
   },
   "file_extension": ".py",
   "mimetype": "text/x-python",
   "name": "python",
   "nbconvert_exporter": "python",
   "pygments_lexer": "ipython3",
   "version": "3.9.1"
  },
  "orig_nbformat": 4
 },
 "nbformat": 4,
 "nbformat_minor": 2
}
