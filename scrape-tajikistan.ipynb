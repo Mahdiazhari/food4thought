{
 "cells": [
  {
   "cell_type": "code",
   "execution_count": 1,
   "metadata": {},
   "outputs": [],
   "source": [
    "import pandas as pd\n",
    "\n",
    "from  util.spider import Spider"
   ]
  },
  {
   "cell_type": "code",
   "execution_count": 2,
   "metadata": {},
   "outputs": [],
   "source": [
    "attrs = {\n",
    "        'name':         'normalize-space(//h1[@itemprop=\"name\"]//text())',\n",
    "       'ingredients': '//li[@itemprop=\"recipeIngredient\"]//text()',\n",
    "        'total_time':   'normalize-space(//meta[@itemprop=\"totalTime\"]/@content)',\n",
    "        'instructions': '//div[@itemprop=\"recipeInstructions\"]//text()',\n",
    "        'servings':     'normalize-space(//em[@itemprop=\"recipeYield\"]//text())',\n",
    "        'category':     'normalize-space(//meta[@itemprop=\"recipeCategory\"]/@content)',\n",
    "        'prep_time':    'normalize-space(//meta[@itemprop=\"prepTime\"]/@content)',\n",
    "        'cook_time':    'normalize-space(//meta[@itemprop=\"cookTime\"]/@content)',\n",
    "}\n",
    "available_json={}\n",
    "\n",
    "listing={'items': '//div[@class=\"recipe\"]//a/@href', 'next': { 'next_page_str': '', 'type': 'url'}}\n",
    "seeds = ['https://povar.ru/list/tadzhikskaya/']\n"
   ]
  },
  {
   "cell_type": "code",
   "execution_count": 3,
   "metadata": {},
   "outputs": [],
   "source": [
    "custom_header = { #setup custom header for russian script\n",
    "        'referer': 'https://www.google.com/',\n",
    "        'Accept-Language': '*',\n",
    "        'Accept-Encoding': '*',\n",
    "        'Accept': '*',\n",
    "        'user-agent':''}"
   ]
  },
  {
   "cell_type": "code",
   "execution_count": 4,
   "metadata": {},
   "outputs": [],
   "source": [
    "tajikistan_spider= Spider('https://povar.ru/', seeds= seeds, listing =listing,attrs= attrs, available_json=available_json,header=custom_header)"
   ]
  },
  {
   "cell_type": "code",
   "execution_count": 5,
   "metadata": {},
   "outputs": [
    {
     "data": {
      "text/plain": [
       "{'name': 'Кульча',\n",
       " 'total_time': 'PT180M',\n",
       " 'ingredients': ['Мука                                \\xa0—\\xa0700\\xa0Грамм',\n",
       "  'Молоко                                \\xa0—\\xa0500\\xa0Миллилитров',\n",
       "  'Дрожжи свежие                                \\xa0—\\xa025\\xa0Грамм',\n",
       "  'Сахар                                \\xa0—\\xa01\\xa0Чайная ложка',\n",
       "  'Соль                                \\xa0—\\xa01\\xa0Чайная ложка',\n",
       "  'Масло растительное                                \\xa0—\\xa050\\xa0Миллилитров\\xa0(рафинированное)',\n",
       "  'Желток яичный                                \\xa0—\\xa01\\xa0Штука\\xa0(+ 2 ст.л. молока для смазки)'],\n",
       " 'instructions': ['\\n                                            ',\n",
       "  '                                                    ',\n",
       "  '\\n                            ',\n",
       "  '\\n                            ',\n",
       "  'Подготовьте необходимые продукты.',\n",
       "  '\\n                                                ',\n",
       "  '\\n                                                                    ',\n",
       "  '                                                    ',\n",
       "  '\\n                            ',\n",
       "  '\\n                            ',\n",
       "  'Дрожжи, сахар, 2 ст.л. муки разведите в теплом молоке и оставьте в теплом месте на 15 минут.',\n",
       "  '\\n                                                ',\n",
       "  '\\n                                                                    ',\n",
       "  '                                                    ',\n",
       "  '\\n                            ',\n",
       "  '\\n                            ',\n",
       "  'Муку просейте в миску, влейте подошедшие дрожжи, масло, добавьте соль и замесите мягкое тесто, не липнущее к рукам. Поместите его в миску, накройте полотенцем и оставьте в теплом месте для подъема на 1,5 часа.',\n",
       "  '\\n                                                ',\n",
       "  '\\n                                                                    ',\n",
       "  '                                                    ',\n",
       "  '\\n                            ',\n",
       "  '\\n                            ',\n",
       "  'Тесто должно увеличиться в объеме в два раза.',\n",
       "  '\\n                                                ',\n",
       "  '\\n                                                                    ',\n",
       "  '                                                    ',\n",
       "  '\\n                            ',\n",
       "  '\\n                            ',\n",
       "  'Разделите тесто на 6 равных частей. Округлите и положите под пищевую пленку, чтобы не обветрилось во время формирования кульчи.',\n",
       "  '\\n                                                ',\n",
       "  '\\n                                                                    ',\n",
       "  '                                                    ',\n",
       "  '\\n                            ',\n",
       "  '\\n                            ',\n",
       "  'Каждый шарик придавите сверху ладонью, формируя лепешку.',\n",
       "  '\\n                                                ',\n",
       "  '\\n                                                                    ',\n",
       "  '                                                    ',\n",
       "  '\\n                            ',\n",
       "  '\\n                            ',\n",
       "  'Сделайте надрезы  по краю лепешки с помощью острого ножа/лезвия. Кулаком нажмите по центру лепешки, сделайте узор с помощью вилки.',\n",
       "  '\\n                                                ',\n",
       "  '\\n                                                                    ',\n",
       "  '                                                    ',\n",
       "  '\\n                            ',\n",
       "  '\\n                            ',\n",
       "  'Заготовки выкладывайте на противень с пергаментом для выпечки. Разболтайте желток с 2 ст.л. молока, смажьте верх кульча. По желанию можно посыпать кунжутом или кумином. Оставьте в теплом месте для подхода на 30 минут.',\n",
       "  '\\n                                                ',\n",
       "  '\\n                                                                    ',\n",
       "  '                                                    ',\n",
       "  '\\n                            ',\n",
       "  '\\n                            ',\n",
       "  'Разогрейте духовку до 180 градусов, выпекайте лепешки в течение 25-30 минут до легкого румянца. ',\n",
       "  '\\n                                                ',\n",
       "  '\\n                                                            '],\n",
       " 'servings': 'Количество порций: 6',\n",
       " 'category': 'Тесто / Дрожжевое тесто',\n",
       " 'prep_time': 'PT0M',\n",
       " 'cook_time': 'PT180M'}"
      ]
     },
     "execution_count": 5,
     "metadata": {},
     "output_type": "execute_result"
    }
   ],
   "source": [
    "tajikistan_spider.scrape_one_item('https://povar.ru/recipes/kulcha-50166.html')"
   ]
  },
  {
   "cell_type": "code",
   "execution_count": null,
   "metadata": {},
   "outputs": [],
   "source": []
  }
 ],
 "metadata": {
  "interpreter": {
   "hash": "7f97af7b90ec3405e1f66aa9bfad4ba40234615df6d29df3ef268808d6a9feec"
  },
  "kernelspec": {
   "display_name": "Python 3.9.1 ('wb-scraping': venv)",
   "language": "python",
   "name": "python3"
  },
  "language_info": {
   "codemirror_mode": {
    "name": "ipython",
    "version": 3
   },
   "file_extension": ".py",
   "mimetype": "text/x-python",
   "name": "python",
   "nbconvert_exporter": "python",
   "pygments_lexer": "ipython3",
   "version": "3.9.1"
  },
  "orig_nbformat": 4
 },
 "nbformat": 4,
 "nbformat_minor": 2
}
