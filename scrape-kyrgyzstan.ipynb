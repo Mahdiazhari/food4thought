{
 "cells": [
  {
   "cell_type": "code",
   "execution_count": 1,
   "metadata": {},
   "outputs": [],
   "source": [
    "#packages\n",
    "import pandas as pd\n",
    "from  util.russianfood import RussianSpider\n",
    "\n",
    "from  util.spider import Spider\n",
    "from util.onethousandmenu import OneThousandMenu"
   ]
  },
  {
   "cell_type": "code",
   "execution_count": 3,
   "metadata": {},
   "outputs": [],
   "source": [
    "attrs = {\n",
    "        'name':         'normalize-space(//title)',\n",
    "        'ingredients':  '//tr[contains(@class,\"ingr_tr_\")]//text()',\n",
    "        'total_time':   'normalize-space(//div[@class=\"sub_info\"]/div[@class=\"el\"][2])',\n",
    "        'instructions': '//div[@class=\"step_n\"]//p//text()',\n",
    "        'servings':     'normalize-space(//div[@class=\"sub_info\"]/div[@class=\"el\"][1])',\n",
    "        'category':     '',\n",
    "        'prep_time':    '',\n",
    "        'cook_time':    '',\n",
    "}\n",
    "#listing={'items': '//div[@class=\"rprev\"]/div/a[2]/@href', 'next': { 'next_page_str': '?pn={}', 'type': 'random_pages' , 'max_items': 10000, 'items_per_page': 24, 'max_pages': 2120,}}\n",
    "listing={'items': '//div[contains(@class,\"recipe_list_new\")]//div[contains(@class,\"title\")]/a/@href', 'next': { 'next_page_str': '&page={}', 'type':'url',}}\n",
    "seeds = ['https://www.russianfood.com/recipes/bytype/?fid=173'] \n",
    "available_json={}"
   ]
  },
  {
   "cell_type": "code",
   "execution_count": 5,
   "metadata": {},
   "outputs": [
    {
     "data": {
      "text/plain": [
       "{'name': 'Рецепт: Ютаза из кислого теста на RussianFood.com',\n",
       " 'total_time': '',\n",
       " 'ingredients': ['Мука пшеничная - 1,5 стакана',\n",
       "  'Вода теплая - 0,5 стакана',\n",
       "  'Дрожжи сухие - 0,5 ч. ложки',\n",
       "  'Соль - 0,5 ч. ложки',\n",
       "  'Масло растительное - 2 ст. ложки'],\n",
       " 'instructions': ['Подготавливаем необходимые ингредиенты по рецепту ютазы из безопарного дрожжевого теста.',\n",
       "  'Как приготовить ютазу:',\n",
       "  '\\r\\n',\n",
       "  '\\r\\nЗамесим для ютазы безопарное дрожжевое тесто. Наливаем в миску теплую воду, подсыпаем в нее сухие дрожжи и соль. Ингредиенты перемешиваем.',\n",
       "  'В отдельную глубокую тарелку просеиваем пшеничную муку.',\n",
       "  'Вливаем в просеянную муку воду с дрожжами и солью.',\n",
       "  'Замешиваем тесто, которое должно выйти эластичным.',\n",
       "  'Дрожжевое тесто для ютазы убираем в теплое место на 2-4 часа, накрыв его полотенцем.',\n",
       "  'Поднявшееся тесто делим на 4 части.',\n",
       "  'Каждый кусочек теста растягиваем руками в тонкий квадрат или овал (для удобства можно использовать скалку).',\n",
       "  'Раскатанное тесто смазываем растительным маслом (вытягиваем руками в очень тонкий пласт).',\n",
       "  'Сворачиваем тесто в рулет (в форме трубочки), края защипываем.',\n",
       "  'Отвариваем трубочки на пару (15-20 минут). Если пароварки нет, то можно приготовить ютазы на решетке, выставленной над кастрюлей с кипящей водой и накрытой высокой крышкой.',\n",
       "  'Готовую ютазу подаем к чаю. ',\n",
       "  '\\r\\nПриятного аппетита!'],\n",
       " 'servings': '',\n",
       " 'category': '',\n",
       " 'prep_time': '',\n",
       " 'cook_time': ''}"
      ]
     },
     "execution_count": 5,
     "metadata": {},
     "output_type": "execute_result"
    }
   ],
   "source": [
    "#setup variables\n",
    "custom_header_template = { #setup custom header because romania requires certain headers\n",
    "        'referer': 'https://www.google.com/',\n",
    "        'Accept-Language': '*',\n",
    "        'Accept-Encoding': '*',\n",
    "        'Accept': '*',\n",
    "        'user-agent': ''}\n",
    "ru_spider= RussianSpider('https://www.russianfood.com/', seeds= seeds, listing =listing,attrs= attrs, available_json=available_json, header=custom_header_template,)\n",
    "#print(romania_spider.attrs)\n",
    "ru_spider.scrape_one_item('https://www.russianfood.com/recipes/recipe.php?rid=140253') #try out scraping one item"
   ]
  },
  {
   "cell_type": "code",
   "execution_count": 6,
   "metadata": {},
   "outputs": [
    {
     "name": "stdout",
     "output_type": "stream",
     "text": [
      "spider is scraping page: 1\n",
      "spider is scraping page: 2\n",
      "spider is scraping page: 3\n"
     ]
    }
   ],
   "source": [
    "result_list = ru_spider.start_scrape(max_pages=3, multithread=False) #max page is only 65, have to disable multithreading because of  blocking"
   ]
  },
  {
   "cell_type": "code",
   "execution_count": 7,
   "metadata": {},
   "outputs": [],
   "source": [
    "result_df = pd.DataFrame(result_list)"
   ]
  },
  {
   "cell_type": "code",
   "execution_count": 9,
   "metadata": {},
   "outputs": [],
   "source": [
    "result_df.to_csv('data/kyrgyzstan/kyrgyzstan_rsfood.csv')"
   ]
  },
  {
   "cell_type": "code",
   "execution_count": 2,
   "metadata": {},
   "outputs": [],
   "source": [
    "attrs = {\n",
    "        'name'       :  '//h1[@itemprop=\"name\"]//text()',\n",
    "        'ingredients':  '//meta[@itemprop=\"recipeIngredient\"]/@content',\n",
    "        'total_time':   '//meta[@itemprop=\"totalTime\"]/@content',\n",
    "        'instructions': '//ol[@itemprop=\"recipeInstructions\"]//li//p[@class=\"instruction\"]//text()',\n",
    "        'servings':     'normalize-space(//meta[@itemprop=\"recipeYield\"]/@content)',\n",
    "        'category':     '',\n",
    "        'prep_time':    '',\n",
    "        'cook_time':    '',\n",
    "}\n",
    "listing={'items': '//div[@class=\"info-preview\"]//a[@class=\"h5\"]/@href', 'next': { 'next_page_str': '', 'type': 'url'}}\n",
    "seeds = ['https://1000.menu/catalog/kirgizskaya-kuxnya']\n",
    "available_json = {}"
   ]
  },
  {
   "cell_type": "code",
   "execution_count": 3,
   "metadata": {},
   "outputs": [],
   "source": [
    "# user_agent = get_random_ua()\n",
    "custom_header = { #setup custom header because egypt requires certain headers\n",
    "        'referer': 'https://www.google.com/',\n",
    "        'Accept-Language': '*',\n",
    "        'Accept-Encoding': '*',\n",
    "        'Accept': '*',\n",
    "        'user-agent': ''}"
   ]
  },
  {
   "cell_type": "code",
   "execution_count": 4,
   "metadata": {},
   "outputs": [],
   "source": [
    "onekmenu_spider=  OneThousandMenu('https://1000.menu', seeds= seeds, listing =listing,attrs= attrs, available_json=available_json,header=custom_header)"
   ]
  },
  {
   "cell_type": "code",
   "execution_count": null,
   "metadata": {},
   "outputs": [],
   "source": [
    "result_list = onekmenu_spider.start_scrape(max_pages=1)"
   ]
  }
 ],
 "metadata": {
  "interpreter": {
   "hash": "7f97af7b90ec3405e1f66aa9bfad4ba40234615df6d29df3ef268808d6a9feec"
  },
  "kernelspec": {
   "display_name": "Python 3.9.1 ('wb-scraping': venv)",
   "language": "python",
   "name": "python3"
  },
  "language_info": {
   "codemirror_mode": {
    "name": "ipython",
    "version": 3
   },
   "file_extension": ".py",
   "mimetype": "text/x-python",
   "name": "python",
   "nbconvert_exporter": "python",
   "pygments_lexer": "ipython3",
   "version": "3.9.1"
  },
  "orig_nbformat": 4
 },
 "nbformat": 4,
 "nbformat_minor": 2
}
