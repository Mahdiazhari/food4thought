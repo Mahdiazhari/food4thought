{
 "cells": [
  {
   "cell_type": "code",
   "execution_count": 53,
   "metadata": {},
   "outputs": [],
   "source": [
    "#packages\n",
    "import pandas as pd\n",
    "import json\n",
    "import requests\n",
    "from random import randint\n",
    "from lxml import html\n",
    "import re\n",
    "import time\n",
    "import multiprocessing as mp\n",
    "#from pathos.multiprocessing import ProcessingPool as Pool #python package which enables multiprocessing on child classes\n",
    "import time\n",
    "import demjson\n",
    "\n",
    "#utilities\n",
    "from util.http_utility import get_http_headers\n",
    "from util.user_agent import get_random_ua\n",
    "from  util.croatia.coolinarika import Coolinarika"
   ]
  },
  {
   "cell_type": "code",
   "execution_count": 54,
   "metadata": {},
   "outputs": [],
   "source": [
    "attrs = {\n",
    "        'name':         'name',\n",
    "        'ingredients':  'recipeIngredient',\n",
    "        'total_time':   'totalTime',\n",
    "        'instructions': 'recipeInstructions',\n",
    "        'servings':     'recipeYield',\n",
    "        'category':     'recipeCategory',\n",
    "        'prep_time':    'prepTime',\n",
    "        'cook_time':    'cookTime',\n",
    "}\n",
    "listing={'items': '', 'next': { 'next_page_str': '?page={}', 'type': 'url'}}\n",
    "seeds = ['https://api.coolinarika.com/api/v1/feed/recepti/novi']\n",
    "available_json = {'xpath' : \"normalize-space(//script[@type='application/ld+json'][contains(text(), 'recipeIngredient')])\"}"
   ]
  },
  {
   "cell_type": "code",
   "execution_count": 55,
   "metadata": {},
   "outputs": [],
   "source": [
    "#custom header\n",
    "custom_header_template = { #setup custom header because this website requires certain headers\n",
    "        'referer': 'https://www.coolinarika.com/recept/brza-krompir-pita-b2f43eb2-9e58-11ec-9f58-3e4f582a8920',\n",
    "        'Accept-Language': 'en-US,en;q=0.9',\n",
    "        'Accept-Encoding': 'gzip, deflate, br',\n",
    "        'Accept': '*',\n",
    "        'sec-ch-ua': '\" Not A;Brand\";v=\"99\", \"Chromium\";v=\"100\", \"Google Chrome\";v=\"100\"',\n",
    "        'sec-fetch-site' : 'same-origin',\n",
    "        'cookie': '_gcl_au=1.1.2096643780.1648932938; _fbp=fb.1.1648932938479.532371783; _hjSessionUser_1123566=eyJpZCI6IjE4Y2YyOTdkLWI5ZGEtNTA0NC1iNTdkLTUxYTA4YTVmOTNlOSIsImNyZWF0ZWQiOjE2NDg5MzI5Mzg2NzgsImV4aXN0aW5nIjp0cnVlfQ==; abTestSrpRecomendations=N%2FA; coolinarika-pseudo-user-id=f96b2258-7a90-4b9e-b2f8-65647f041648; __Host-next-auth.csrf-token=eaa5b69dfdfb200837f597acb95978332cca599bda3de035dbf8770c8a165deb%7Caec6fa101367af9be6cf2773f37c110d6f39e0b6c44b7c0f949615e99d6734fc; __gfp_64b=WOjM6O0fdmBPy5tVlkR77ZCHtWY1l0l68dNF5lJgFtv.V7|1648932938; _gid=GA1.2.666841594.1649751255; __Secure-next-auth.callback-url=j%3A%22https%3A%2F%2Fwww.coolinarika.com%2F%22; _hjAbsoluteSessionInProgress=0; _hjSession_1123566=eyJpZCI6IjBjOWE2NWFlLWVhMzYtNDAxYi04MmM0LTBmYTk3YzlkZWExZSIsImNyZWF0ZWQiOjE2NDk3NTQ5OTM5ODEsImluU2FtcGxlIjpmYWxzZX0=; FCCDCF=[null,null,null,[\"CPWyprAPWyprAEsABBHRCJCgAAAAAH_AAA6IAAAOhQD2F2K2kKEkfjSeXYAQBCujoEIBUAAAAECDMAAAAUgQAgFIIAgAAlAAAAEAABAQEwCAgQQABAAAoACgACAAAAAAAAAAAAQQAABAAIAAAAQAAAEAQAAAAAQAAAAAAABAhAAAQQAEAAAAAAAAAAAAAAAAAAABAAA\",\"1~\",\"8650F57D-E772-4578-94DE-A833AEA1306B\"],null,null,[]]; pageviewCount=5; _ga_TZHRD0NBQP=GS1.1.1649754913.4.1.1649756415.59; _ga=GA1.2.284449915.1648932939; _dc_gtm_UA-18370761-1=1',\n",
    "        'user-agent': ''}"
   ]
  },
  {
   "cell_type": "code",
   "execution_count": 56,
   "metadata": {},
   "outputs": [],
   "source": [
    "croatia_spider = Coolinarika('https://www.coolinarika.com/recept', seeds= seeds, listing =listing,attrs= attrs, available_json=available_json, header=custom_header_template)"
   ]
  },
  {
   "cell_type": "code",
   "execution_count": 57,
   "metadata": {},
   "outputs": [
    {
     "data": {
      "text/plain": [
       "{'name': 'Brza krompir pita',\n",
       " 'total_time': None,\n",
       " 'ingredients': ['3 jaja',\n",
       "  '1 casa ulja (100 ml)',\n",
       "  '1 casa jogurta (120 ml)',\n",
       "  '1 luk',\n",
       "  '100 g feta sira',\n",
       "  'persun',\n",
       "  '1 mljevena crvena paprika',\n",
       "  '2 case brasna (200 g)',\n",
       "  '3 krompira (350 g)',\n",
       "  '1/2 Prašak za pecivo Docela',\n",
       "  'so, biber, vegeta',\n",
       "  'sesam za preko'],\n",
       " 'instructions': ['Jaja, jogurt i ulje sjediniti pa kasikom fino izmjesati, dodati izdrobljeni sir, papriku, persun po ukusu, sitno sjeckani luk, krompir na kocke ili po zelji sjecen, brasno pomjesano sa svim suhim sastojcima. Zaciniti po ukusu i dobro izmjesati.',\n",
       "  'Usuti smjesu u pouljeni pleh i peci u zagrijanoj pecnici na 190 stepeni 25-30 minuta dok fino ne porumeni i krompir ne bude kuhan. Sluziti uz salatu po zelji i jogurt.'],\n",
       " 'servings': None,\n",
       " 'category': None,\n",
       " 'prep_time': None,\n",
       " 'cook_time': None}"
      ]
     },
     "execution_count": 57,
     "metadata": {},
     "output_type": "execute_result"
    }
   ],
   "source": [
    "croatia_spider.scrape_one_item('https://www.coolinarika.com/recept/brza-krompir-pita')"
   ]
  },
  {
   "cell_type": "code",
   "execution_count": null,
   "metadata": {},
   "outputs": [],
   "source": [
    "result_list = croatia_spider.start_scrape(max_pages=333)"
   ]
  },
  {
   "cell_type": "markdown",
   "metadata": {},
   "source": [
    "Took 84 minutes"
   ]
  },
  {
   "cell_type": "code",
   "execution_count": 59,
   "metadata": {},
   "outputs": [],
   "source": [
    "result_df = pd.DataFrame(result_list)"
   ]
  },
  {
   "cell_type": "code",
   "execution_count": 60,
   "metadata": {},
   "outputs": [
    {
     "data": {
      "text/html": [
       "<div>\n",
       "<style scoped>\n",
       "    .dataframe tbody tr th:only-of-type {\n",
       "        vertical-align: middle;\n",
       "    }\n",
       "\n",
       "    .dataframe tbody tr th {\n",
       "        vertical-align: top;\n",
       "    }\n",
       "\n",
       "    .dataframe thead th {\n",
       "        text-align: right;\n",
       "    }\n",
       "</style>\n",
       "<table border=\"1\" class=\"dataframe\">\n",
       "  <thead>\n",
       "    <tr style=\"text-align: right;\">\n",
       "      <th></th>\n",
       "      <th>name</th>\n",
       "      <th>total_time</th>\n",
       "      <th>ingredients</th>\n",
       "      <th>instructions</th>\n",
       "      <th>servings</th>\n",
       "      <th>category</th>\n",
       "      <th>prep_time</th>\n",
       "      <th>cook_time</th>\n",
       "    </tr>\n",
       "  </thead>\n",
       "  <tbody>\n",
       "    <tr>\n",
       "      <th>0</th>\n",
       "      <td>Raznobojna juha od povrća</td>\n",
       "      <td>None</td>\n",
       "      <td>[200 g batata, 200 g svježe crvene paprike, 20...</td>\n",
       "      <td>[Batat, papriku i tikvice narežite na kockice....</td>\n",
       "      <td>4</td>\n",
       "      <td>None</td>\n",
       "      <td>PT35M</td>\n",
       "      <td>None</td>\n",
       "    </tr>\n",
       "    <tr>\n",
       "      <th>1</th>\n",
       "      <td>Uskršnja pita sa špinatom i sirom</td>\n",
       "      <td>None</td>\n",
       "      <td>[30 dag brašna (meko), 1 mala soli, 3 jušne ma...</td>\n",
       "      <td>[TIJESTOUmijesite tijesto od brašna, ulja, vod...</td>\n",
       "      <td>10</td>\n",
       "      <td>None</td>\n",
       "      <td>PT90M</td>\n",
       "      <td>None</td>\n",
       "    </tr>\n",
       "    <tr>\n",
       "      <th>2</th>\n",
       "      <td>Bribirski prisnac</td>\n",
       "      <td>None</td>\n",
       "      <td>[15 komada svježih jaja, 1 komad domaći čin fr...</td>\n",
       "      <td>[Va zdelu v koj se smišaju jaja klade se sir z...</td>\n",
       "      <td>8</td>\n",
       "      <td>None</td>\n",
       "      <td>PT60M</td>\n",
       "      <td>None</td>\n",
       "    </tr>\n",
       "    <tr>\n",
       "      <th>3</th>\n",
       "      <td>Jogurt od suncokreta</td>\n",
       "      <td>None</td>\n",
       "      <td>[3/4 šalice sjemenki suncokreta, sok jednog li...</td>\n",
       "      <td>[Suncokret namočiti najmanje 4 sata.Isprati ga...</td>\n",
       "      <td>2</td>\n",
       "      <td>None</td>\n",
       "      <td>PT30M</td>\n",
       "      <td>None</td>\n",
       "    </tr>\n",
       "    <tr>\n",
       "      <th>4</th>\n",
       "      <td>Kolac sa vocem</td>\n",
       "      <td>None</td>\n",
       "      <td>[4 kom jaja, 4 kasike secera, 4 kasike brasna,...</td>\n",
       "      <td>[Umutite koru od navedenih sastojaka i ispecit...</td>\n",
       "      <td>None</td>\n",
       "      <td>None</td>\n",
       "      <td>PT30M</td>\n",
       "      <td>None</td>\n",
       "    </tr>\n",
       "  </tbody>\n",
       "</table>\n",
       "</div>"
      ],
      "text/plain": [
       "                                name total_time  \\\n",
       "0          Raznobojna juha od povrća       None   \n",
       "1  Uskršnja pita sa špinatom i sirom       None   \n",
       "2                  Bribirski prisnac       None   \n",
       "3               Jogurt od suncokreta       None   \n",
       "4                     Kolac sa vocem       None   \n",
       "\n",
       "                                         ingredients  \\\n",
       "0  [200 g batata, 200 g svježe crvene paprike, 20...   \n",
       "1  [30 dag brašna (meko), 1 mala soli, 3 jušne ma...   \n",
       "2  [15 komada svježih jaja, 1 komad domaći čin fr...   \n",
       "3  [3/4 šalice sjemenki suncokreta, sok jednog li...   \n",
       "4  [4 kom jaja, 4 kasike secera, 4 kasike brasna,...   \n",
       "\n",
       "                                        instructions servings category  \\\n",
       "0  [Batat, papriku i tikvice narežite na kockice....        4     None   \n",
       "1  [TIJESTOUmijesite tijesto od brašna, ulja, vod...       10     None   \n",
       "2  [Va zdelu v koj se smišaju jaja klade se sir z...        8     None   \n",
       "3  [Suncokret namočiti najmanje 4 sata.Isprati ga...        2     None   \n",
       "4  [Umutite koru od navedenih sastojaka i ispecit...     None     None   \n",
       "\n",
       "  prep_time cook_time  \n",
       "0     PT35M      None  \n",
       "1     PT90M      None  \n",
       "2     PT60M      None  \n",
       "3     PT30M      None  \n",
       "4     PT30M      None  "
      ]
     },
     "execution_count": 60,
     "metadata": {},
     "output_type": "execute_result"
    }
   ],
   "source": [
    "result_df.head()"
   ]
  },
  {
   "cell_type": "code",
   "execution_count": 64,
   "metadata": {},
   "outputs": [
    {
     "data": {
      "text/plain": [
       "(9314, 8)"
      ]
     },
     "execution_count": 64,
     "metadata": {},
     "output_type": "execute_result"
    }
   ],
   "source": [
    "result_df.shape"
   ]
  },
  {
   "cell_type": "code",
   "execution_count": 88,
   "metadata": {},
   "outputs": [],
   "source": [
    "result_df.to_csv('data/croatia/croatia_coolinarika.csv')"
   ]
  },
  {
   "cell_type": "code",
   "execution_count": null,
   "metadata": {},
   "outputs": [],
   "source": []
  }
 ],
 "metadata": {
  "interpreter": {
   "hash": "7f97af7b90ec3405e1f66aa9bfad4ba40234615df6d29df3ef268808d6a9feec"
  },
  "kernelspec": {
   "display_name": "Python 3.9.1 ('wb-scraping': venv)",
   "language": "python",
   "name": "python3"
  },
  "language_info": {
   "codemirror_mode": {
    "name": "ipython",
    "version": 3
   },
   "file_extension": ".py",
   "mimetype": "text/x-python",
   "name": "python",
   "nbconvert_exporter": "python",
   "pygments_lexer": "ipython3",
   "version": "3.9.1"
  },
  "orig_nbformat": 4
 },
 "nbformat": 4,
 "nbformat_minor": 2
}
