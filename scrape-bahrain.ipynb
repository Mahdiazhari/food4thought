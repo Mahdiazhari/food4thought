{
 "cells": [
  {
   "cell_type": "code",
   "execution_count": 1,
   "metadata": {},
   "outputs": [],
   "source": [
    "import pandas as pd\n",
    "from util.spider import Spider"
   ]
  },
  {
   "cell_type": "code",
   "execution_count": 2,
   "metadata": {},
   "outputs": [],
   "source": [
    "custom_header_template = { #setup custom header because cookpad website requires certain headers\n",
    "        'referer': 'https://cookpad.com/us/search/cameroon?event=search.typed_query',\n",
    "        'origin': 'https://cookpad.com',\n",
    "        'Accept-Language': 'en-US,en;q=0.9',\n",
    "        'Accept-Encoding': 'gzip, deflate, br', \n",
    "        #'sec-ch-ua': '\" Not A;Brand\";v=\"99\", \"Chromium\";v=\"100\", \"Google Chrome\";v=\"100\"',\n",
    "        #'sec-fetch-site' : 'same-origin',\n",
    "        #use cookies from a login session\n",
    "       \n",
    "       'cookie' : USE_LOCAL_COOKIE,\n",
    "\n",
    "        'user-agent': ''}"
   ]
  },
  {
   "cell_type": "code",
   "execution_count": 3,
   "metadata": {},
   "outputs": [],
   "source": [
    "attrs = {\n",
    "        'name':         'normalize-space(//h1[@itemprop=\"name\"]//text())',\n",
    "        'ingredients':  '//div[@itemprop=\"ingredients\"]//text()',\n",
    "        'total_time':   'normalize-space(//span[@class=\"px-rg\"]/span[@class=\"mise-icon-text\"]//text())',\n",
    "        'instructions': '//div[@itemprop=\"recipeInstructions\"]//text()',\n",
    "        'servings':     'normalize-space(//meta[@itemprop=\"recipeYield\"]/@content)',\n",
    "        'category':     '',\n",
    "        'prep_time':    '',\n",
    "        'cook_time':    '',\n",
    "}\n",
    "available_json = {}\n",
    "#seeds = ['https://mykoreankitchen.com/recipes/#recipes+p:100']\n",
    "seeds = ['https://cookpad.com/ae/search/%D8%A7%D9%84%D8%A8%D8%AD%D8%B1%D9%8A%D9%86?event=search.typed_query&order=recent']\n",
    "listing={'items': '//a[@class=\"block-link__main\"]/@href', 'next': { 'next_page_str': '&page={}', 'type': 'url'}}"
   ]
  },
  {
   "cell_type": "code",
   "execution_count": 4,
   "metadata": {},
   "outputs": [],
   "source": [
    "cookpad_spider = Spider('https://cookpad.com', seeds, listing,attrs, available_json=available_json, header=custom_header_template)"
   ]
  },
  {
   "cell_type": "code",
   "execution_count": 5,
   "metadata": {},
   "outputs": [
    {
     "data": {
      "text/plain": [
       "{'name': '🦐 بايلا الاسبانية بفواكه البحر 🦐',\n",
       " 'total_time': '',\n",
       " 'ingredients': ['\\n        ',\n",
       "  '250 غرام',\n",
       "  ' كلماري\\n        \\n      ',\n",
       "  '\\n        ',\n",
       "  '250 غرام',\n",
       "  ' جمبري مقشر و الاحتفاظ ببعض الحبات سليمة\\n        \\n      ',\n",
       "  '\\n        ',\n",
       "  '100 غرام',\n",
       "  ' سمك ابيض\\n        \\n      ',\n",
       "  '\\n        ',\n",
       "  ' فلفل الوان\\n        \\n      ',\n",
       "  '\\n        ',\n",
       "  'كوب',\n",
       "  ' بازلاء\\n        \\n      ',\n",
       "  '\\n        ',\n",
       "  ' ثوم\\n        \\n      ',\n",
       "  '\\n        ',\n",
       "  '1',\n",
       "  ' بصلة\\n        \\n      ',\n",
       "  '\\n        ',\n",
       "  '1',\n",
       "  ' طماطم مبشورة\\n        \\n      ',\n",
       "  '\\n        ',\n",
       "  ' قزبرة خضراء\\n        \\n      ',\n",
       "  '\\n        ',\n",
       "  'كوبان',\n",
       "  ' ارز بسمتي منفوع في الماء\\n        \\n      ',\n",
       "  '\\n        ',\n",
       "  ' ملح\\n        \\n      ',\n",
       "  '\\n        ',\n",
       "  ' فلفل\\n        \\n      ',\n",
       "  '\\n        ',\n",
       "  ' بابريكا\\n        \\n      ',\n",
       "  '\\n        ',\n",
       "  ' كركم\\n        \\n      ',\n",
       "  '\\n        ',\n",
       "  ' كمون\\n        \\n      ',\n",
       "  '\\n        ',\n",
       "  ' ورق غار\\n        \\n      ',\n",
       "  '\\n        ',\n",
       "  ' ملعقة صلصة طماطم\\n        \\n      '],\n",
       " 'instructions': ['\\n        ',\n",
       "  'في مقلاة نشوح البصل مع الثوم مع البهارات ثم نضيف الفلفل و الجزر و البازلاء',\n",
       "  '\\n        \\n      ',\n",
       "  '\\n        ',\n",
       "  'نضيف كل السمك و ونغطي المقلاة و نترك الخضار و السمك تنضج على نار هادءة دون اضافة ماء فالسمك سيخرج كل عصارته',\n",
       "  '\\n        \\n      ',\n",
       "  '\\n        ',\n",
       "  'بعد نضج الخضار نشيل السمك فقط و نتركه على جنب. هده الاثناء نقوم بطهي الارز مع الخليط المتبقي',\n",
       "  '\\n        \\n      ',\n",
       "  '\\n        ',\n",
       "  'بعد نضج الارز نصب الكل في صينية الفرن ونرص السمك فوق الارز و ندخل ااصينية الفرن لمدة لا تتعدى ٥ دقايق',\n",
       "  '\\n        \\n      ',\n",
       "  '\\n        ',\n",
       "  'بالصحة و الراحة',\n",
       "  '\\n        \\n      '],\n",
       " 'servings': '3 أشخاص',\n",
       " 'category': '',\n",
       " 'prep_time': '',\n",
       " 'cook_time': ''}"
      ]
     },
     "execution_count": 5,
     "metadata": {},
     "output_type": "execute_result"
    }
   ],
   "source": [
    "cookpad_spider.scrape_one_item('https://cookpad.com/ae/%D9%88%D8%B5%D9%81%D8%A7%D8%AA/4380230-%D8%A8%D8%A7%D9%8A%D9%84%D8%A7-%D8%A7%D9%84%D8%A7%D8%B3%D8%A8%D8%A7%D9%86%D9%8A%D8%A9-%D8%A8%D9%81%D9%88%D8%A7%D9%83%D9%87-%D8%A7%D9%84%D8%A8%D8%AD%D8%B1')"
   ]
  },
  {
   "cell_type": "code",
   "execution_count": 6,
   "metadata": {},
   "outputs": [
    {
     "name": "stdout",
     "output_type": "stream",
     "text": [
      "spider is scraping page: 1\n",
      "spider is scraping page: 2\n",
      "spider is scraping page: 3\n",
      "spider is scraping page: 4\n",
      "spider is scraping page: 5\n",
      "spider is scraping page: 6\n",
      "spider is scraping page: 7\n",
      "spider is scraping page: 8\n",
      "spider is scraping page: 9\n",
      "spider is scraping page: 10\n",
      "spider is scraping page: 11\n",
      "spider is scraping page: 12\n"
     ]
    }
   ],
   "source": [
    "result_list = cookpad_spider.start_scrape(max_pages=12, multithread=False)"
   ]
  },
  {
   "cell_type": "code",
   "execution_count": 7,
   "metadata": {},
   "outputs": [],
   "source": [
    "df = pd.DataFrame(result_list)"
   ]
  },
  {
   "cell_type": "code",
   "execution_count": 9,
   "metadata": {},
   "outputs": [],
   "source": [
    "df.to_csv('data/bahrain/bahrain.csv')"
   ]
  },
  {
   "cell_type": "code",
   "execution_count": null,
   "metadata": {},
   "outputs": [],
   "source": []
  }
 ],
 "metadata": {
  "interpreter": {
   "hash": "7f97af7b90ec3405e1f66aa9bfad4ba40234615df6d29df3ef268808d6a9feec"
  },
  "kernelspec": {
   "display_name": "Python 3.9.1 ('wb-scraping': venv)",
   "language": "python",
   "name": "python3"
  },
  "language_info": {
   "codemirror_mode": {
    "name": "ipython",
    "version": 3
   },
   "file_extension": ".py",
   "mimetype": "text/x-python",
   "name": "python",
   "nbconvert_exporter": "python",
   "pygments_lexer": "ipython3",
   "version": "3.9.1"
  },
  "orig_nbformat": 4
 },
 "nbformat": 4,
 "nbformat_minor": 2
}
