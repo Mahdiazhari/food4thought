{
 "cells": [
  {
   "cell_type": "code",
   "execution_count": 1,
   "metadata": {},
   "outputs": [],
   "source": [
    "import pandas as pd\n",
    "\n",
    "from  util.spider import Spider"
   ]
  },
  {
   "cell_type": "code",
   "execution_count": 2,
   "metadata": {},
   "outputs": [],
   "source": [
    "attrs = {\n",
    "        'name'       :  'normalize-space(//h1[@class=\"pos-title\"]//text())',\n",
    "        'ingredients':  '//div[@class=\"pos-ingredients\"]/div/ul//text()',\n",
    "        'total_time':   '//ul[@class=\"pos-infobar\"]/li[1]//text()[2]',\n",
    "        'instructions': '//div[@class=\"pos-directions\"]/div//p//text()',\n",
    "        'servings':     '',\n",
    "        'category':     '',\n",
    "        'prep_time':    '',\n",
    "        'cook_time':    '',\n",
    "}\n",
    "listing={'items': '//p[@class=\"pos-links\"]//a/@href', 'next': { 'next_page_str': '/frontpage/{}', 'type': 'url'}}\n",
    "seeds = ['https://uztravelguide.com/uzbek-cuisine/recipe-book']\n",
    "available_json = {}"
   ]
  },
  {
   "cell_type": "code",
   "execution_count": 3,
   "metadata": {},
   "outputs": [],
   "source": [
    "uzbek_spider = Spider('https://uztravelguide.com', seeds=seeds,listing=listing,attrs=attrs,available_json=available_json)"
   ]
  },
  {
   "cell_type": "code",
   "execution_count": 4,
   "metadata": {},
   "outputs": [
    {
     "data": {
      "text/plain": [
       "{'name': 'Chicken Kebab',\n",
       " 'total_time': '1:30',\n",
       " 'ingredients': ['1 chicken',\n",
       "  '3 onions',\n",
       "  'Wine vinegar',\n",
       "  'Salt',\n",
       "  'Coriander seeds and cumin to taste'],\n",
       " 'instructions': ['Cut the cleaned and boned chicken into 20-25 g of pieces. Combine well with chopped onions, vinegar, salt and spices. Cover and set aside in a cool place for 8-10 hours. Thread 4-5 pieces of chicken on skewers and grill over hot coals. Serve sprinkled with sliced onions.'],\n",
       " 'servings': '',\n",
       " 'category': '',\n",
       " 'prep_time': '',\n",
       " 'cook_time': ''}"
      ]
     },
     "execution_count": 4,
     "metadata": {},
     "output_type": "execute_result"
    }
   ],
   "source": [
    "uzbek_spider.scrape_one_item('https://uztravelguide.com/uzbek-cuisine/recipe-book/chicken-kebab')"
   ]
  },
  {
   "cell_type": "code",
   "execution_count": 5,
   "metadata": {},
   "outputs": [
    {
     "name": "stdout",
     "output_type": "stream",
     "text": [
      "spider is scraping page: 1\n",
      "scraping - multithreaded, n items:  10\n",
      "spider is scraping page: 2\n",
      "scraping - multithreaded, n items:  10\n",
      "spider is scraping page: 3\n",
      "retrying... attempt 0\n",
      "scraping - multithreaded, n items:  10\n",
      "spider is scraping page: 4\n",
      "scraping - multithreaded, n items:  10\n",
      "spider is scraping page: 5\n",
      "scraping - multithreaded, n items:  10\n",
      "spider is scraping page: 6\n",
      "scraping - multithreaded, n items:  10\n",
      "spider is scraping page: 7\n",
      "scraping - multithreaded, n items:  10\n",
      "spider is scraping page: 8\n",
      "scraping - multithreaded, n items:  10\n",
      "spider is scraping page: 9\n",
      "scraping - multithreaded, n items:  10\n",
      "spider is scraping page: 10\n",
      "scraping - multithreaded, n items:  10\n",
      "spider is scraping page: 11\n",
      "scraping - multithreaded, n items:  10\n",
      "spider is scraping page: 12\n",
      "scraping - multithreaded, n items:  10\n",
      "spider is scraping page: 13\n",
      "scraping - multithreaded, n items:  6\n",
      "spider is scraping page: 14\n",
      "retrying... attempt 0\n",
      "retrying... attempt 1\n",
      "retrying... attempt 2\n",
      "retrying... attempt 3\n",
      "retrying... attempt 4\n",
      "no items found for page: https://uztravelguide.com/uzbek-cuisine/recipe-book/frontpage/14\n"
     ]
    }
   ],
   "source": [
    "result_list = uzbek_spider.start_scrape()"
   ]
  },
  {
   "cell_type": "code",
   "execution_count": 7,
   "metadata": {},
   "outputs": [
    {
     "data": {
      "text/plain": [
       "126"
      ]
     },
     "execution_count": 7,
     "metadata": {},
     "output_type": "execute_result"
    }
   ],
   "source": [
    "len(result_list)"
   ]
  },
  {
   "cell_type": "code",
   "execution_count": 8,
   "metadata": {},
   "outputs": [],
   "source": [
    "df = pd.DataFrame(result_list)"
   ]
  },
  {
   "cell_type": "code",
   "execution_count": 9,
   "metadata": {},
   "outputs": [
    {
     "data": {
      "text/html": [
       "<div>\n",
       "<style scoped>\n",
       "    .dataframe tbody tr th:only-of-type {\n",
       "        vertical-align: middle;\n",
       "    }\n",
       "\n",
       "    .dataframe tbody tr th {\n",
       "        vertical-align: top;\n",
       "    }\n",
       "\n",
       "    .dataframe thead th {\n",
       "        text-align: right;\n",
       "    }\n",
       "</style>\n",
       "<table border=\"1\" class=\"dataframe\">\n",
       "  <thead>\n",
       "    <tr style=\"text-align: right;\">\n",
       "      <th></th>\n",
       "      <th>name</th>\n",
       "      <th>total_time</th>\n",
       "      <th>ingredients</th>\n",
       "      <th>instructions</th>\n",
       "      <th>servings</th>\n",
       "      <th>category</th>\n",
       "      <th>prep_time</th>\n",
       "      <th>cook_time</th>\n",
       "    </tr>\n",
       "  </thead>\n",
       "  <tbody>\n",
       "    <tr>\n",
       "      <th>0</th>\n",
       "      <td>Meat broth with vegetables</td>\n",
       "      <td>1:10</td>\n",
       "      <td>[500 g of mutton or beef , 500 g of potatoes, ...</td>\n",
       "      <td>[Put cleaned and cut meat in pot with water. B...</td>\n",
       "      <td></td>\n",
       "      <td></td>\n",
       "      <td></td>\n",
       "      <td></td>\n",
       "    </tr>\n",
       "    <tr>\n",
       "      <th>1</th>\n",
       "      <td>Manpar - Dumpling</td>\n",
       "      <td>1:30</td>\n",
       "      <td>[500 g of flour, 500 g of mutton, 100 g of mut...</td>\n",
       "      <td>[Make stiff dough out of flour, egg, salt, and...</td>\n",
       "      <td></td>\n",
       "      <td></td>\n",
       "      <td></td>\n",
       "      <td></td>\n",
       "    </tr>\n",
       "    <tr>\n",
       "      <th>2</th>\n",
       "      <td>Noodles and Dumplings</td>\n",
       "      <td>1:10</td>\n",
       "      <td>[500 g of mutton or beef, 500 g of flour, 4 eg...</td>\n",
       "      <td>[Mince the meat in a meat-grinder and combine ...</td>\n",
       "      <td></td>\n",
       "      <td></td>\n",
       "      <td></td>\n",
       "      <td></td>\n",
       "    </tr>\n",
       "    <tr>\n",
       "      <th>3</th>\n",
       "      <td>Apricot Drink</td>\n",
       "      <td>0;30</td>\n",
       "      <td>[1 kg of apricots, 2 l of water]</td>\n",
       "      <td>[Boil apricots for 15 minutes. Cool, filter, a...</td>\n",
       "      <td></td>\n",
       "      <td></td>\n",
       "      <td></td>\n",
       "      <td></td>\n",
       "    </tr>\n",
       "    <tr>\n",
       "      <th>4</th>\n",
       "      <td>Fruit Tea</td>\n",
       "      <td>0;15</td>\n",
       "      <td>[10 g of tea, 20 g of sugar, 50 g of apple or ...</td>\n",
       "      <td>[Make regular tea and filter. Add sugar and co...</td>\n",
       "      <td></td>\n",
       "      <td></td>\n",
       "      <td></td>\n",
       "      <td></td>\n",
       "    </tr>\n",
       "    <tr>\n",
       "      <th>...</th>\n",
       "      <td>...</td>\n",
       "      <td>...</td>\n",
       "      <td>...</td>\n",
       "      <td>...</td>\n",
       "      <td>...</td>\n",
       "      <td>...</td>\n",
       "      <td>...</td>\n",
       "      <td>...</td>\n",
       "    </tr>\n",
       "    <tr>\n",
       "      <th>121</th>\n",
       "      <td>Tashkent - Salad</td>\n",
       "      <td>0:30</td>\n",
       "      <td>[200 g mutton or beef, 200 g of green radishes...</td>\n",
       "      <td>[Boil meat and cut into thin strips. Cut green...</td>\n",
       "      <td></td>\n",
       "      <td></td>\n",
       "      <td></td>\n",
       "      <td></td>\n",
       "    </tr>\n",
       "    <tr>\n",
       "      <th>122</th>\n",
       "      <td>Dimlama - Samarkand stew</td>\n",
       "      <td>1:40</td>\n",
       "      <td>[300 g of mutton or beef, 50 g of onions, 60 g...</td>\n",
       "      <td>[Cut meat into small pieces, tenderize, and se...</td>\n",
       "      <td></td>\n",
       "      <td></td>\n",
       "      <td></td>\n",
       "      <td></td>\n",
       "    </tr>\n",
       "    <tr>\n",
       "      <th>123</th>\n",
       "      <td>Tomato and onion salad</td>\n",
       "      <td>0:15</td>\n",
       "      <td>[500 g of tomatoes, 3 onions, 1 fresh chilli, ...</td>\n",
       "      <td>[Cut tomatoes into thin round slices. Cut onio...</td>\n",
       "      <td></td>\n",
       "      <td></td>\n",
       "      <td></td>\n",
       "      <td></td>\n",
       "    </tr>\n",
       "    <tr>\n",
       "      <th>124</th>\n",
       "      <td>Nisholda</td>\n",
       "      <td>2:00</td>\n",
       "      <td>[500g ofsugar, Whites of 2 eggs, 20 g of soapr...</td>\n",
       "      <td>[Heat sugar and water for syrup and allow to c...</td>\n",
       "      <td></td>\n",
       "      <td></td>\n",
       "      <td></td>\n",
       "      <td></td>\n",
       "    </tr>\n",
       "    <tr>\n",
       "      <th>125</th>\n",
       "      <td>Chuchvara - Dumpling</td>\n",
       "      <td>For lunch, For dinner</td>\n",
       "      <td>[500 g of flour, 500 g of mutton or beef, 400 ...</td>\n",
       "      <td>[Mince the meat in a meat-grinder and combine ...</td>\n",
       "      <td></td>\n",
       "      <td></td>\n",
       "      <td></td>\n",
       "      <td></td>\n",
       "    </tr>\n",
       "  </tbody>\n",
       "</table>\n",
       "<p>126 rows × 8 columns</p>\n",
       "</div>"
      ],
      "text/plain": [
       "                           name             total_time  \\\n",
       "0    Meat broth with vegetables                   1:10   \n",
       "1             Manpar - Dumpling                   1:30   \n",
       "2         Noodles and Dumplings                   1:10   \n",
       "3                 Apricot Drink                   0;30   \n",
       "4                     Fruit Tea                   0;15   \n",
       "..                          ...                    ...   \n",
       "121            Tashkent - Salad                   0:30   \n",
       "122    Dimlama - Samarkand stew                   1:40   \n",
       "123      Tomato and onion salad                   0:15   \n",
       "124                    Nisholda                   2:00   \n",
       "125        Chuchvara - Dumpling  For lunch, For dinner   \n",
       "\n",
       "                                           ingredients  \\\n",
       "0    [500 g of mutton or beef , 500 g of potatoes, ...   \n",
       "1    [500 g of flour, 500 g of mutton, 100 g of mut...   \n",
       "2    [500 g of mutton or beef, 500 g of flour, 4 eg...   \n",
       "3                     [1 kg of apricots, 2 l of water]   \n",
       "4    [10 g of tea, 20 g of sugar, 50 g of apple or ...   \n",
       "..                                                 ...   \n",
       "121  [200 g mutton or beef, 200 g of green radishes...   \n",
       "122  [300 g of mutton or beef, 50 g of onions, 60 g...   \n",
       "123  [500 g of tomatoes, 3 onions, 1 fresh chilli, ...   \n",
       "124  [500g ofsugar, Whites of 2 eggs, 20 g of soapr...   \n",
       "125  [500 g of flour, 500 g of mutton or beef, 400 ...   \n",
       "\n",
       "                                          instructions servings category  \\\n",
       "0    [Put cleaned and cut meat in pot with water. B...                     \n",
       "1    [Make stiff dough out of flour, egg, salt, and...                     \n",
       "2    [Mince the meat in a meat-grinder and combine ...                     \n",
       "3    [Boil apricots for 15 minutes. Cool, filter, a...                     \n",
       "4    [Make regular tea and filter. Add sugar and co...                     \n",
       "..                                                 ...      ...      ...   \n",
       "121  [Boil meat and cut into thin strips. Cut green...                     \n",
       "122  [Cut meat into small pieces, tenderize, and se...                     \n",
       "123  [Cut tomatoes into thin round slices. Cut onio...                     \n",
       "124  [Heat sugar and water for syrup and allow to c...                     \n",
       "125  [Mince the meat in a meat-grinder and combine ...                     \n",
       "\n",
       "    prep_time cook_time  \n",
       "0                        \n",
       "1                        \n",
       "2                        \n",
       "3                        \n",
       "4                        \n",
       "..        ...       ...  \n",
       "121                      \n",
       "122                      \n",
       "123                      \n",
       "124                      \n",
       "125                      \n",
       "\n",
       "[126 rows x 8 columns]"
      ]
     },
     "execution_count": 9,
     "metadata": {},
     "output_type": "execute_result"
    }
   ],
   "source": [
    "df"
   ]
  },
  {
   "cell_type": "code",
   "execution_count": 10,
   "metadata": {},
   "outputs": [],
   "source": [
    "df.to_csv('data/uzbekistan/uzbekistan.csv')"
   ]
  },
  {
   "cell_type": "code",
   "execution_count": null,
   "metadata": {},
   "outputs": [],
   "source": []
  }
 ],
 "metadata": {
  "interpreter": {
   "hash": "7f97af7b90ec3405e1f66aa9bfad4ba40234615df6d29df3ef268808d6a9feec"
  },
  "kernelspec": {
   "display_name": "Python 3.9.1 ('wb-scraping': venv)",
   "language": "python",
   "name": "python3"
  },
  "language_info": {
   "codemirror_mode": {
    "name": "ipython",
    "version": 3
   },
   "file_extension": ".py",
   "mimetype": "text/x-python",
   "name": "python",
   "nbconvert_exporter": "python",
   "pygments_lexer": "ipython3",
   "version": "3.9.1"
  },
  "orig_nbformat": 4
 },
 "nbformat": 4,
 "nbformat_minor": 2
}
