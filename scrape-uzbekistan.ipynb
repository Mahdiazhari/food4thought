{
 "cells": [
  {
   "cell_type": "code",
   "execution_count": 1,
   "metadata": {},
   "outputs": [],
   "source": [
    "import pandas as pd\n",
    "\n",
    "from  util.spider import Spider"
   ]
  },
  {
   "cell_type": "code",
   "execution_count": 3,
   "metadata": {},
   "outputs": [],
   "source": [
    "attrs = {\n",
    "        'name'       :  'normalize-space(//h1[@class=\"pos-title\"]//text())',\n",
    "        'ingredients':  '//div[@class=\"pos-ingredients\"]/div/ul//text()',\n",
    "        'total_time':   '//ul[@class=\"pos-infobar\"]/li[1]//text()[2]',\n",
    "        'instructions': '//div[@class=\"pos-directions\"]/div//p//text()',\n",
    "        'servings':     '',\n",
    "        'category':     '',\n",
    "        'prep_time':    '',\n",
    "        'cook_time':    '',\n",
    "}\n",
    "listing={'items': '//p[@class=\"pos-links\"]//a/@href', 'next': { 'next_page_str': '/frontpage/{}', 'type': 'url'}}\n",
    "seeds = ['https://uztravelguide.com/uzbek-cuisine/recipe-book']\n",
    "available_json = {}"
   ]
  },
  {
   "cell_type": "code",
   "execution_count": 4,
   "metadata": {},
   "outputs": [],
   "source": [
    "uzbek_spider = Spider('https://uztravelguide.com', seeds=seeds,listing=listing,attrs=attrs,available_json=available_json)"
   ]
  },
  {
   "cell_type": "code",
   "execution_count": 5,
   "metadata": {},
   "outputs": [
    {
     "data": {
      "text/plain": [
       "{'name': 'Chicken Kebab',\n",
       " 'total_time': '1:30',\n",
       " 'ingredients': ['1 chicken',\n",
       "  '3 onions',\n",
       "  'Wine vinegar',\n",
       "  'Salt',\n",
       "  'Coriander seeds and cumin to taste'],\n",
       " 'instructions': ['Cut the cleaned and boned chicken into 20-25 g of pieces. Combine well with chopped onions, vinegar, salt and spices. Cover and set aside in a cool place for 8-10 hours. Thread 4-5 pieces of chicken on skewers and grill over hot coals. Serve sprinkled with sliced onions.'],\n",
       " 'servings': '',\n",
       " 'category': '',\n",
       " 'prep_time': '',\n",
       " 'cook_time': ''}"
      ]
     },
     "execution_count": 5,
     "metadata": {},
     "output_type": "execute_result"
    }
   ],
   "source": [
    "uzbek_spider.scrape_one_item('https://uztravelguide.com/uzbek-cuisine/recipe-book/chicken-kebab')"
   ]
  },
  {
   "cell_type": "code",
   "execution_count": 6,
   "metadata": {},
   "outputs": [
    {
     "name": "stdout",
     "output_type": "stream",
     "text": [
      "spider is scraping page: 1\n",
      "Cannot open the menu url, status code = 404, url= https://uztravelguide.com/uzbek-cuisine/recipe-bookfrontpage/1\n"
     ]
    }
   ],
   "source": [
    "result_list = uzbek_spider.start_scrape(max_pages=13)"
   ]
  },
  {
   "cell_type": "code",
   "execution_count": null,
   "metadata": {},
   "outputs": [],
   "source": []
  }
 ],
 "metadata": {
  "interpreter": {
   "hash": "7f97af7b90ec3405e1f66aa9bfad4ba40234615df6d29df3ef268808d6a9feec"
  },
  "kernelspec": {
   "display_name": "Python 3.9.1 ('wb-scraping': venv)",
   "language": "python",
   "name": "python3"
  },
  "language_info": {
   "codemirror_mode": {
    "name": "ipython",
    "version": 3
   },
   "file_extension": ".py",
   "mimetype": "text/x-python",
   "name": "python",
   "nbconvert_exporter": "python",
   "pygments_lexer": "ipython3",
   "version": "3.9.1"
  },
  "orig_nbformat": 4
 },
 "nbformat": 4,
 "nbformat_minor": 2
}
