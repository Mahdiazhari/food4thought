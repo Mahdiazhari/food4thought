{
 "cells": [
  {
   "cell_type": "code",
   "execution_count": 1,
   "metadata": {},
   "outputs": [],
   "source": [
    "import pandas as pd\n",
    "import json\n",
    "import requests\n",
    "import random\n",
    "from lxml import html\n",
    "import re\n",
    "import time\n",
    "\n",
    "from  util.spider import Spider\n",
    "from util.http_utility import get_http_headers\n",
    "from util.user_agent import get_random_ua"
   ]
  },
  {
   "cell_type": "markdown",
   "metadata": {},
   "source": [
    "# Food4Thought: Russia\n",
    "\n",
    "url: https://www.russianfood.com/recipes/bytype/?fid=103#rcp_list\n",
    "\n",
    "The website contains a lot of recipes from different countries, fid=103 is for Russia. \n",
    "Russianfood.com has IP blocking, need time sleep... and disable multithreading."
   ]
  },
  {
   "cell_type": "code",
   "execution_count": 2,
   "metadata": {},
   "outputs": [],
   "source": [
    "class RussianSpider(Spider): #inherit Spider Class\n",
    "\n",
    "    def __init__(self, main_page, seeds, listing, attrs, header=None):\n",
    "        super().__init__(main_page,seeds,listing,attrs,header)\n",
    "\n",
    "    def scrape_one_item(self,url):\n",
    "        \"\"\"To scrape one item from a given url\n",
    "\n",
    "        Args:\n",
    "            url (str): url of the item\n",
    "\n",
    "        Returns:\n",
    "            dict: dict of the item\n",
    "        \"\"\"\n",
    "        time.sleep(2)\n",
    "        session = requests.Session() \n",
    "        session.headers.update(self.header)\n",
    "\n",
    "        #add home page url to the obtained item url if item url is not complete\n",
    "        if self.main_page not in url:\n",
    "            res = session.get(self.main_page + url)\n",
    "        else:\n",
    "            res = session.get(url)\n",
    "\n",
    "        if res.status_code == 200:\n",
    "            try:\n",
    "                #print(res.status_code)\n",
    "                doc = html.document_fromstring(res.text)\n",
    "                #set default values for variables\n",
    "                name, total_time, ingredients, instructions, servings, category, prep_time, cook_time = '','','','','','','',''\n",
    "\n",
    "                #Name\n",
    "                if self.check_normalize_space(self.attrs['name']):\n",
    "                    name = doc.xpath(self.attrs['name'])\n",
    "                else: name = doc.xpath(self.attrs['name'])[0]\n",
    "\n",
    "                #Total Time\n",
    "                if self.check_normalize_space(self.attrs['total_time']):\n",
    "                    total_time = doc.xpath(self.attrs['total_time'])\n",
    "                else:  total_time = doc.xpath(self.attrs['total_time'])[0]\n",
    "\n",
    "                #ingredients\n",
    "                ingredients = doc.xpath(self.attrs['ingredients'])\n",
    "                clean_ingredients = []\n",
    "                for ing in ingredients:\n",
    "                    ing = ing.replace('\\t','')\n",
    "                    ing = ing.replace('\\r','')\n",
    "                    ing = ing.replace('\\n','')\n",
    "                    clean_ingredients.append(ing)\n",
    "\n",
    "                #print(clean_ingredients)\n",
    "                #ingredients = ''.join(clean_ingredients)\n",
    "                #ingredients = ingredients.strip()\n",
    "                # ingredient_str = ''\n",
    "                # for ing in ingredients:\n",
    "                #     if  ' ' not in str(ing):\n",
    "                #         ingredient_str += ing\n",
    "\n",
    "                ingredients = list(filter(None, clean_ingredients))\n",
    "                \n",
    "\n",
    "                #instructions\n",
    "                instructions = doc.xpath(self.attrs['instructions'])\n",
    "                #print(instructions)\n",
    "                #instructions= ''.join(instructions)\n",
    "                \n",
    "                # instructions_str = ''\n",
    "                # for ins in instructions:\n",
    "                #     if  ' ' not in str(ins): \n",
    "                #         instructions_str += ins\n",
    "                # instructions = instructions_str\n",
    "\n",
    "                # if self.check_normalize_space(self.attrs['instructions']):\n",
    "                #     instructions = doc.xpath(self.attrs['instructions'])\n",
    "                # else:  instructions = doc.xpath(self.attrs['instructions'])[0]\n",
    "\n",
    "                #servings\n",
    "                if self.attrs['servings']:\n",
    "                    if self.check_normalize_space(self.attrs['servings']):\n",
    "                        servings = doc.xpath(self.attrs['servings'])\n",
    "                    else: servings = doc.xpath(self.attrs['servings'])[0]\n",
    "\n",
    "                #category\n",
    "                if self.attrs['category']:\n",
    "                    if self.check_normalize_space(self.attrs['category']):\n",
    "                        category = doc.xpath(self.attrs['category'])\n",
    "                    else: category = doc.xpath(self.attrs['category'])[0]\n",
    "\n",
    "                #prep time\n",
    "                if self.attrs['prep_time']:\n",
    "                    if self.check_normalize_space(self.attrs['prep_time']):\n",
    "                        prep_time = doc.xpath(self.attrs['prep_time'])\n",
    "                    else: prep_time = doc.xpath(self.attrs['prep_time'])[0]\n",
    "                \n",
    "                #cooking time\n",
    "                if self.attrs['cook_time']:\n",
    "                    if self.check_normalize_space(self.attrs['cook_time']):\n",
    "                        cook_time = doc.xpath(self.attrs['cook_time'])\n",
    "                    else: cook_time = doc.xpath(self.attrs['cook_time'])[0]\n",
    "                \n",
    "                return {'name': name, 'total_time': total_time, 'ingredients': ingredients, 'instructions': instructions, 'servings': servings,\n",
    "                'category': category, 'prep_time': prep_time, 'cook_time': cook_time,}\n",
    "            except Exception as e:\n",
    "                raise Exception('something is wrong for item: {}'.format(url)) from e\n",
    "\n",
    "\n",
    "        else:\n",
    "            raise Exception('Cannot open one menu url, status code = {}'.format(res.status_code))\n"
   ]
  },
  {
   "cell_type": "code",
   "execution_count": 3,
   "metadata": {},
   "outputs": [],
   "source": [
    "attrs = {\n",
    "        'name':         'normalize-space(//title)',\n",
    "        'ingredients':  '//tr[contains(@class,\"ingr_tr_\")]//text()',\n",
    "        'total_time':   'normalize-space(//div[@class=\"sub_info\"]/div[@class=\"el\"][2])',\n",
    "        'instructions': '//div[@class=\"step_n\"]//p//text()',\n",
    "        'servings':     'normalize-space(//div[@class=\"sub_info\"]/div[@class=\"el\"][1])',\n",
    "        'category':     '',\n",
    "        'prep_time':    '',\n",
    "        'cook_time':    '',\n",
    "}\n",
    "\n",
    "listing={'items': '//div[contains(@class,\"recipe_list_new\")]//div[contains(@class,\"title\")]/a/@href', 'next': { 'next_page_str': '&page={}', 'type': 'url'}}\n",
    "seeds = ['https://www.russianfood.com/recipes/bytype/?fid=103']"
   ]
  },
  {
   "cell_type": "code",
   "execution_count": 4,
   "metadata": {},
   "outputs": [
    {
     "data": {
      "text/plain": [
       "{'name': 'Рецепт: Картофельные драники с чесноком (без яиц и муки) на RussianFood.com',\n",
       " 'total_time': '\\xa030 мин (ваши 30 мин)',\n",
       " 'ingredients': ['Картофель - 800 г',\n",
       "  'Лук репчатый - 150 г',\n",
       "  'Сметана - 1 ст. ложка',\n",
       "  'Соль - 0,5 ч. ложки',\n",
       "  'Перец молотый (смесь перцев) - 1 щепотка',\n",
       "  'Масло растительное - 4 ст. ложки'],\n",
       " 'instructions': ['Подготовьте все для драников - картофель, лук, чеснок, сметану, специи и растительное масло для жарки.',\n",
       "  'Картофель очистите от кожуры. Репчатый лук и чеснок очистите от шелухи.',\n",
       "  'Репчатый лук и чеснок натрите на мелкой терке в глубокую миску.',\n",
       "  'Туда же натрите на мелкой тёрке картофель, периодически перемешивая его с луком. Добавьте соль, перемешайте.',\n",
       "  'Картофельно-луковую массу откиньте на дуршлаг или мелкое сито, сливая жидкость в миску. Оставьте на 2-3 минуты, слегка придавливая массу лопаткой. Сильно выжимать не нужно, чтобы драники получились сочными.',\n",
       "  'У меня получилось примерно 120-130 мл жидкости. Аккуратно слейте верхний желтый слой.',\n",
       "  'На дне остается примерно 1 столовая ложка белого крахмала. Он необходим в тесте, поэтому сливать его не нужно. Если картофель не крахмалистый, добавьте чайную ложку картофельного крахмала в натертый картофель.',\n",
       "  'В миску с крахмалом переложите картофельную массу. Добавьте сметану и смесь перцев, перемешайте.',\n",
       "  'Из картофельного теста руками слепите круглый и плоский драник (толщина - около 1-1,5 см).',\n",
       "  'Разогрейте в сковороде растительное масло. Выложите в горячее масло сформированные драники.',\n",
       "  'Обжаривайте на среднем огне примерно по 1-2 минуты с каждой стороны, до золотистой корочки.',\n",
       "  'Обжаренные драники переложите на бумажное полотенце, чтобы оно впитало лишнее масло. Обжарьте следующую порцию.',\n",
       "  'Идеальным соусом к драникам из картофеля является сметана. Подавайте драники к столу, пока они теплые, именно тогда их нежная сочная серединка отлично контрастирует с хрустящей корочкой.',\n",
       "  'Яркое, вкуснейшее, простое и очень вкусное блюдо из картофеля, которое не нуждается ни в мясном, ни в рыбном дополнении!',\n",
       "  'Вкусно и экономно - это картофельные драники с чесноком.'],\n",
       " 'servings': '\\xa04 порции',\n",
       " 'category': '',\n",
       " 'prep_time': '',\n",
       " 'cook_time': ''}"
      ]
     },
     "execution_count": 4,
     "metadata": {},
     "output_type": "execute_result"
    }
   ],
   "source": [
    "#setup variables\n",
    "user_agent = get_random_ua()\n",
    "custom_header = { #setup custom header because romania requires certain headers\n",
    "        'referer': 'https://www.google.com/',\n",
    "        'Accept-Language': '*',\n",
    "        'Accept-Encoding': '*',\n",
    "        'Accept': '*',\n",
    "        'user-agent': user_agent}\n",
    "ru_spider= RussianSpider('https://www.russianfood.com/', seeds= seeds, listing =listing,attrs= attrs, header=custom_header)\n",
    "#print(romania_spider.attrs)\n",
    "ru_spider.scrape_one_item('https://www.russianfood.com/recipes/recipe.php?rid=164402') #try out scraping one item"
   ]
  },
  {
   "cell_type": "code",
   "execution_count": 5,
   "metadata": {},
   "outputs": [
    {
     "name": "stdout",
     "output_type": "stream",
     "text": [
      "spider is scraping page: 1\n"
     ]
    },
    {
     "ename": "KeyboardInterrupt",
     "evalue": "",
     "output_type": "error",
     "traceback": [
      "\u001b[0;31m---------------------------------------------------------------------------\u001b[0m",
      "\u001b[0;31mKeyboardInterrupt\u001b[0m                         Traceback (most recent call last)",
      "\u001b[1;32m/Users/mahdiazhari/world-bank/scrape-russia.ipynb Cell 6'\u001b[0m in \u001b[0;36m<cell line: 1>\u001b[0;34m()\u001b[0m\n\u001b[0;32m----> <a href='vscode-notebook-cell:/Users/mahdiazhari/world-bank/scrape-russia.ipynb#ch0000005?line=0'>1</a>\u001b[0m result_list \u001b[39m=\u001b[39m ru_spider\u001b[39m.\u001b[39;49mstart_scrape(max_pages\u001b[39m=\u001b[39;49m\u001b[39m65\u001b[39;49m,multithread\u001b[39m=\u001b[39;49m\u001b[39mFalse\u001b[39;49;00m)\n",
      "File \u001b[0;32m~/world-bank/util/spider.py:173\u001b[0m, in \u001b[0;36mSpider.start_scrape\u001b[0;34m(self, max_pages, multithread)\u001b[0m\n\u001b[1;32m    <a href='file:///Users/mahdiazhari/world-bank/util/spider.py?line=170'>171</a>\u001b[0m     results \u001b[39m=\u001b[39m []\n\u001b[1;32m    <a href='file:///Users/mahdiazhari/world-bank/util/spider.py?line=171'>172</a>\u001b[0m     \u001b[39mfor\u001b[39;00m item_url \u001b[39min\u001b[39;00m listing_items:\n\u001b[0;32m--> <a href='file:///Users/mahdiazhari/world-bank/util/spider.py?line=172'>173</a>\u001b[0m         item \u001b[39m=\u001b[39m \u001b[39mself\u001b[39;49m\u001b[39m.\u001b[39;49mscrape_one_item(item_url)\n\u001b[1;32m    <a href='file:///Users/mahdiazhari/world-bank/util/spider.py?line=173'>174</a>\u001b[0m         results\u001b[39m.\u001b[39mappend(item)\n\u001b[1;32m    <a href='file:///Users/mahdiazhari/world-bank/util/spider.py?line=175'>176</a>\u001b[0m all_items \u001b[39m+\u001b[39m\u001b[39m=\u001b[39m results\n",
      "\u001b[1;32m/Users/mahdiazhari/world-bank/scrape-russia.ipynb Cell 3'\u001b[0m in \u001b[0;36mRussianSpider.scrape_one_item\u001b[0;34m(self, url)\u001b[0m\n\u001b[1;32m     <a href='vscode-notebook-cell:/Users/mahdiazhari/world-bank/scrape-russia.ipynb#ch0000002?line=18'>19</a>\u001b[0m \u001b[39m#add home page url to the obtained item url if item url is not complete\u001b[39;00m\n\u001b[1;32m     <a href='vscode-notebook-cell:/Users/mahdiazhari/world-bank/scrape-russia.ipynb#ch0000002?line=19'>20</a>\u001b[0m \u001b[39mif\u001b[39;00m \u001b[39mself\u001b[39m\u001b[39m.\u001b[39mmain_page \u001b[39mnot\u001b[39;00m \u001b[39min\u001b[39;00m url:\n\u001b[0;32m---> <a href='vscode-notebook-cell:/Users/mahdiazhari/world-bank/scrape-russia.ipynb#ch0000002?line=20'>21</a>\u001b[0m     res \u001b[39m=\u001b[39m session\u001b[39m.\u001b[39;49mget(\u001b[39mself\u001b[39;49m\u001b[39m.\u001b[39;49mmain_page \u001b[39m+\u001b[39;49m url)\n\u001b[1;32m     <a href='vscode-notebook-cell:/Users/mahdiazhari/world-bank/scrape-russia.ipynb#ch0000002?line=21'>22</a>\u001b[0m \u001b[39melse\u001b[39;00m:\n\u001b[1;32m     <a href='vscode-notebook-cell:/Users/mahdiazhari/world-bank/scrape-russia.ipynb#ch0000002?line=22'>23</a>\u001b[0m     res \u001b[39m=\u001b[39m session\u001b[39m.\u001b[39mget(url)\n",
      "File \u001b[0;32m~/world-bank/wb-scraping/lib/python3.9/site-packages/requests/sessions.py:542\u001b[0m, in \u001b[0;36mSession.get\u001b[0;34m(self, url, **kwargs)\u001b[0m\n\u001b[1;32m    <a href='file:///Users/mahdiazhari/world-bank/wb-scraping/lib/python3.9/site-packages/requests/sessions.py?line=533'>534</a>\u001b[0m \u001b[39mr\u001b[39m\u001b[39m\"\"\"Sends a GET request. Returns :class:`Response` object.\u001b[39;00m\n\u001b[1;32m    <a href='file:///Users/mahdiazhari/world-bank/wb-scraping/lib/python3.9/site-packages/requests/sessions.py?line=534'>535</a>\u001b[0m \n\u001b[1;32m    <a href='file:///Users/mahdiazhari/world-bank/wb-scraping/lib/python3.9/site-packages/requests/sessions.py?line=535'>536</a>\u001b[0m \u001b[39m:param url: URL for the new :class:`Request` object.\u001b[39;00m\n\u001b[1;32m    <a href='file:///Users/mahdiazhari/world-bank/wb-scraping/lib/python3.9/site-packages/requests/sessions.py?line=536'>537</a>\u001b[0m \u001b[39m:param \\*\\*kwargs: Optional arguments that ``request`` takes.\u001b[39;00m\n\u001b[1;32m    <a href='file:///Users/mahdiazhari/world-bank/wb-scraping/lib/python3.9/site-packages/requests/sessions.py?line=537'>538</a>\u001b[0m \u001b[39m:rtype: requests.Response\u001b[39;00m\n\u001b[1;32m    <a href='file:///Users/mahdiazhari/world-bank/wb-scraping/lib/python3.9/site-packages/requests/sessions.py?line=538'>539</a>\u001b[0m \u001b[39m\"\"\"\u001b[39;00m\n\u001b[1;32m    <a href='file:///Users/mahdiazhari/world-bank/wb-scraping/lib/python3.9/site-packages/requests/sessions.py?line=540'>541</a>\u001b[0m kwargs\u001b[39m.\u001b[39msetdefault(\u001b[39m'\u001b[39m\u001b[39mallow_redirects\u001b[39m\u001b[39m'\u001b[39m, \u001b[39mTrue\u001b[39;00m)\n\u001b[0;32m--> <a href='file:///Users/mahdiazhari/world-bank/wb-scraping/lib/python3.9/site-packages/requests/sessions.py?line=541'>542</a>\u001b[0m \u001b[39mreturn\u001b[39;00m \u001b[39mself\u001b[39;49m\u001b[39m.\u001b[39;49mrequest(\u001b[39m'\u001b[39;49m\u001b[39mGET\u001b[39;49m\u001b[39m'\u001b[39;49m, url, \u001b[39m*\u001b[39;49m\u001b[39m*\u001b[39;49mkwargs)\n",
      "File \u001b[0;32m~/world-bank/wb-scraping/lib/python3.9/site-packages/requests/sessions.py:529\u001b[0m, in \u001b[0;36mSession.request\u001b[0;34m(self, method, url, params, data, headers, cookies, files, auth, timeout, allow_redirects, proxies, hooks, stream, verify, cert, json)\u001b[0m\n\u001b[1;32m    <a href='file:///Users/mahdiazhari/world-bank/wb-scraping/lib/python3.9/site-packages/requests/sessions.py?line=523'>524</a>\u001b[0m send_kwargs \u001b[39m=\u001b[39m {\n\u001b[1;32m    <a href='file:///Users/mahdiazhari/world-bank/wb-scraping/lib/python3.9/site-packages/requests/sessions.py?line=524'>525</a>\u001b[0m     \u001b[39m'\u001b[39m\u001b[39mtimeout\u001b[39m\u001b[39m'\u001b[39m: timeout,\n\u001b[1;32m    <a href='file:///Users/mahdiazhari/world-bank/wb-scraping/lib/python3.9/site-packages/requests/sessions.py?line=525'>526</a>\u001b[0m     \u001b[39m'\u001b[39m\u001b[39mallow_redirects\u001b[39m\u001b[39m'\u001b[39m: allow_redirects,\n\u001b[1;32m    <a href='file:///Users/mahdiazhari/world-bank/wb-scraping/lib/python3.9/site-packages/requests/sessions.py?line=526'>527</a>\u001b[0m }\n\u001b[1;32m    <a href='file:///Users/mahdiazhari/world-bank/wb-scraping/lib/python3.9/site-packages/requests/sessions.py?line=527'>528</a>\u001b[0m send_kwargs\u001b[39m.\u001b[39mupdate(settings)\n\u001b[0;32m--> <a href='file:///Users/mahdiazhari/world-bank/wb-scraping/lib/python3.9/site-packages/requests/sessions.py?line=528'>529</a>\u001b[0m resp \u001b[39m=\u001b[39m \u001b[39mself\u001b[39;49m\u001b[39m.\u001b[39;49msend(prep, \u001b[39m*\u001b[39;49m\u001b[39m*\u001b[39;49msend_kwargs)\n\u001b[1;32m    <a href='file:///Users/mahdiazhari/world-bank/wb-scraping/lib/python3.9/site-packages/requests/sessions.py?line=530'>531</a>\u001b[0m \u001b[39mreturn\u001b[39;00m resp\n",
      "File \u001b[0;32m~/world-bank/wb-scraping/lib/python3.9/site-packages/requests/sessions.py:645\u001b[0m, in \u001b[0;36mSession.send\u001b[0;34m(self, request, **kwargs)\u001b[0m\n\u001b[1;32m    <a href='file:///Users/mahdiazhari/world-bank/wb-scraping/lib/python3.9/site-packages/requests/sessions.py?line=641'>642</a>\u001b[0m start \u001b[39m=\u001b[39m preferred_clock()\n\u001b[1;32m    <a href='file:///Users/mahdiazhari/world-bank/wb-scraping/lib/python3.9/site-packages/requests/sessions.py?line=643'>644</a>\u001b[0m \u001b[39m# Send the request\u001b[39;00m\n\u001b[0;32m--> <a href='file:///Users/mahdiazhari/world-bank/wb-scraping/lib/python3.9/site-packages/requests/sessions.py?line=644'>645</a>\u001b[0m r \u001b[39m=\u001b[39m adapter\u001b[39m.\u001b[39;49msend(request, \u001b[39m*\u001b[39;49m\u001b[39m*\u001b[39;49mkwargs)\n\u001b[1;32m    <a href='file:///Users/mahdiazhari/world-bank/wb-scraping/lib/python3.9/site-packages/requests/sessions.py?line=646'>647</a>\u001b[0m \u001b[39m# Total elapsed time of the request (approximately)\u001b[39;00m\n\u001b[1;32m    <a href='file:///Users/mahdiazhari/world-bank/wb-scraping/lib/python3.9/site-packages/requests/sessions.py?line=647'>648</a>\u001b[0m elapsed \u001b[39m=\u001b[39m preferred_clock() \u001b[39m-\u001b[39m start\n",
      "File \u001b[0;32m~/world-bank/wb-scraping/lib/python3.9/site-packages/requests/adapters.py:440\u001b[0m, in \u001b[0;36mHTTPAdapter.send\u001b[0;34m(self, request, stream, timeout, verify, cert, proxies)\u001b[0m\n\u001b[1;32m    <a href='file:///Users/mahdiazhari/world-bank/wb-scraping/lib/python3.9/site-packages/requests/adapters.py?line=437'>438</a>\u001b[0m \u001b[39mtry\u001b[39;00m:\n\u001b[1;32m    <a href='file:///Users/mahdiazhari/world-bank/wb-scraping/lib/python3.9/site-packages/requests/adapters.py?line=438'>439</a>\u001b[0m     \u001b[39mif\u001b[39;00m \u001b[39mnot\u001b[39;00m chunked:\n\u001b[0;32m--> <a href='file:///Users/mahdiazhari/world-bank/wb-scraping/lib/python3.9/site-packages/requests/adapters.py?line=439'>440</a>\u001b[0m         resp \u001b[39m=\u001b[39m conn\u001b[39m.\u001b[39;49murlopen(\n\u001b[1;32m    <a href='file:///Users/mahdiazhari/world-bank/wb-scraping/lib/python3.9/site-packages/requests/adapters.py?line=440'>441</a>\u001b[0m             method\u001b[39m=\u001b[39;49mrequest\u001b[39m.\u001b[39;49mmethod,\n\u001b[1;32m    <a href='file:///Users/mahdiazhari/world-bank/wb-scraping/lib/python3.9/site-packages/requests/adapters.py?line=441'>442</a>\u001b[0m             url\u001b[39m=\u001b[39;49murl,\n\u001b[1;32m    <a href='file:///Users/mahdiazhari/world-bank/wb-scraping/lib/python3.9/site-packages/requests/adapters.py?line=442'>443</a>\u001b[0m             body\u001b[39m=\u001b[39;49mrequest\u001b[39m.\u001b[39;49mbody,\n\u001b[1;32m    <a href='file:///Users/mahdiazhari/world-bank/wb-scraping/lib/python3.9/site-packages/requests/adapters.py?line=443'>444</a>\u001b[0m             headers\u001b[39m=\u001b[39;49mrequest\u001b[39m.\u001b[39;49mheaders,\n\u001b[1;32m    <a href='file:///Users/mahdiazhari/world-bank/wb-scraping/lib/python3.9/site-packages/requests/adapters.py?line=444'>445</a>\u001b[0m             redirect\u001b[39m=\u001b[39;49m\u001b[39mFalse\u001b[39;49;00m,\n\u001b[1;32m    <a href='file:///Users/mahdiazhari/world-bank/wb-scraping/lib/python3.9/site-packages/requests/adapters.py?line=445'>446</a>\u001b[0m             assert_same_host\u001b[39m=\u001b[39;49m\u001b[39mFalse\u001b[39;49;00m,\n\u001b[1;32m    <a href='file:///Users/mahdiazhari/world-bank/wb-scraping/lib/python3.9/site-packages/requests/adapters.py?line=446'>447</a>\u001b[0m             preload_content\u001b[39m=\u001b[39;49m\u001b[39mFalse\u001b[39;49;00m,\n\u001b[1;32m    <a href='file:///Users/mahdiazhari/world-bank/wb-scraping/lib/python3.9/site-packages/requests/adapters.py?line=447'>448</a>\u001b[0m             decode_content\u001b[39m=\u001b[39;49m\u001b[39mFalse\u001b[39;49;00m,\n\u001b[1;32m    <a href='file:///Users/mahdiazhari/world-bank/wb-scraping/lib/python3.9/site-packages/requests/adapters.py?line=448'>449</a>\u001b[0m             retries\u001b[39m=\u001b[39;49m\u001b[39mself\u001b[39;49m\u001b[39m.\u001b[39;49mmax_retries,\n\u001b[1;32m    <a href='file:///Users/mahdiazhari/world-bank/wb-scraping/lib/python3.9/site-packages/requests/adapters.py?line=449'>450</a>\u001b[0m             timeout\u001b[39m=\u001b[39;49mtimeout\n\u001b[1;32m    <a href='file:///Users/mahdiazhari/world-bank/wb-scraping/lib/python3.9/site-packages/requests/adapters.py?line=450'>451</a>\u001b[0m         )\n\u001b[1;32m    <a href='file:///Users/mahdiazhari/world-bank/wb-scraping/lib/python3.9/site-packages/requests/adapters.py?line=452'>453</a>\u001b[0m     \u001b[39m# Send the request.\u001b[39;00m\n\u001b[1;32m    <a href='file:///Users/mahdiazhari/world-bank/wb-scraping/lib/python3.9/site-packages/requests/adapters.py?line=453'>454</a>\u001b[0m     \u001b[39melse\u001b[39;00m:\n\u001b[1;32m    <a href='file:///Users/mahdiazhari/world-bank/wb-scraping/lib/python3.9/site-packages/requests/adapters.py?line=454'>455</a>\u001b[0m         \u001b[39mif\u001b[39;00m \u001b[39mhasattr\u001b[39m(conn, \u001b[39m'\u001b[39m\u001b[39mproxy_pool\u001b[39m\u001b[39m'\u001b[39m):\n",
      "File \u001b[0;32m~/world-bank/wb-scraping/lib/python3.9/site-packages/urllib3/connectionpool.py:703\u001b[0m, in \u001b[0;36mHTTPConnectionPool.urlopen\u001b[0;34m(self, method, url, body, headers, retries, redirect, assert_same_host, timeout, pool_timeout, release_conn, chunked, body_pos, **response_kw)\u001b[0m\n\u001b[1;32m    <a href='file:///Users/mahdiazhari/world-bank/wb-scraping/lib/python3.9/site-packages/urllib3/connectionpool.py?line=699'>700</a>\u001b[0m     \u001b[39mself\u001b[39m\u001b[39m.\u001b[39m_prepare_proxy(conn)\n\u001b[1;32m    <a href='file:///Users/mahdiazhari/world-bank/wb-scraping/lib/python3.9/site-packages/urllib3/connectionpool.py?line=701'>702</a>\u001b[0m \u001b[39m# Make the request on the httplib connection object.\u001b[39;00m\n\u001b[0;32m--> <a href='file:///Users/mahdiazhari/world-bank/wb-scraping/lib/python3.9/site-packages/urllib3/connectionpool.py?line=702'>703</a>\u001b[0m httplib_response \u001b[39m=\u001b[39m \u001b[39mself\u001b[39;49m\u001b[39m.\u001b[39;49m_make_request(\n\u001b[1;32m    <a href='file:///Users/mahdiazhari/world-bank/wb-scraping/lib/python3.9/site-packages/urllib3/connectionpool.py?line=703'>704</a>\u001b[0m     conn,\n\u001b[1;32m    <a href='file:///Users/mahdiazhari/world-bank/wb-scraping/lib/python3.9/site-packages/urllib3/connectionpool.py?line=704'>705</a>\u001b[0m     method,\n\u001b[1;32m    <a href='file:///Users/mahdiazhari/world-bank/wb-scraping/lib/python3.9/site-packages/urllib3/connectionpool.py?line=705'>706</a>\u001b[0m     url,\n\u001b[1;32m    <a href='file:///Users/mahdiazhari/world-bank/wb-scraping/lib/python3.9/site-packages/urllib3/connectionpool.py?line=706'>707</a>\u001b[0m     timeout\u001b[39m=\u001b[39;49mtimeout_obj,\n\u001b[1;32m    <a href='file:///Users/mahdiazhari/world-bank/wb-scraping/lib/python3.9/site-packages/urllib3/connectionpool.py?line=707'>708</a>\u001b[0m     body\u001b[39m=\u001b[39;49mbody,\n\u001b[1;32m    <a href='file:///Users/mahdiazhari/world-bank/wb-scraping/lib/python3.9/site-packages/urllib3/connectionpool.py?line=708'>709</a>\u001b[0m     headers\u001b[39m=\u001b[39;49mheaders,\n\u001b[1;32m    <a href='file:///Users/mahdiazhari/world-bank/wb-scraping/lib/python3.9/site-packages/urllib3/connectionpool.py?line=709'>710</a>\u001b[0m     chunked\u001b[39m=\u001b[39;49mchunked,\n\u001b[1;32m    <a href='file:///Users/mahdiazhari/world-bank/wb-scraping/lib/python3.9/site-packages/urllib3/connectionpool.py?line=710'>711</a>\u001b[0m )\n\u001b[1;32m    <a href='file:///Users/mahdiazhari/world-bank/wb-scraping/lib/python3.9/site-packages/urllib3/connectionpool.py?line=712'>713</a>\u001b[0m \u001b[39m# If we're going to release the connection in ``finally:``, then\u001b[39;00m\n\u001b[1;32m    <a href='file:///Users/mahdiazhari/world-bank/wb-scraping/lib/python3.9/site-packages/urllib3/connectionpool.py?line=713'>714</a>\u001b[0m \u001b[39m# the response doesn't need to know about the connection. Otherwise\u001b[39;00m\n\u001b[1;32m    <a href='file:///Users/mahdiazhari/world-bank/wb-scraping/lib/python3.9/site-packages/urllib3/connectionpool.py?line=714'>715</a>\u001b[0m \u001b[39m# it will also try to release it and we'll have a double-release\u001b[39;00m\n\u001b[1;32m    <a href='file:///Users/mahdiazhari/world-bank/wb-scraping/lib/python3.9/site-packages/urllib3/connectionpool.py?line=715'>716</a>\u001b[0m \u001b[39m# mess.\u001b[39;00m\n\u001b[1;32m    <a href='file:///Users/mahdiazhari/world-bank/wb-scraping/lib/python3.9/site-packages/urllib3/connectionpool.py?line=716'>717</a>\u001b[0m response_conn \u001b[39m=\u001b[39m conn \u001b[39mif\u001b[39;00m \u001b[39mnot\u001b[39;00m release_conn \u001b[39melse\u001b[39;00m \u001b[39mNone\u001b[39;00m\n",
      "File \u001b[0;32m~/world-bank/wb-scraping/lib/python3.9/site-packages/urllib3/connectionpool.py:386\u001b[0m, in \u001b[0;36mHTTPConnectionPool._make_request\u001b[0;34m(self, conn, method, url, timeout, chunked, **httplib_request_kw)\u001b[0m\n\u001b[1;32m    <a href='file:///Users/mahdiazhari/world-bank/wb-scraping/lib/python3.9/site-packages/urllib3/connectionpool.py?line=383'>384</a>\u001b[0m \u001b[39m# Trigger any extra validation we need to do.\u001b[39;00m\n\u001b[1;32m    <a href='file:///Users/mahdiazhari/world-bank/wb-scraping/lib/python3.9/site-packages/urllib3/connectionpool.py?line=384'>385</a>\u001b[0m \u001b[39mtry\u001b[39;00m:\n\u001b[0;32m--> <a href='file:///Users/mahdiazhari/world-bank/wb-scraping/lib/python3.9/site-packages/urllib3/connectionpool.py?line=385'>386</a>\u001b[0m     \u001b[39mself\u001b[39;49m\u001b[39m.\u001b[39;49m_validate_conn(conn)\n\u001b[1;32m    <a href='file:///Users/mahdiazhari/world-bank/wb-scraping/lib/python3.9/site-packages/urllib3/connectionpool.py?line=386'>387</a>\u001b[0m \u001b[39mexcept\u001b[39;00m (SocketTimeout, BaseSSLError) \u001b[39mas\u001b[39;00m e:\n\u001b[1;32m    <a href='file:///Users/mahdiazhari/world-bank/wb-scraping/lib/python3.9/site-packages/urllib3/connectionpool.py?line=387'>388</a>\u001b[0m     \u001b[39m# Py2 raises this as a BaseSSLError, Py3 raises it as socket timeout.\u001b[39;00m\n\u001b[1;32m    <a href='file:///Users/mahdiazhari/world-bank/wb-scraping/lib/python3.9/site-packages/urllib3/connectionpool.py?line=388'>389</a>\u001b[0m     \u001b[39mself\u001b[39m\u001b[39m.\u001b[39m_raise_timeout(err\u001b[39m=\u001b[39me, url\u001b[39m=\u001b[39murl, timeout_value\u001b[39m=\u001b[39mconn\u001b[39m.\u001b[39mtimeout)\n",
      "File \u001b[0;32m~/world-bank/wb-scraping/lib/python3.9/site-packages/urllib3/connectionpool.py:1040\u001b[0m, in \u001b[0;36mHTTPSConnectionPool._validate_conn\u001b[0;34m(self, conn)\u001b[0m\n\u001b[1;32m   <a href='file:///Users/mahdiazhari/world-bank/wb-scraping/lib/python3.9/site-packages/urllib3/connectionpool.py?line=1037'>1038</a>\u001b[0m \u001b[39m# Force connect early to allow us to validate the connection.\u001b[39;00m\n\u001b[1;32m   <a href='file:///Users/mahdiazhari/world-bank/wb-scraping/lib/python3.9/site-packages/urllib3/connectionpool.py?line=1038'>1039</a>\u001b[0m \u001b[39mif\u001b[39;00m \u001b[39mnot\u001b[39;00m \u001b[39mgetattr\u001b[39m(conn, \u001b[39m\"\u001b[39m\u001b[39msock\u001b[39m\u001b[39m\"\u001b[39m, \u001b[39mNone\u001b[39;00m):  \u001b[39m# AppEngine might not have  `.sock`\u001b[39;00m\n\u001b[0;32m-> <a href='file:///Users/mahdiazhari/world-bank/wb-scraping/lib/python3.9/site-packages/urllib3/connectionpool.py?line=1039'>1040</a>\u001b[0m     conn\u001b[39m.\u001b[39;49mconnect()\n\u001b[1;32m   <a href='file:///Users/mahdiazhari/world-bank/wb-scraping/lib/python3.9/site-packages/urllib3/connectionpool.py?line=1041'>1042</a>\u001b[0m \u001b[39mif\u001b[39;00m \u001b[39mnot\u001b[39;00m conn\u001b[39m.\u001b[39mis_verified:\n\u001b[1;32m   <a href='file:///Users/mahdiazhari/world-bank/wb-scraping/lib/python3.9/site-packages/urllib3/connectionpool.py?line=1042'>1043</a>\u001b[0m     warnings\u001b[39m.\u001b[39mwarn(\n\u001b[1;32m   <a href='file:///Users/mahdiazhari/world-bank/wb-scraping/lib/python3.9/site-packages/urllib3/connectionpool.py?line=1043'>1044</a>\u001b[0m         (\n\u001b[1;32m   <a href='file:///Users/mahdiazhari/world-bank/wb-scraping/lib/python3.9/site-packages/urllib3/connectionpool.py?line=1044'>1045</a>\u001b[0m             \u001b[39m\"\u001b[39m\u001b[39mUnverified HTTPS request is being made to host \u001b[39m\u001b[39m'\u001b[39m\u001b[39m%s\u001b[39;00m\u001b[39m'\u001b[39m\u001b[39m. \u001b[39m\u001b[39m\"\u001b[39m\n\u001b[0;32m   (...)\u001b[0m\n\u001b[1;32m   <a href='file:///Users/mahdiazhari/world-bank/wb-scraping/lib/python3.9/site-packages/urllib3/connectionpool.py?line=1049'>1050</a>\u001b[0m         InsecureRequestWarning,\n\u001b[1;32m   <a href='file:///Users/mahdiazhari/world-bank/wb-scraping/lib/python3.9/site-packages/urllib3/connectionpool.py?line=1050'>1051</a>\u001b[0m     )\n",
      "File \u001b[0;32m~/world-bank/wb-scraping/lib/python3.9/site-packages/urllib3/connection.py:414\u001b[0m, in \u001b[0;36mHTTPSConnection.connect\u001b[0;34m(self)\u001b[0m\n\u001b[1;32m    <a href='file:///Users/mahdiazhari/world-bank/wb-scraping/lib/python3.9/site-packages/urllib3/connection.py?line=404'>405</a>\u001b[0m \u001b[39mif\u001b[39;00m (\n\u001b[1;32m    <a href='file:///Users/mahdiazhari/world-bank/wb-scraping/lib/python3.9/site-packages/urllib3/connection.py?line=405'>406</a>\u001b[0m     \u001b[39mnot\u001b[39;00m \u001b[39mself\u001b[39m\u001b[39m.\u001b[39mca_certs\n\u001b[1;32m    <a href='file:///Users/mahdiazhari/world-bank/wb-scraping/lib/python3.9/site-packages/urllib3/connection.py?line=406'>407</a>\u001b[0m     \u001b[39mand\u001b[39;00m \u001b[39mnot\u001b[39;00m \u001b[39mself\u001b[39m\u001b[39m.\u001b[39mca_cert_dir\n\u001b[0;32m   (...)\u001b[0m\n\u001b[1;32m    <a href='file:///Users/mahdiazhari/world-bank/wb-scraping/lib/python3.9/site-packages/urllib3/connection.py?line=409'>410</a>\u001b[0m     \u001b[39mand\u001b[39;00m \u001b[39mhasattr\u001b[39m(context, \u001b[39m\"\u001b[39m\u001b[39mload_default_certs\u001b[39m\u001b[39m\"\u001b[39m)\n\u001b[1;32m    <a href='file:///Users/mahdiazhari/world-bank/wb-scraping/lib/python3.9/site-packages/urllib3/connection.py?line=410'>411</a>\u001b[0m ):\n\u001b[1;32m    <a href='file:///Users/mahdiazhari/world-bank/wb-scraping/lib/python3.9/site-packages/urllib3/connection.py?line=411'>412</a>\u001b[0m     context\u001b[39m.\u001b[39mload_default_certs()\n\u001b[0;32m--> <a href='file:///Users/mahdiazhari/world-bank/wb-scraping/lib/python3.9/site-packages/urllib3/connection.py?line=413'>414</a>\u001b[0m \u001b[39mself\u001b[39m\u001b[39m.\u001b[39msock \u001b[39m=\u001b[39m ssl_wrap_socket(\n\u001b[1;32m    <a href='file:///Users/mahdiazhari/world-bank/wb-scraping/lib/python3.9/site-packages/urllib3/connection.py?line=414'>415</a>\u001b[0m     sock\u001b[39m=\u001b[39;49mconn,\n\u001b[1;32m    <a href='file:///Users/mahdiazhari/world-bank/wb-scraping/lib/python3.9/site-packages/urllib3/connection.py?line=415'>416</a>\u001b[0m     keyfile\u001b[39m=\u001b[39;49m\u001b[39mself\u001b[39;49m\u001b[39m.\u001b[39;49mkey_file,\n\u001b[1;32m    <a href='file:///Users/mahdiazhari/world-bank/wb-scraping/lib/python3.9/site-packages/urllib3/connection.py?line=416'>417</a>\u001b[0m     certfile\u001b[39m=\u001b[39;49m\u001b[39mself\u001b[39;49m\u001b[39m.\u001b[39;49mcert_file,\n\u001b[1;32m    <a href='file:///Users/mahdiazhari/world-bank/wb-scraping/lib/python3.9/site-packages/urllib3/connection.py?line=417'>418</a>\u001b[0m     key_password\u001b[39m=\u001b[39;49m\u001b[39mself\u001b[39;49m\u001b[39m.\u001b[39;49mkey_password,\n\u001b[1;32m    <a href='file:///Users/mahdiazhari/world-bank/wb-scraping/lib/python3.9/site-packages/urllib3/connection.py?line=418'>419</a>\u001b[0m     ca_certs\u001b[39m=\u001b[39;49m\u001b[39mself\u001b[39;49m\u001b[39m.\u001b[39;49mca_certs,\n\u001b[1;32m    <a href='file:///Users/mahdiazhari/world-bank/wb-scraping/lib/python3.9/site-packages/urllib3/connection.py?line=419'>420</a>\u001b[0m     ca_cert_dir\u001b[39m=\u001b[39;49m\u001b[39mself\u001b[39;49m\u001b[39m.\u001b[39;49mca_cert_dir,\n\u001b[1;32m    <a href='file:///Users/mahdiazhari/world-bank/wb-scraping/lib/python3.9/site-packages/urllib3/connection.py?line=420'>421</a>\u001b[0m     ca_cert_data\u001b[39m=\u001b[39;49m\u001b[39mself\u001b[39;49m\u001b[39m.\u001b[39;49mca_cert_data,\n\u001b[1;32m    <a href='file:///Users/mahdiazhari/world-bank/wb-scraping/lib/python3.9/site-packages/urllib3/connection.py?line=421'>422</a>\u001b[0m     server_hostname\u001b[39m=\u001b[39;49mserver_hostname,\n\u001b[1;32m    <a href='file:///Users/mahdiazhari/world-bank/wb-scraping/lib/python3.9/site-packages/urllib3/connection.py?line=422'>423</a>\u001b[0m     ssl_context\u001b[39m=\u001b[39;49mcontext,\n\u001b[1;32m    <a href='file:///Users/mahdiazhari/world-bank/wb-scraping/lib/python3.9/site-packages/urllib3/connection.py?line=423'>424</a>\u001b[0m     tls_in_tls\u001b[39m=\u001b[39;49mtls_in_tls,\n\u001b[1;32m    <a href='file:///Users/mahdiazhari/world-bank/wb-scraping/lib/python3.9/site-packages/urllib3/connection.py?line=424'>425</a>\u001b[0m )\n\u001b[1;32m    <a href='file:///Users/mahdiazhari/world-bank/wb-scraping/lib/python3.9/site-packages/urllib3/connection.py?line=426'>427</a>\u001b[0m \u001b[39m# If we're using all defaults and the connection\u001b[39;00m\n\u001b[1;32m    <a href='file:///Users/mahdiazhari/world-bank/wb-scraping/lib/python3.9/site-packages/urllib3/connection.py?line=427'>428</a>\u001b[0m \u001b[39m# is TLSv1 or TLSv1.1 we throw a DeprecationWarning\u001b[39;00m\n\u001b[1;32m    <a href='file:///Users/mahdiazhari/world-bank/wb-scraping/lib/python3.9/site-packages/urllib3/connection.py?line=428'>429</a>\u001b[0m \u001b[39m# for the host.\u001b[39;00m\n\u001b[1;32m    <a href='file:///Users/mahdiazhari/world-bank/wb-scraping/lib/python3.9/site-packages/urllib3/connection.py?line=429'>430</a>\u001b[0m \u001b[39mif\u001b[39;00m (\n\u001b[1;32m    <a href='file:///Users/mahdiazhari/world-bank/wb-scraping/lib/python3.9/site-packages/urllib3/connection.py?line=430'>431</a>\u001b[0m     default_ssl_context\n\u001b[1;32m    <a href='file:///Users/mahdiazhari/world-bank/wb-scraping/lib/python3.9/site-packages/urllib3/connection.py?line=431'>432</a>\u001b[0m     \u001b[39mand\u001b[39;00m \u001b[39mself\u001b[39m\u001b[39m.\u001b[39mssl_version \u001b[39mis\u001b[39;00m \u001b[39mNone\u001b[39;00m\n\u001b[1;32m    <a href='file:///Users/mahdiazhari/world-bank/wb-scraping/lib/python3.9/site-packages/urllib3/connection.py?line=432'>433</a>\u001b[0m     \u001b[39mand\u001b[39;00m \u001b[39mhasattr\u001b[39m(\u001b[39mself\u001b[39m\u001b[39m.\u001b[39msock, \u001b[39m\"\u001b[39m\u001b[39mversion\u001b[39m\u001b[39m\"\u001b[39m)\n\u001b[1;32m    <a href='file:///Users/mahdiazhari/world-bank/wb-scraping/lib/python3.9/site-packages/urllib3/connection.py?line=433'>434</a>\u001b[0m     \u001b[39mand\u001b[39;00m \u001b[39mself\u001b[39m\u001b[39m.\u001b[39msock\u001b[39m.\u001b[39mversion() \u001b[39min\u001b[39;00m {\u001b[39m\"\u001b[39m\u001b[39mTLSv1\u001b[39m\u001b[39m\"\u001b[39m, \u001b[39m\"\u001b[39m\u001b[39mTLSv1.1\u001b[39m\u001b[39m\"\u001b[39m}\n\u001b[1;32m    <a href='file:///Users/mahdiazhari/world-bank/wb-scraping/lib/python3.9/site-packages/urllib3/connection.py?line=434'>435</a>\u001b[0m ):\n",
      "File \u001b[0;32m~/world-bank/wb-scraping/lib/python3.9/site-packages/urllib3/util/ssl_.py:449\u001b[0m, in \u001b[0;36mssl_wrap_socket\u001b[0;34m(sock, keyfile, certfile, cert_reqs, ca_certs, server_hostname, ssl_version, ciphers, ssl_context, ca_cert_dir, key_password, ca_cert_data, tls_in_tls)\u001b[0m\n\u001b[1;32m    <a href='file:///Users/mahdiazhari/world-bank/wb-scraping/lib/python3.9/site-packages/urllib3/util/ssl_.py?line=436'>437</a>\u001b[0m     warnings\u001b[39m.\u001b[39mwarn(\n\u001b[1;32m    <a href='file:///Users/mahdiazhari/world-bank/wb-scraping/lib/python3.9/site-packages/urllib3/util/ssl_.py?line=437'>438</a>\u001b[0m         \u001b[39m\"\u001b[39m\u001b[39mAn HTTPS request has been made, but the SNI (Server Name \u001b[39m\u001b[39m\"\u001b[39m\n\u001b[1;32m    <a href='file:///Users/mahdiazhari/world-bank/wb-scraping/lib/python3.9/site-packages/urllib3/util/ssl_.py?line=438'>439</a>\u001b[0m         \u001b[39m\"\u001b[39m\u001b[39mIndication) extension to TLS is not available on this platform. \u001b[39m\u001b[39m\"\u001b[39m\n\u001b[0;32m   (...)\u001b[0m\n\u001b[1;32m    <a href='file:///Users/mahdiazhari/world-bank/wb-scraping/lib/python3.9/site-packages/urllib3/util/ssl_.py?line=444'>445</a>\u001b[0m         SNIMissingWarning,\n\u001b[1;32m    <a href='file:///Users/mahdiazhari/world-bank/wb-scraping/lib/python3.9/site-packages/urllib3/util/ssl_.py?line=445'>446</a>\u001b[0m     )\n\u001b[1;32m    <a href='file:///Users/mahdiazhari/world-bank/wb-scraping/lib/python3.9/site-packages/urllib3/util/ssl_.py?line=447'>448</a>\u001b[0m \u001b[39mif\u001b[39;00m send_sni:\n\u001b[0;32m--> <a href='file:///Users/mahdiazhari/world-bank/wb-scraping/lib/python3.9/site-packages/urllib3/util/ssl_.py?line=448'>449</a>\u001b[0m     ssl_sock \u001b[39m=\u001b[39m _ssl_wrap_socket_impl(\n\u001b[1;32m    <a href='file:///Users/mahdiazhari/world-bank/wb-scraping/lib/python3.9/site-packages/urllib3/util/ssl_.py?line=449'>450</a>\u001b[0m         sock, context, tls_in_tls, server_hostname\u001b[39m=\u001b[39;49mserver_hostname\n\u001b[1;32m    <a href='file:///Users/mahdiazhari/world-bank/wb-scraping/lib/python3.9/site-packages/urllib3/util/ssl_.py?line=450'>451</a>\u001b[0m     )\n\u001b[1;32m    <a href='file:///Users/mahdiazhari/world-bank/wb-scraping/lib/python3.9/site-packages/urllib3/util/ssl_.py?line=451'>452</a>\u001b[0m \u001b[39melse\u001b[39;00m:\n\u001b[1;32m    <a href='file:///Users/mahdiazhari/world-bank/wb-scraping/lib/python3.9/site-packages/urllib3/util/ssl_.py?line=452'>453</a>\u001b[0m     ssl_sock \u001b[39m=\u001b[39m _ssl_wrap_socket_impl(sock, context, tls_in_tls)\n",
      "File \u001b[0;32m~/world-bank/wb-scraping/lib/python3.9/site-packages/urllib3/util/ssl_.py:493\u001b[0m, in \u001b[0;36m_ssl_wrap_socket_impl\u001b[0;34m(sock, ssl_context, tls_in_tls, server_hostname)\u001b[0m\n\u001b[1;32m    <a href='file:///Users/mahdiazhari/world-bank/wb-scraping/lib/python3.9/site-packages/urllib3/util/ssl_.py?line=489'>490</a>\u001b[0m     \u001b[39mreturn\u001b[39;00m SSLTransport(sock, ssl_context, server_hostname)\n\u001b[1;32m    <a href='file:///Users/mahdiazhari/world-bank/wb-scraping/lib/python3.9/site-packages/urllib3/util/ssl_.py?line=491'>492</a>\u001b[0m \u001b[39mif\u001b[39;00m server_hostname:\n\u001b[0;32m--> <a href='file:///Users/mahdiazhari/world-bank/wb-scraping/lib/python3.9/site-packages/urllib3/util/ssl_.py?line=492'>493</a>\u001b[0m     \u001b[39mreturn\u001b[39;00m ssl_context\u001b[39m.\u001b[39;49mwrap_socket(sock, server_hostname\u001b[39m=\u001b[39;49mserver_hostname)\n\u001b[1;32m    <a href='file:///Users/mahdiazhari/world-bank/wb-scraping/lib/python3.9/site-packages/urllib3/util/ssl_.py?line=493'>494</a>\u001b[0m \u001b[39melse\u001b[39;00m:\n\u001b[1;32m    <a href='file:///Users/mahdiazhari/world-bank/wb-scraping/lib/python3.9/site-packages/urllib3/util/ssl_.py?line=494'>495</a>\u001b[0m     \u001b[39mreturn\u001b[39;00m ssl_context\u001b[39m.\u001b[39mwrap_socket(sock)\n",
      "File \u001b[0;32m/usr/local/Cellar/python@3.9/3.9.1_1/Frameworks/Python.framework/Versions/3.9/lib/python3.9/ssl.py:500\u001b[0m, in \u001b[0;36mSSLContext.wrap_socket\u001b[0;34m(self, sock, server_side, do_handshake_on_connect, suppress_ragged_eofs, server_hostname, session)\u001b[0m\n\u001b[1;32m    <a href='file:///usr/local/Cellar/python%403.9/3.9.1_1/Frameworks/Python.framework/Versions/3.9/lib/python3.9/ssl.py?line=493'>494</a>\u001b[0m \u001b[39mdef\u001b[39;00m \u001b[39mwrap_socket\u001b[39m(\u001b[39mself\u001b[39m, sock, server_side\u001b[39m=\u001b[39m\u001b[39mFalse\u001b[39;00m,\n\u001b[1;32m    <a href='file:///usr/local/Cellar/python%403.9/3.9.1_1/Frameworks/Python.framework/Versions/3.9/lib/python3.9/ssl.py?line=494'>495</a>\u001b[0m                 do_handshake_on_connect\u001b[39m=\u001b[39m\u001b[39mTrue\u001b[39;00m,\n\u001b[1;32m    <a href='file:///usr/local/Cellar/python%403.9/3.9.1_1/Frameworks/Python.framework/Versions/3.9/lib/python3.9/ssl.py?line=495'>496</a>\u001b[0m                 suppress_ragged_eofs\u001b[39m=\u001b[39m\u001b[39mTrue\u001b[39;00m,\n\u001b[1;32m    <a href='file:///usr/local/Cellar/python%403.9/3.9.1_1/Frameworks/Python.framework/Versions/3.9/lib/python3.9/ssl.py?line=496'>497</a>\u001b[0m                 server_hostname\u001b[39m=\u001b[39m\u001b[39mNone\u001b[39;00m, session\u001b[39m=\u001b[39m\u001b[39mNone\u001b[39;00m):\n\u001b[1;32m    <a href='file:///usr/local/Cellar/python%403.9/3.9.1_1/Frameworks/Python.framework/Versions/3.9/lib/python3.9/ssl.py?line=497'>498</a>\u001b[0m     \u001b[39m# SSLSocket class handles server_hostname encoding before it calls\u001b[39;00m\n\u001b[1;32m    <a href='file:///usr/local/Cellar/python%403.9/3.9.1_1/Frameworks/Python.framework/Versions/3.9/lib/python3.9/ssl.py?line=498'>499</a>\u001b[0m     \u001b[39m# ctx._wrap_socket()\u001b[39;00m\n\u001b[0;32m--> <a href='file:///usr/local/Cellar/python%403.9/3.9.1_1/Frameworks/Python.framework/Versions/3.9/lib/python3.9/ssl.py?line=499'>500</a>\u001b[0m     \u001b[39mreturn\u001b[39;00m \u001b[39mself\u001b[39;49m\u001b[39m.\u001b[39;49msslsocket_class\u001b[39m.\u001b[39;49m_create(\n\u001b[1;32m    <a href='file:///usr/local/Cellar/python%403.9/3.9.1_1/Frameworks/Python.framework/Versions/3.9/lib/python3.9/ssl.py?line=500'>501</a>\u001b[0m         sock\u001b[39m=\u001b[39;49msock,\n\u001b[1;32m    <a href='file:///usr/local/Cellar/python%403.9/3.9.1_1/Frameworks/Python.framework/Versions/3.9/lib/python3.9/ssl.py?line=501'>502</a>\u001b[0m         server_side\u001b[39m=\u001b[39;49mserver_side,\n\u001b[1;32m    <a href='file:///usr/local/Cellar/python%403.9/3.9.1_1/Frameworks/Python.framework/Versions/3.9/lib/python3.9/ssl.py?line=502'>503</a>\u001b[0m         do_handshake_on_connect\u001b[39m=\u001b[39;49mdo_handshake_on_connect,\n\u001b[1;32m    <a href='file:///usr/local/Cellar/python%403.9/3.9.1_1/Frameworks/Python.framework/Versions/3.9/lib/python3.9/ssl.py?line=503'>504</a>\u001b[0m         suppress_ragged_eofs\u001b[39m=\u001b[39;49msuppress_ragged_eofs,\n\u001b[1;32m    <a href='file:///usr/local/Cellar/python%403.9/3.9.1_1/Frameworks/Python.framework/Versions/3.9/lib/python3.9/ssl.py?line=504'>505</a>\u001b[0m         server_hostname\u001b[39m=\u001b[39;49mserver_hostname,\n\u001b[1;32m    <a href='file:///usr/local/Cellar/python%403.9/3.9.1_1/Frameworks/Python.framework/Versions/3.9/lib/python3.9/ssl.py?line=505'>506</a>\u001b[0m         context\u001b[39m=\u001b[39;49m\u001b[39mself\u001b[39;49m,\n\u001b[1;32m    <a href='file:///usr/local/Cellar/python%403.9/3.9.1_1/Frameworks/Python.framework/Versions/3.9/lib/python3.9/ssl.py?line=506'>507</a>\u001b[0m         session\u001b[39m=\u001b[39;49msession\n\u001b[1;32m    <a href='file:///usr/local/Cellar/python%403.9/3.9.1_1/Frameworks/Python.framework/Versions/3.9/lib/python3.9/ssl.py?line=507'>508</a>\u001b[0m     )\n",
      "File \u001b[0;32m/usr/local/Cellar/python@3.9/3.9.1_1/Frameworks/Python.framework/Versions/3.9/lib/python3.9/ssl.py:1040\u001b[0m, in \u001b[0;36mSSLSocket._create\u001b[0;34m(cls, sock, server_side, do_handshake_on_connect, suppress_ragged_eofs, server_hostname, context, session)\u001b[0m\n\u001b[1;32m   <a href='file:///usr/local/Cellar/python%403.9/3.9.1_1/Frameworks/Python.framework/Versions/3.9/lib/python3.9/ssl.py?line=1036'>1037</a>\u001b[0m         \u001b[39mif\u001b[39;00m timeout \u001b[39m==\u001b[39m \u001b[39m0.0\u001b[39m:\n\u001b[1;32m   <a href='file:///usr/local/Cellar/python%403.9/3.9.1_1/Frameworks/Python.framework/Versions/3.9/lib/python3.9/ssl.py?line=1037'>1038</a>\u001b[0m             \u001b[39m# non-blocking\u001b[39;00m\n\u001b[1;32m   <a href='file:///usr/local/Cellar/python%403.9/3.9.1_1/Frameworks/Python.framework/Versions/3.9/lib/python3.9/ssl.py?line=1038'>1039</a>\u001b[0m             \u001b[39mraise\u001b[39;00m \u001b[39mValueError\u001b[39;00m(\u001b[39m\"\u001b[39m\u001b[39mdo_handshake_on_connect should not be specified for non-blocking sockets\u001b[39m\u001b[39m\"\u001b[39m)\n\u001b[0;32m-> <a href='file:///usr/local/Cellar/python%403.9/3.9.1_1/Frameworks/Python.framework/Versions/3.9/lib/python3.9/ssl.py?line=1039'>1040</a>\u001b[0m         \u001b[39mself\u001b[39;49m\u001b[39m.\u001b[39;49mdo_handshake()\n\u001b[1;32m   <a href='file:///usr/local/Cellar/python%403.9/3.9.1_1/Frameworks/Python.framework/Versions/3.9/lib/python3.9/ssl.py?line=1040'>1041</a>\u001b[0m \u001b[39mexcept\u001b[39;00m (\u001b[39mOSError\u001b[39;00m, \u001b[39mValueError\u001b[39;00m):\n\u001b[1;32m   <a href='file:///usr/local/Cellar/python%403.9/3.9.1_1/Frameworks/Python.framework/Versions/3.9/lib/python3.9/ssl.py?line=1041'>1042</a>\u001b[0m     \u001b[39mself\u001b[39m\u001b[39m.\u001b[39mclose()\n",
      "File \u001b[0;32m/usr/local/Cellar/python@3.9/3.9.1_1/Frameworks/Python.framework/Versions/3.9/lib/python3.9/ssl.py:1309\u001b[0m, in \u001b[0;36mSSLSocket.do_handshake\u001b[0;34m(self, block)\u001b[0m\n\u001b[1;32m   <a href='file:///usr/local/Cellar/python%403.9/3.9.1_1/Frameworks/Python.framework/Versions/3.9/lib/python3.9/ssl.py?line=1306'>1307</a>\u001b[0m     \u001b[39mif\u001b[39;00m timeout \u001b[39m==\u001b[39m \u001b[39m0.0\u001b[39m \u001b[39mand\u001b[39;00m block:\n\u001b[1;32m   <a href='file:///usr/local/Cellar/python%403.9/3.9.1_1/Frameworks/Python.framework/Versions/3.9/lib/python3.9/ssl.py?line=1307'>1308</a>\u001b[0m         \u001b[39mself\u001b[39m\u001b[39m.\u001b[39msettimeout(\u001b[39mNone\u001b[39;00m)\n\u001b[0;32m-> <a href='file:///usr/local/Cellar/python%403.9/3.9.1_1/Frameworks/Python.framework/Versions/3.9/lib/python3.9/ssl.py?line=1308'>1309</a>\u001b[0m     \u001b[39mself\u001b[39;49m\u001b[39m.\u001b[39;49m_sslobj\u001b[39m.\u001b[39;49mdo_handshake()\n\u001b[1;32m   <a href='file:///usr/local/Cellar/python%403.9/3.9.1_1/Frameworks/Python.framework/Versions/3.9/lib/python3.9/ssl.py?line=1309'>1310</a>\u001b[0m \u001b[39mfinally\u001b[39;00m:\n\u001b[1;32m   <a href='file:///usr/local/Cellar/python%403.9/3.9.1_1/Frameworks/Python.framework/Versions/3.9/lib/python3.9/ssl.py?line=1310'>1311</a>\u001b[0m     \u001b[39mself\u001b[39m\u001b[39m.\u001b[39msettimeout(timeout)\n",
      "\u001b[0;31mKeyboardInterrupt\u001b[0m: "
     ]
    }
   ],
   "source": [
    "result_list = ru_spider.start_scrape(max_pages=65,multithread=False) #max page is only 65, have to disable multithreading because of  blocking"
   ]
  },
  {
   "cell_type": "code",
   "execution_count": null,
   "metadata": {},
   "outputs": [],
   "source": [
    "result_list"
   ]
  },
  {
   "cell_type": "code",
   "execution_count": null,
   "metadata": {},
   "outputs": [],
   "source": [
    "result_df = pd.DataFrame(result_list)"
   ]
  },
  {
   "cell_type": "code",
   "execution_count": null,
   "metadata": {},
   "outputs": [],
   "source": [
    "result_df"
   ]
  },
  {
   "cell_type": "code",
   "execution_count": null,
   "metadata": {},
   "outputs": [],
   "source": [
    "result_df.to_csv('data/russia/russian_food_com.csv')"
   ]
  },
  {
   "cell_type": "markdown",
   "metadata": {},
   "source": [
    "I got blocked from accessing this website whilst I was scraping the 7th page. Changing IP addresses with VPN gives the same problem."
   ]
  },
  {
   "cell_type": "code",
   "execution_count": null,
   "metadata": {},
   "outputs": [],
   "source": []
  }
 ],
 "metadata": {
  "interpreter": {
   "hash": "7f97af7b90ec3405e1f66aa9bfad4ba40234615df6d29df3ef268808d6a9feec"
  },
  "kernelspec": {
   "display_name": "Python 3.9.1 ('wb-scraping': venv)",
   "language": "python",
   "name": "python3"
  },
  "language_info": {
   "codemirror_mode": {
    "name": "ipython",
    "version": 3
   },
   "file_extension": ".py",
   "mimetype": "text/x-python",
   "name": "python",
   "nbconvert_exporter": "python",
   "pygments_lexer": "ipython3",
   "version": "3.9.1"
  },
  "orig_nbformat": 4
 },
 "nbformat": 4,
 "nbformat_minor": 2
}
